{
  "nbformat": 4,
  "nbformat_minor": 0,
  "metadata": {
    "kernelspec": {
      "display_name": "Python 3",
      "language": "python",
      "name": "python3"
    },
    "language_info": {
      "codemirror_mode": {
        "name": "ipython",
        "version": 3
      },
      "file_extension": ".py",
      "mimetype": "text/x-python",
      "name": "python",
      "nbconvert_exporter": "python",
      "pygments_lexer": "ipython3",
      "version": "3.6.1"
    },
    "colab": {
      "name": "Copy of PredictionofArrivalDelay-PySpark-onColab.ipynb",
      "provenance": [],
      "collapsed_sections": []
    }
  },
  "cells": [
    {
      "cell_type": "code",
      "metadata": {
        "id": "0dTkA-bDa5bm"
      },
      "source": [
        "!apt-get install openjdk-8-jdk-headless -qq > /dev/null\n",
        "!wget -q https://archive.apache.org/dist/spark/spark-2.4.1/spark-2.4.1-bin-hadoop2.7.tgz\n",
        "!tar xf spark-2.4.1-bin-hadoop2.7.tgz\n",
        "!pip install -q findspark"
      ],
      "execution_count": 1,
      "outputs": []
    },
    {
      "cell_type": "code",
      "metadata": {
        "id": "cy4_WOqEa5GJ"
      },
      "source": [
        "import os\n",
        "os.environ[\"JAVA_HOME\"] = \"/usr/lib/jvm/java-8-openjdk-amd64\"\n",
        "os.environ[\"SPARK_HOME\"] = \"/content/spark-2.4.1-bin-hadoop2.7\""
      ],
      "execution_count": 2,
      "outputs": []
    },
    {
      "cell_type": "code",
      "metadata": {
        "id": "kI7zVpqja4du"
      },
      "source": [
        "import findspark\n",
        "findspark.init()\n",
        "from pyspark.sql import SparkSession\n",
        "spark = SparkSession.builder.master(\"local[*]\").getOrCreate()"
      ],
      "execution_count": 3,
      "outputs": []
    },
    {
      "cell_type": "code",
      "metadata": {
        "collapsed": true,
        "id": "gLOiqgf1a2Ku"
      },
      "source": [
        "from pyspark.sql import SparkSession"
      ],
      "execution_count": 4,
      "outputs": []
    },
    {
      "cell_type": "code",
      "metadata": {
        "collapsed": true,
        "id": "GBqMbCCxa2Kv"
      },
      "source": [
        "spark = SparkSession.builder \\\n",
        "   .appName(\"Neural Network Model\") \\\n",
        "   .config(\"spark.executor.memory\", \"3gb\") \\\n",
        "   .getOrCreate()\n",
        "   \n",
        "sc = spark.sparkContext"
      ],
      "execution_count": 5,
      "outputs": []
    },
    {
      "cell_type": "code",
      "metadata": {
        "id": "MjoDgjaja2Kv",
        "colab": {
          "base_uri": "https://localhost:8080/",
          "height": 210
        },
        "outputId": "eae22c3d-1ea3-48f1-c3a9-b4136d643011"
      },
      "source": [
        "sc"
      ],
      "execution_count": 6,
      "outputs": [
        {
          "output_type": "execute_result",
          "data": {
            "text/html": [
              "\n",
              "        <div>\n",
              "            <p><b>SparkContext</b></p>\n",
              "\n",
              "            <p><a href=\"http://7320eeeffc99:4040\">Spark UI</a></p>\n",
              "\n",
              "            <dl>\n",
              "              <dt>Version</dt>\n",
              "                <dd><code>v2.4.1</code></dd>\n",
              "              <dt>Master</dt>\n",
              "                <dd><code>local[*]</code></dd>\n",
              "              <dt>AppName</dt>\n",
              "                <dd><code>pyspark-shell</code></dd>\n",
              "            </dl>\n",
              "        </div>\n",
              "        "
            ],
            "text/plain": [
              "<SparkContext master=local[*] appName=pyspark-shell>"
            ]
          },
          "metadata": {},
          "execution_count": 6
        }
      ]
    },
    {
      "cell_type": "markdown",
      "source": [
        "**2. Data Understanding using SparkSQL**"
      ],
      "metadata": {
        "id": "TLDou9Hoh7d6"
      }
    },
    {
      "cell_type": "code",
      "metadata": {
        "id": "I7c5vxPNAPVi",
        "outputId": "790807e5-3e95-49c1-bf57-31cec1954fa4",
        "colab": {
          "base_uri": "https://localhost:8080/"
        }
      },
      "source": [
        "! wget https://storage.googleapis.com/class25jan2022/share/2008.csv"
      ],
      "execution_count": 7,
      "outputs": [
        {
          "output_type": "stream",
          "name": "stdout",
          "text": [
            "--2022-01-29 13:54:31--  https://storage.googleapis.com/class25jan2022/share/2008.csv\n",
            "Resolving storage.googleapis.com (storage.googleapis.com)... 172.217.1.208, 142.250.73.208, 142.250.65.80, ...\n",
            "Connecting to storage.googleapis.com (storage.googleapis.com)|172.217.1.208|:443... connected.\n",
            "HTTP request sent, awaiting response... 200 OK\n",
            "Length: 689413344 (657M) [text/csv]\n",
            "Saving to: ‘2008.csv’\n",
            "\n",
            "2008.csv            100%[===================>] 657.48M   204MB/s    in 3.3s    \n",
            "\n",
            "2022-01-29 13:54:35 (200 MB/s) - ‘2008.csv’ saved [689413344/689413344]\n",
            "\n"
          ]
        }
      ]
    },
    {
      "cell_type": "code",
      "source": [
        "! wc -l ./2008.csv"
      ],
      "metadata": {
        "id": "uojN1MQGiAvK",
        "outputId": "050bc0de-51de-4284-d056-a0598fcf57a4",
        "colab": {
          "base_uri": "https://localhost:8080/"
        }
      },
      "execution_count": 8,
      "outputs": [
        {
          "output_type": "stream",
          "name": "stdout",
          "text": [
            "7009729 ./2008.csv\n"
          ]
        }
      ]
    },
    {
      "cell_type": "code",
      "source": [
        "! head -3 2008.csv"
      ],
      "metadata": {
        "id": "zqqblQ21lwMY",
        "outputId": "1d7ed28d-6f91-4161-fea5-447ab10c14f8",
        "colab": {
          "base_uri": "https://localhost:8080/"
        }
      },
      "execution_count": 9,
      "outputs": [
        {
          "output_type": "stream",
          "name": "stdout",
          "text": [
            "Year,Month,DayofMonth,DayOfWeek,DepTime,CRSDepTime,ArrTime,CRSArrTime,UniqueCarrier,FlightNum,TailNum,ActualElapsedTime,CRSElapsedTime,AirTime,ArrDelay,DepDelay,Origin,Dest,Distance,TaxiIn,TaxiOut,Cancelled,CancellationCode,Diverted,CarrierDelay,WeatherDelay,NASDelay,SecurityDelay,LateAircraftDelay\n",
            "2008,1,3,4,2003,1955,2211,2225,WN,335,N712SW,128,150,116,-14,8,IAD,TPA,810,4,8,0,,0,NA,NA,NA,NA,NA\n",
            "2008,1,3,4,754,735,1002,1000,WN,3231,N772SW,128,145,113,2,19,IAD,TPA,810,5,10,0,,0,NA,NA,NA,NA,NA\n"
          ]
        }
      ]
    },
    {
      "cell_type": "code",
      "source": [
        "raw_df = spark.read.format('csv').\\\n",
        "option('header','true').option('mode','DROPMALFORMED')\\\n",
        ".load('2008.csv')"
      ],
      "metadata": {
        "id": "cDq69I8Mlx7a"
      },
      "execution_count": 10,
      "outputs": []
    },
    {
      "cell_type": "code",
      "source": [
        "raw_df.count()"
      ],
      "metadata": {
        "id": "TB9PI8WFl5n7",
        "outputId": "311669ec-ae36-40dd-89b2-7c9fb744e4a3",
        "colab": {
          "base_uri": "https://localhost:8080/"
        }
      },
      "execution_count": 11,
      "outputs": [
        {
          "output_type": "execute_result",
          "data": {
            "text/plain": [
              "7009728"
            ]
          },
          "metadata": {},
          "execution_count": 11
        }
      ]
    },
    {
      "cell_type": "code",
      "source": [
        "raw_df.printSchema()"
      ],
      "metadata": {
        "id": "_VNu0r3nl9wj",
        "outputId": "762389d7-0356-42b6-dc0e-faf26293db3a",
        "colab": {
          "base_uri": "https://localhost:8080/"
        }
      },
      "execution_count": 12,
      "outputs": [
        {
          "output_type": "stream",
          "name": "stdout",
          "text": [
            "root\n",
            " |-- Year: string (nullable = true)\n",
            " |-- Month: string (nullable = true)\n",
            " |-- DayofMonth: string (nullable = true)\n",
            " |-- DayOfWeek: string (nullable = true)\n",
            " |-- DepTime: string (nullable = true)\n",
            " |-- CRSDepTime: string (nullable = true)\n",
            " |-- ArrTime: string (nullable = true)\n",
            " |-- CRSArrTime: string (nullable = true)\n",
            " |-- UniqueCarrier: string (nullable = true)\n",
            " |-- FlightNum: string (nullable = true)\n",
            " |-- TailNum: string (nullable = true)\n",
            " |-- ActualElapsedTime: string (nullable = true)\n",
            " |-- CRSElapsedTime: string (nullable = true)\n",
            " |-- AirTime: string (nullable = true)\n",
            " |-- ArrDelay: string (nullable = true)\n",
            " |-- DepDelay: string (nullable = true)\n",
            " |-- Origin: string (nullable = true)\n",
            " |-- Dest: string (nullable = true)\n",
            " |-- Distance: string (nullable = true)\n",
            " |-- TaxiIn: string (nullable = true)\n",
            " |-- TaxiOut: string (nullable = true)\n",
            " |-- Cancelled: string (nullable = true)\n",
            " |-- CancellationCode: string (nullable = true)\n",
            " |-- Diverted: string (nullable = true)\n",
            " |-- CarrierDelay: string (nullable = true)\n",
            " |-- WeatherDelay: string (nullable = true)\n",
            " |-- NASDelay: string (nullable = true)\n",
            " |-- SecurityDelay: string (nullable = true)\n",
            " |-- LateAircraftDelay: string (nullable = true)\n",
            "\n"
          ]
        }
      ]
    },
    {
      "cell_type": "code",
      "source": [
        "raw_df\\\n",
        ".select(['DepTime','TaxiOut','TaxiIn',\\\n",
        "                     'DayOfWeek','Distance','ArrDelay'])\\\n",
        "                     .describe().show()"
      ],
      "metadata": {
        "colab": {
          "base_uri": "https://localhost:8080/"
        },
        "id": "Kf8Eeckv77qi",
        "outputId": "3a2ad85c-a3ad-4613-aa5b-2bfa12a85423"
      },
      "execution_count": 13,
      "outputs": [
        {
          "output_type": "stream",
          "name": "stdout",
          "text": [
            "+-------+------------------+------------------+-----------------+------------------+-----------------+-----------------+\n",
            "|summary|           DepTime|           TaxiOut|           TaxiIn|         DayOfWeek|         Distance|         ArrDelay|\n",
            "+-------+------------------+------------------+-----------------+------------------+-----------------+-----------------+\n",
            "|  count|           7009728|           7009728|          7009728|           7009728|          7009728|          7009728|\n",
            "|   mean|1333.8300461105448|16.453045177492882|6.860851704974527|3.9241815088973495|726.3870294253928| 8.16845238729114|\n",
            "| stddev|478.06889486629836|11.332798654232155|4.933649371300466|1.9882589459851212|562.1018034840403|38.50193694882867|\n",
            "|    min|                 1|                 0|                0|                 1|              100|               -1|\n",
            "|    max|                NA|                NA|               NA|                 7|              999|               NA|\n",
            "+-------+------------------+------------------+-----------------+------------------+-----------------+-----------------+\n",
            "\n"
          ]
        }
      ]
    },
    {
      "cell_type": "code",
      "source": [
        "raw_df.groupBy('month').count().orderBy('count',ascending=False).show()"
      ],
      "metadata": {
        "colab": {
          "base_uri": "https://localhost:8080/"
        },
        "id": "OKjYsyj_F16m",
        "outputId": "b7e68dc5-e07a-4e80-98c6-c2bd96fb377e"
      },
      "execution_count": 14,
      "outputs": [
        {
          "output_type": "stream",
          "name": "stdout",
          "text": [
            "+-----+------+\n",
            "|month| count|\n",
            "+-----+------+\n",
            "|    7|627931|\n",
            "|    3|616090|\n",
            "|    8|612279|\n",
            "|    6|608665|\n",
            "|    5|606293|\n",
            "|    1|605765|\n",
            "|    4|598126|\n",
            "|    2|569236|\n",
            "|   10|556205|\n",
            "|   12|544958|\n",
            "|    9|540908|\n",
            "|   11|523272|\n",
            "+-----+------+\n",
            "\n"
          ]
        }
      ]
    },
    {
      "cell_type": "code",
      "source": [
        "from pyspark.sql import functions as sparkf"
      ],
      "metadata": {
        "id": "d6UYbZgFGsqg"
      },
      "execution_count": 15,
      "outputs": []
    },
    {
      "cell_type": "code",
      "source": [
        "raw_df.groupBy('month').agg({'month':'count','ArrDelay':'avg'})\\\n",
        ".withColumnRenamed('count(month)','numMonth')\\\n",
        ".withColumnRenamed('avg(ArrDelay)','avgArrDelay')\\\n",
        ".orderBy(sparkf.col('numMonth').desc(),sparkf.col('avgArrDelay').desc()).show()"
      ],
      "metadata": {
        "colab": {
          "base_uri": "https://localhost:8080/"
        },
        "id": "onzB_mE078mo",
        "outputId": "99e28fdd-53ef-48bb-9d33-9d5b105e2659"
      },
      "execution_count": 16,
      "outputs": [
        {
          "output_type": "stream",
          "name": "stdout",
          "text": [
            "+-----+--------+------------------+\n",
            "|month|numMonth|       avgArrDelay|\n",
            "+-----+--------+------------------+\n",
            "|    7|  627931| 9.975049681276131|\n",
            "|    3|  616090| 11.19236458018227|\n",
            "|    8|  612279|  6.91091468997087|\n",
            "|    6|  608665|13.266756009659792|\n",
            "|    5|  606293| 5.978448290248828|\n",
            "|    1|  605765|10.188855960349496|\n",
            "|    4|  598126| 6.807297481094145|\n",
            "|    2|  569236|13.077836997760205|\n",
            "|   10|  556205|0.4154954706912698|\n",
            "|   12|  544958|16.680505081496417|\n",
            "|    9|  540908|0.6977328787273043|\n",
            "|   11|  523272| 2.015857969430839|\n",
            "+-----+--------+------------------+\n",
            "\n"
          ]
        }
      ]
    },
    {
      "cell_type": "code",
      "source": [
        ""
      ],
      "metadata": {
        "id": "zP6EyO_M78Xy"
      },
      "execution_count": 16,
      "outputs": []
    }
  ]
}