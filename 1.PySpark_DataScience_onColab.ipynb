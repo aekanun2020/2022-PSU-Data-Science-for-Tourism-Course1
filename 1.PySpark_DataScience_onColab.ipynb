{
  "nbformat": 4,
  "nbformat_minor": 0,
  "metadata": {
    "kernelspec": {
      "display_name": "Python 3",
      "language": "python",
      "name": "python3"
    },
    "language_info": {
      "codemirror_mode": {
        "name": "ipython",
        "version": 3
      },
      "file_extension": ".py",
      "mimetype": "text/x-python",
      "name": "python",
      "nbconvert_exporter": "python",
      "pygments_lexer": "ipython3",
      "version": "3.6.1"
    },
    "colab": {
      "name": "PySpark-DataScience-onColab.ipynb",
      "provenance": [],
      "collapsed_sections": []
    }
  },
  "cells": [
    {
      "cell_type": "code",
      "metadata": {
        "id": "0dTkA-bDa5bm"
      },
      "source": [
        "!apt-get install openjdk-8-jdk-headless -qq > /dev/null\n",
        "!wget -q https://archive.apache.org/dist/spark/spark-2.4.1/spark-2.4.1-bin-hadoop2.7.tgz\n",
        "!tar xf spark-2.4.1-bin-hadoop2.7.tgz\n",
        "!pip install -q findspark"
      ],
      "execution_count": 1,
      "outputs": []
    },
    {
      "cell_type": "code",
      "metadata": {
        "id": "cy4_WOqEa5GJ"
      },
      "source": [
        "import os\n",
        "os.environ[\"JAVA_HOME\"] = \"/usr/lib/jvm/java-8-openjdk-amd64\"\n",
        "os.environ[\"SPARK_HOME\"] = \"/content/spark-2.4.1-bin-hadoop2.7\""
      ],
      "execution_count": 2,
      "outputs": []
    },
    {
      "cell_type": "code",
      "metadata": {
        "id": "kI7zVpqja4du"
      },
      "source": [
        "import findspark\n",
        "findspark.init()\n",
        "from pyspark.sql import SparkSession\n",
        "spark = SparkSession.builder.master(\"local[*]\").getOrCreate()"
      ],
      "execution_count": 3,
      "outputs": []
    },
    {
      "cell_type": "code",
      "metadata": {
        "collapsed": true,
        "id": "gLOiqgf1a2Ku"
      },
      "source": [
        "from pyspark.sql import SparkSession"
      ],
      "execution_count": 4,
      "outputs": []
    },
    {
      "cell_type": "code",
      "metadata": {
        "collapsed": true,
        "id": "GBqMbCCxa2Kv"
      },
      "source": [
        "spark = SparkSession.builder \\\n",
        "   .appName(\"Neural Network Model\") \\\n",
        "   .config(\"spark.executor.memory\", \"3gb\") \\\n",
        "   .getOrCreate()\n",
        "   \n",
        "sc = spark.sparkContext"
      ],
      "execution_count": 5,
      "outputs": []
    },
    {
      "cell_type": "code",
      "metadata": {
        "id": "MjoDgjaja2Kv",
        "colab": {
          "base_uri": "https://localhost:8080/",
          "height": 210
        },
        "outputId": "7b13ef03-adc6-4f4a-b10a-2115f0932b73"
      },
      "source": [
        "sc"
      ],
      "execution_count": 6,
      "outputs": [
        {
          "output_type": "execute_result",
          "data": {
            "text/html": [
              "\n",
              "        <div>\n",
              "            <p><b>SparkContext</b></p>\n",
              "\n",
              "            <p><a href=\"http://21aaab131ed7:4040\">Spark UI</a></p>\n",
              "\n",
              "            <dl>\n",
              "              <dt>Version</dt>\n",
              "                <dd><code>v2.4.1</code></dd>\n",
              "              <dt>Master</dt>\n",
              "                <dd><code>local[*]</code></dd>\n",
              "              <dt>AppName</dt>\n",
              "                <dd><code>pyspark-shell</code></dd>\n",
              "            </dl>\n",
              "        </div>\n",
              "        "
            ],
            "text/plain": [
              "<SparkContext master=local[*] appName=pyspark-shell>"
            ]
          },
          "metadata": {},
          "execution_count": 6
        }
      ]
    },
    {
      "cell_type": "code",
      "metadata": {
        "colab": {
          "base_uri": "https://localhost:8080/"
        },
        "id": "Fn4-dQJpaeTW",
        "outputId": "a8c8b90b-99c0-462b-ff13-fd0c4eae5ddb"
      },
      "source": [
        "! head -3 testfunnel.csv"
      ],
      "execution_count": 7,
      "outputs": [
        {
          "output_type": "stream",
          "name": "stdout",
          "text": [
            "head: cannot open 'testfunnel.csv' for reading: No such file or directory\n"
          ]
        }
      ]
    },
    {
      "cell_type": "code",
      "metadata": {
        "collapsed": true,
        "id": "GsltUxZza2LE",
        "colab": {
          "base_uri": "https://localhost:8080/"
        },
        "outputId": "1600bc27-7728-4511-eeed-e071050e6e46"
      },
      "source": [
        "! wget https://storage.googleapis.com/datascitourism/shared/testfunnel.csv"
      ],
      "execution_count": 8,
      "outputs": [
        {
          "output_type": "stream",
          "name": "stdout",
          "text": [
            "--2022-01-05 13:43:05--  https://storage.googleapis.com/datascitourism/shared/testfunnel.csv\n",
            "Resolving storage.googleapis.com (storage.googleapis.com)... 108.177.98.128, 74.125.197.128, 74.125.195.128, ...\n",
            "Connecting to storage.googleapis.com (storage.googleapis.com)|108.177.98.128|:443... connected.\n",
            "HTTP request sent, awaiting response... 200 OK\n",
            "Length: 1501012 (1.4M) [text/csv]\n",
            "Saving to: ‘testfunnel.csv’\n",
            "\n",
            "testfunnel.csv      100%[===================>]   1.43M  --.-KB/s    in 0.01s   \n",
            "\n",
            "2022-01-05 13:43:05 (144 MB/s) - ‘testfunnel.csv’ saved [1501012/1501012]\n",
            "\n"
          ]
        }
      ]
    },
    {
      "cell_type": "code",
      "metadata": {
        "id": "DRVIPIh503XR"
      },
      "source": [
        "raw_df = spark.read.option('header','true')\\\n",
        ".option(\"inferSchema\" , \"true\")\\\n",
        ".format('csv').load('./testfunnel.csv')"
      ],
      "execution_count": 9,
      "outputs": []
    },
    {
      "cell_type": "code",
      "metadata": {
        "id": "eoEDqDr809CE",
        "colab": {
          "base_uri": "https://localhost:8080/",
          "height": 878
        },
        "outputId": "489dd616-b6e0-4102-bbf3-42f87ccde9ae"
      },
      "source": [
        "raw_df.sample(0.001,seed=12).toPandas().transpose()"
      ],
      "execution_count": 10,
      "outputs": [
        {
          "output_type": "execute_result",
          "data": {
            "text/html": [
              "\n",
              "  <div id=\"df-c0cea522-2e43-48b9-92c6-bd7b5b9b7d4c\">\n",
              "    <div class=\"colab-df-container\">\n",
              "      <div>\n",
              "<style scoped>\n",
              "    .dataframe tbody tr th:only-of-type {\n",
              "        vertical-align: middle;\n",
              "    }\n",
              "\n",
              "    .dataframe tbody tr th {\n",
              "        vertical-align: top;\n",
              "    }\n",
              "\n",
              "    .dataframe thead th {\n",
              "        text-align: right;\n",
              "    }\n",
              "</style>\n",
              "<table border=\"1\" class=\"dataframe\">\n",
              "  <thead>\n",
              "    <tr style=\"text-align: right;\">\n",
              "      <th></th>\n",
              "      <th>0</th>\n",
              "      <th>1</th>\n",
              "      <th>2</th>\n",
              "      <th>3</th>\n",
              "      <th>4</th>\n",
              "      <th>5</th>\n",
              "      <th>6</th>\n",
              "      <th>7</th>\n",
              "      <th>8</th>\n",
              "      <th>9</th>\n",
              "      <th>10</th>\n",
              "      <th>11</th>\n",
              "      <th>12</th>\n",
              "    </tr>\n",
              "  </thead>\n",
              "  <tbody>\n",
              "    <tr>\n",
              "      <th>source</th>\n",
              "      <td>(direct)</td>\n",
              "      <td>(direct)</td>\n",
              "      <td>google</td>\n",
              "      <td>google</td>\n",
              "      <td>google</td>\n",
              "      <td>google</td>\n",
              "      <td>(direct)</td>\n",
              "      <td>(direct)</td>\n",
              "      <td>(direct)</td>\n",
              "      <td>google</td>\n",
              "      <td>(direct)</td>\n",
              "      <td>google</td>\n",
              "      <td>google</td>\n",
              "    </tr>\n",
              "    <tr>\n",
              "      <th>isTrueDirect</th>\n",
              "      <td>None</td>\n",
              "      <td>None</td>\n",
              "      <td>None</td>\n",
              "      <td>None</td>\n",
              "      <td>None</td>\n",
              "      <td>None</td>\n",
              "      <td>True</td>\n",
              "      <td>True</td>\n",
              "      <td>True</td>\n",
              "      <td>None</td>\n",
              "      <td>None</td>\n",
              "      <td>True</td>\n",
              "      <td>None</td>\n",
              "    </tr>\n",
              "    <tr>\n",
              "      <th>sourceKeyword</th>\n",
              "      <td>None</td>\n",
              "      <td>None</td>\n",
              "      <td>(not provided)</td>\n",
              "      <td>(not provided)</td>\n",
              "      <td>(not provided)</td>\n",
              "      <td>(not provided)</td>\n",
              "      <td>None</td>\n",
              "      <td>None</td>\n",
              "      <td>None</td>\n",
              "      <td>(not provided)</td>\n",
              "      <td>None</td>\n",
              "      <td>(not provided)</td>\n",
              "      <td>(not provided)</td>\n",
              "    </tr>\n",
              "    <tr>\n",
              "      <th>medium</th>\n",
              "      <td>(none)</td>\n",
              "      <td>(none)</td>\n",
              "      <td>organic</td>\n",
              "      <td>organic</td>\n",
              "      <td>organic</td>\n",
              "      <td>organic</td>\n",
              "      <td>(none)</td>\n",
              "      <td>(none)</td>\n",
              "      <td>(none)</td>\n",
              "      <td>organic</td>\n",
              "      <td>(none)</td>\n",
              "      <td>organic</td>\n",
              "      <td>organic</td>\n",
              "    </tr>\n",
              "    <tr>\n",
              "      <th>isVideoAd</th>\n",
              "      <td>None</td>\n",
              "      <td>None</td>\n",
              "      <td>None</td>\n",
              "      <td>None</td>\n",
              "      <td>None</td>\n",
              "      <td>None</td>\n",
              "      <td>None</td>\n",
              "      <td>None</td>\n",
              "      <td>None</td>\n",
              "      <td>None</td>\n",
              "      <td>None</td>\n",
              "      <td>None</td>\n",
              "      <td>None</td>\n",
              "    </tr>\n",
              "    <tr>\n",
              "      <th>fullVisitorId</th>\n",
              "      <td>4990075466656363861</td>\n",
              "      <td>4990257633001131707</td>\n",
              "      <td>4990697502077570091</td>\n",
              "      <td>4991105026836415438</td>\n",
              "      <td>4991962803971844700</td>\n",
              "      <td>4992499749003799871</td>\n",
              "      <td>4992819126088253676</td>\n",
              "      <td>4993613447705442396</td>\n",
              "      <td>4993613447705442396</td>\n",
              "      <td>4994855995081050813</td>\n",
              "      <td>4995356988620593823</td>\n",
              "      <td>4995584940873803432</td>\n",
              "      <td>4995903322841177843</td>\n",
              "    </tr>\n",
              "    <tr>\n",
              "      <th>visitId</th>\n",
              "      <td>1480486355</td>\n",
              "      <td>1485540848</td>\n",
              "      <td>1494612328</td>\n",
              "      <td>1488300417</td>\n",
              "      <td>1475876346</td>\n",
              "      <td>1472235854</td>\n",
              "      <td>1476938325</td>\n",
              "      <td>1482297870</td>\n",
              "      <td>1483430590</td>\n",
              "      <td>1495711333</td>\n",
              "      <td>1481560042</td>\n",
              "      <td>1497463936</td>\n",
              "      <td>1493223582</td>\n",
              "    </tr>\n",
              "    <tr>\n",
              "      <th>date</th>\n",
              "      <td>20161129</td>\n",
              "      <td>20170127</td>\n",
              "      <td>20170512</td>\n",
              "      <td>20170228</td>\n",
              "      <td>20161007</td>\n",
              "      <td>20160826</td>\n",
              "      <td>20161019</td>\n",
              "      <td>20161220</td>\n",
              "      <td>20170103</td>\n",
              "      <td>20170525</td>\n",
              "      <td>20161212</td>\n",
              "      <td>20170614</td>\n",
              "      <td>20170426</td>\n",
              "    </tr>\n",
              "    <tr>\n",
              "      <th>newVisits</th>\n",
              "      <td>1</td>\n",
              "      <td>1</td>\n",
              "      <td>1</td>\n",
              "      <td>1</td>\n",
              "      <td>1</td>\n",
              "      <td>1</td>\n",
              "      <td>1</td>\n",
              "      <td>NaN</td>\n",
              "      <td>NaN</td>\n",
              "      <td>1</td>\n",
              "      <td>1</td>\n",
              "      <td>NaN</td>\n",
              "      <td>1</td>\n",
              "    </tr>\n",
              "    <tr>\n",
              "      <th>hitReferer</th>\n",
              "      <td>None</td>\n",
              "      <td>https://www.google.nl/</td>\n",
              "      <td>None</td>\n",
              "      <td>None</td>\n",
              "      <td>None</td>\n",
              "      <td>None</td>\n",
              "      <td>None</td>\n",
              "      <td>None</td>\n",
              "      <td>None</td>\n",
              "      <td>https://www.google.ie/</td>\n",
              "      <td>None</td>\n",
              "      <td>None</td>\n",
              "      <td>None</td>\n",
              "    </tr>\n",
              "    <tr>\n",
              "      <th>hitType</th>\n",
              "      <td>PAGE</td>\n",
              "      <td>PAGE</td>\n",
              "      <td>PAGE</td>\n",
              "      <td>PAGE</td>\n",
              "      <td>PAGE</td>\n",
              "      <td>PAGE</td>\n",
              "      <td>PAGE</td>\n",
              "      <td>PAGE</td>\n",
              "      <td>PAGE</td>\n",
              "      <td>PAGE</td>\n",
              "      <td>PAGE</td>\n",
              "      <td>PAGE</td>\n",
              "      <td>PAGE</td>\n",
              "    </tr>\n",
              "    <tr>\n",
              "      <th>hitAction_type</th>\n",
              "      <td>0</td>\n",
              "      <td>0</td>\n",
              "      <td>0</td>\n",
              "      <td>0</td>\n",
              "      <td>0</td>\n",
              "      <td>0</td>\n",
              "      <td>0</td>\n",
              "      <td>0</td>\n",
              "      <td>0</td>\n",
              "      <td>0</td>\n",
              "      <td>0</td>\n",
              "      <td>0</td>\n",
              "      <td>0</td>\n",
              "    </tr>\n",
              "    <tr>\n",
              "      <th>hitNumber</th>\n",
              "      <td>8</td>\n",
              "      <td>24</td>\n",
              "      <td>3</td>\n",
              "      <td>10</td>\n",
              "      <td>2</td>\n",
              "      <td>5</td>\n",
              "      <td>19</td>\n",
              "      <td>1</td>\n",
              "      <td>1</td>\n",
              "      <td>1</td>\n",
              "      <td>7</td>\n",
              "      <td>3</td>\n",
              "      <td>42</td>\n",
              "    </tr>\n",
              "    <tr>\n",
              "      <th>hitHour</th>\n",
              "      <td>22</td>\n",
              "      <td>10</td>\n",
              "      <td>11</td>\n",
              "      <td>8</td>\n",
              "      <td>14</td>\n",
              "      <td>11</td>\n",
              "      <td>21</td>\n",
              "      <td>21</td>\n",
              "      <td>0</td>\n",
              "      <td>4</td>\n",
              "      <td>8</td>\n",
              "      <td>11</td>\n",
              "      <td>9</td>\n",
              "    </tr>\n",
              "    <tr>\n",
              "      <th>hitMin</th>\n",
              "      <td>14</td>\n",
              "      <td>24</td>\n",
              "      <td>6</td>\n",
              "      <td>51</td>\n",
              "      <td>39</td>\n",
              "      <td>26</td>\n",
              "      <td>49</td>\n",
              "      <td>24</td>\n",
              "      <td>3</td>\n",
              "      <td>22</td>\n",
              "      <td>30</td>\n",
              "      <td>12</td>\n",
              "      <td>27</td>\n",
              "    </tr>\n",
              "    <tr>\n",
              "      <th>timeMicroSec</th>\n",
              "      <td>112072</td>\n",
              "      <td>642085</td>\n",
              "      <td>46673</td>\n",
              "      <td>283008</td>\n",
              "      <td>8160</td>\n",
              "      <td>133919</td>\n",
              "      <td>660565</td>\n",
              "      <td>0</td>\n",
              "      <td>0</td>\n",
              "      <td>0</td>\n",
              "      <td>166554</td>\n",
              "      <td>31909</td>\n",
              "      <td>437689</td>\n",
              "    </tr>\n",
              "    <tr>\n",
              "      <th>v2ProductName</th>\n",
              "      <td>Google 22 oz Water Bottle</td>\n",
              "      <td>22 oz YouTube Bottle Infuser</td>\n",
              "      <td>Google Men's Microfiber 1/4 Zip Pullover Blue/...</td>\n",
              "      <td>Google Laptop and Cell Phone Stickers</td>\n",
              "      <td>Google Men's  Zip Hoodie</td>\n",
              "      <td>Android Women's Short Sleeve Tri-blend Badge T...</td>\n",
              "      <td>Android Men's  Zip Hoodie</td>\n",
              "      <td>Google Men's 100% Cotton Short Sleeve Hero Tee...</td>\n",
              "      <td>Google Women's Short Sleeve Hero Tee Red Heather</td>\n",
              "      <td>Android Wool Heather Cap Heather/Black</td>\n",
              "      <td>Google Men's Airflow 1/4 Zip Pullover Black</td>\n",
              "      <td>Android RFID Journal</td>\n",
              "      <td>Metal Texture Roller Pen</td>\n",
              "    </tr>\n",
              "    <tr>\n",
              "      <th>productListName</th>\n",
              "      <td>Category</td>\n",
              "      <td>Category</td>\n",
              "      <td>Category</td>\n",
              "      <td>Category</td>\n",
              "      <td>Category</td>\n",
              "      <td>Category</td>\n",
              "      <td>Category</td>\n",
              "      <td>Category</td>\n",
              "      <td>Category</td>\n",
              "      <td>Category</td>\n",
              "      <td>Category</td>\n",
              "      <td>Category</td>\n",
              "      <td>Category</td>\n",
              "    </tr>\n",
              "    <tr>\n",
              "      <th>isClick</th>\n",
              "      <td>None</td>\n",
              "      <td>None</td>\n",
              "      <td>None</td>\n",
              "      <td>None</td>\n",
              "      <td>None</td>\n",
              "      <td>None</td>\n",
              "      <td>None</td>\n",
              "      <td>None</td>\n",
              "      <td>None</td>\n",
              "      <td>None</td>\n",
              "      <td>None</td>\n",
              "      <td>None</td>\n",
              "      <td>None</td>\n",
              "    </tr>\n",
              "    <tr>\n",
              "      <th>isImpression</th>\n",
              "      <td>True</td>\n",
              "      <td>True</td>\n",
              "      <td>True</td>\n",
              "      <td>True</td>\n",
              "      <td>True</td>\n",
              "      <td>True</td>\n",
              "      <td>True</td>\n",
              "      <td>True</td>\n",
              "      <td>True</td>\n",
              "      <td>True</td>\n",
              "      <td>True</td>\n",
              "      <td>True</td>\n",
              "      <td>True</td>\n",
              "    </tr>\n",
              "    <tr>\n",
              "      <th>sessionQualityDim</th>\n",
              "      <td>None</td>\n",
              "      <td>None</td>\n",
              "      <td>None</td>\n",
              "      <td>None</td>\n",
              "      <td>None</td>\n",
              "      <td>None</td>\n",
              "      <td>None</td>\n",
              "      <td>None</td>\n",
              "      <td>None</td>\n",
              "      <td>None</td>\n",
              "      <td>None</td>\n",
              "      <td>None</td>\n",
              "      <td>None</td>\n",
              "    </tr>\n",
              "    <tr>\n",
              "      <th>timeOnScreen</th>\n",
              "      <td>None</td>\n",
              "      <td>None</td>\n",
              "      <td>None</td>\n",
              "      <td>None</td>\n",
              "      <td>None</td>\n",
              "      <td>None</td>\n",
              "      <td>None</td>\n",
              "      <td>None</td>\n",
              "      <td>None</td>\n",
              "      <td>None</td>\n",
              "      <td>None</td>\n",
              "      <td>None</td>\n",
              "      <td>None</td>\n",
              "    </tr>\n",
              "    <tr>\n",
              "      <th>timeOnSite</th>\n",
              "      <td>128</td>\n",
              "      <td>867</td>\n",
              "      <td>1666</td>\n",
              "      <td>436</td>\n",
              "      <td>359</td>\n",
              "      <td>674</td>\n",
              "      <td>3052</td>\n",
              "      <td>NaN</td>\n",
              "      <td>NaN</td>\n",
              "      <td>7</td>\n",
              "      <td>182</td>\n",
              "      <td>168</td>\n",
              "      <td>977</td>\n",
              "    </tr>\n",
              "    <tr>\n",
              "      <th>totalTransactionRevenue</th>\n",
              "      <td>None</td>\n",
              "      <td>None</td>\n",
              "      <td>None</td>\n",
              "      <td>None</td>\n",
              "      <td>None</td>\n",
              "      <td>None</td>\n",
              "      <td>None</td>\n",
              "      <td>None</td>\n",
              "      <td>None</td>\n",
              "      <td>None</td>\n",
              "      <td>None</td>\n",
              "      <td>None</td>\n",
              "      <td>None</td>\n",
              "    </tr>\n",
              "  </tbody>\n",
              "</table>\n",
              "</div>\n",
              "      <button class=\"colab-df-convert\" onclick=\"convertToInteractive('df-c0cea522-2e43-48b9-92c6-bd7b5b9b7d4c')\"\n",
              "              title=\"Convert this dataframe to an interactive table.\"\n",
              "              style=\"display:none;\">\n",
              "        \n",
              "  <svg xmlns=\"http://www.w3.org/2000/svg\" height=\"24px\"viewBox=\"0 0 24 24\"\n",
              "       width=\"24px\">\n",
              "    <path d=\"M0 0h24v24H0V0z\" fill=\"none\"/>\n",
              "    <path d=\"M18.56 5.44l.94 2.06.94-2.06 2.06-.94-2.06-.94-.94-2.06-.94 2.06-2.06.94zm-11 1L8.5 8.5l.94-2.06 2.06-.94-2.06-.94L8.5 2.5l-.94 2.06-2.06.94zm10 10l.94 2.06.94-2.06 2.06-.94-2.06-.94-.94-2.06-.94 2.06-2.06.94z\"/><path d=\"M17.41 7.96l-1.37-1.37c-.4-.4-.92-.59-1.43-.59-.52 0-1.04.2-1.43.59L10.3 9.45l-7.72 7.72c-.78.78-.78 2.05 0 2.83L4 21.41c.39.39.9.59 1.41.59.51 0 1.02-.2 1.41-.59l7.78-7.78 2.81-2.81c.8-.78.8-2.07 0-2.86zM5.41 20L4 18.59l7.72-7.72 1.47 1.35L5.41 20z\"/>\n",
              "  </svg>\n",
              "      </button>\n",
              "      \n",
              "  <style>\n",
              "    .colab-df-container {\n",
              "      display:flex;\n",
              "      flex-wrap:wrap;\n",
              "      gap: 12px;\n",
              "    }\n",
              "\n",
              "    .colab-df-convert {\n",
              "      background-color: #E8F0FE;\n",
              "      border: none;\n",
              "      border-radius: 50%;\n",
              "      cursor: pointer;\n",
              "      display: none;\n",
              "      fill: #1967D2;\n",
              "      height: 32px;\n",
              "      padding: 0 0 0 0;\n",
              "      width: 32px;\n",
              "    }\n",
              "\n",
              "    .colab-df-convert:hover {\n",
              "      background-color: #E2EBFA;\n",
              "      box-shadow: 0px 1px 2px rgba(60, 64, 67, 0.3), 0px 1px 3px 1px rgba(60, 64, 67, 0.15);\n",
              "      fill: #174EA6;\n",
              "    }\n",
              "\n",
              "    [theme=dark] .colab-df-convert {\n",
              "      background-color: #3B4455;\n",
              "      fill: #D2E3FC;\n",
              "    }\n",
              "\n",
              "    [theme=dark] .colab-df-convert:hover {\n",
              "      background-color: #434B5C;\n",
              "      box-shadow: 0px 1px 3px 1px rgba(0, 0, 0, 0.15);\n",
              "      filter: drop-shadow(0px 1px 2px rgba(0, 0, 0, 0.3));\n",
              "      fill: #FFFFFF;\n",
              "    }\n",
              "  </style>\n",
              "\n",
              "      <script>\n",
              "        const buttonEl =\n",
              "          document.querySelector('#df-c0cea522-2e43-48b9-92c6-bd7b5b9b7d4c button.colab-df-convert');\n",
              "        buttonEl.style.display =\n",
              "          google.colab.kernel.accessAllowed ? 'block' : 'none';\n",
              "\n",
              "        async function convertToInteractive(key) {\n",
              "          const element = document.querySelector('#df-c0cea522-2e43-48b9-92c6-bd7b5b9b7d4c');\n",
              "          const dataTable =\n",
              "            await google.colab.kernel.invokeFunction('convertToInteractive',\n",
              "                                                     [key], {});\n",
              "          if (!dataTable) return;\n",
              "\n",
              "          const docLinkHtml = 'Like what you see? Visit the ' +\n",
              "            '<a target=\"_blank\" href=https://colab.research.google.com/notebooks/data_table.ipynb>data table notebook</a>'\n",
              "            + ' to learn more about interactive tables.';\n",
              "          element.innerHTML = '';\n",
              "          dataTable['output_type'] = 'display_data';\n",
              "          await google.colab.output.renderOutput(dataTable, element);\n",
              "          const docLink = document.createElement('div');\n",
              "          docLink.innerHTML = docLinkHtml;\n",
              "          element.appendChild(docLink);\n",
              "        }\n",
              "      </script>\n",
              "    </div>\n",
              "  </div>\n",
              "  "
            ],
            "text/plain": [
              "                                                0   ...                        12\n",
              "source                                    (direct)  ...                    google\n",
              "isTrueDirect                                  None  ...                      None\n",
              "sourceKeyword                                 None  ...            (not provided)\n",
              "medium                                      (none)  ...                   organic\n",
              "isVideoAd                                     None  ...                      None\n",
              "fullVisitorId                  4990075466656363861  ...       4995903322841177843\n",
              "visitId                                 1480486355  ...                1493223582\n",
              "date                                      20161129  ...                  20170426\n",
              "newVisits                                        1  ...                         1\n",
              "hitReferer                                    None  ...                      None\n",
              "hitType                                       PAGE  ...                      PAGE\n",
              "hitAction_type                                   0  ...                         0\n",
              "hitNumber                                        8  ...                        42\n",
              "hitHour                                         22  ...                         9\n",
              "hitMin                                          14  ...                        27\n",
              "timeMicroSec                                112072  ...                    437689\n",
              "v2ProductName            Google 22 oz Water Bottle  ...  Metal Texture Roller Pen\n",
              "productListName                           Category  ...                  Category\n",
              "isClick                                       None  ...                      None\n",
              "isImpression                                  True  ...                      True\n",
              "sessionQualityDim                             None  ...                      None\n",
              "timeOnScreen                                  None  ...                      None\n",
              "timeOnSite                                     128  ...                       977\n",
              "totalTransactionRevenue                       None  ...                      None\n",
              "\n",
              "[24 rows x 13 columns]"
            ]
          },
          "metadata": {},
          "execution_count": 10
        }
      ]
    },
    {
      "cell_type": "markdown",
      "metadata": {
        "id": "hGSzhwXj3yeo"
      },
      "source": [
        "1. ธุรกิจต้องการ ML Model ไปใช้ในการทำนายว่า ลูกค้าที่กำลังเลือกดูสินค้าอยู่ จะซื้อหรือไม่ซื้อสินค้า (รวมถึงพฤติกรรมอื่นๆ ด้วย)"
      ]
    },
    {
      "cell_type": "code",
      "metadata": {
        "colab": {
          "base_uri": "https://localhost:8080/"
        },
        "id": "0p6sML4L34WI",
        "outputId": "0008e429-3c40-42f8-b3bc-1084d65d0e4f"
      },
      "source": [
        "raw_df.count()"
      ],
      "execution_count": 11,
      "outputs": [
        {
          "output_type": "execute_result",
          "data": {
            "text/plain": [
              "9999"
            ]
          },
          "metadata": {},
          "execution_count": 11
        }
      ]
    },
    {
      "cell_type": "markdown",
      "metadata": {
        "id": "QcjImh624NjJ"
      },
      "source": [
        "2. Data Understanding"
      ]
    },
    {
      "cell_type": "code",
      "metadata": {
        "colab": {
          "base_uri": "https://localhost:8080/"
        },
        "id": "mBjlU_WkckEg",
        "outputId": "16eedf25-bc1e-4fee-b686-45765a45a0e5"
      },
      "source": [
        "len(raw_df.columns)"
      ],
      "execution_count": 12,
      "outputs": [
        {
          "output_type": "execute_result",
          "data": {
            "text/plain": [
              "24"
            ]
          },
          "metadata": {},
          "execution_count": 12
        }
      ]
    },
    {
      "cell_type": "code",
      "metadata": {
        "colab": {
          "base_uri": "https://localhost:8080/",
          "height": 770
        },
        "id": "OITcXS_l4S9n",
        "outputId": "a3b9c042-5548-4d84-b9ee-b2b8ec3df981"
      },
      "source": [
        "raw_df.describe().toPandas().transpose()"
      ],
      "execution_count": 13,
      "outputs": [
        {
          "output_type": "execute_result",
          "data": {
            "text/html": [
              "\n",
              "  <div id=\"df-dcbc7e3f-a4aa-43d2-8749-880338d99326\">\n",
              "    <div class=\"colab-df-container\">\n",
              "      <div>\n",
              "<style scoped>\n",
              "    .dataframe tbody tr th:only-of-type {\n",
              "        vertical-align: middle;\n",
              "    }\n",
              "\n",
              "    .dataframe tbody tr th {\n",
              "        vertical-align: top;\n",
              "    }\n",
              "\n",
              "    .dataframe thead th {\n",
              "        text-align: right;\n",
              "    }\n",
              "</style>\n",
              "<table border=\"1\" class=\"dataframe\">\n",
              "  <thead>\n",
              "    <tr style=\"text-align: right;\">\n",
              "      <th></th>\n",
              "      <th>0</th>\n",
              "      <th>1</th>\n",
              "      <th>2</th>\n",
              "      <th>3</th>\n",
              "      <th>4</th>\n",
              "    </tr>\n",
              "  </thead>\n",
              "  <tbody>\n",
              "    <tr>\n",
              "      <th>summary</th>\n",
              "      <td>count</td>\n",
              "      <td>mean</td>\n",
              "      <td>stddev</td>\n",
              "      <td>min</td>\n",
              "      <td>max</td>\n",
              "    </tr>\n",
              "    <tr>\n",
              "      <th>source</th>\n",
              "      <td>9999</td>\n",
              "      <td>None</td>\n",
              "      <td>None</td>\n",
              "      <td>(direct)</td>\n",
              "      <td>youtube.com</td>\n",
              "    </tr>\n",
              "    <tr>\n",
              "      <th>sourceKeyword</th>\n",
              "      <td>4042</td>\n",
              "      <td>None</td>\n",
              "      <td>None</td>\n",
              "      <td>(not provided)</td>\n",
              "      <td>youtube merch</td>\n",
              "    </tr>\n",
              "    <tr>\n",
              "      <th>medium</th>\n",
              "      <td>9999</td>\n",
              "      <td>None</td>\n",
              "      <td>None</td>\n",
              "      <td>(none)</td>\n",
              "      <td>referral</td>\n",
              "    </tr>\n",
              "    <tr>\n",
              "      <th>fullVisitorId</th>\n",
              "      <td>9999</td>\n",
              "      <td>4.5067648825526333E18</td>\n",
              "      <td>1.39995873491150899E18</td>\n",
              "      <td>49898505875812980</td>\n",
              "      <td>4995924842281653133</td>\n",
              "    </tr>\n",
              "    <tr>\n",
              "      <th>visitId</th>\n",
              "      <td>9999</td>\n",
              "      <td>1.4850613864552455E9</td>\n",
              "      <td>9020666.664979974</td>\n",
              "      <td>1470106850</td>\n",
              "      <td>1501649190</td>\n",
              "    </tr>\n",
              "    <tr>\n",
              "      <th>date</th>\n",
              "      <td>9999</td>\n",
              "      <td>2.016601000310031E7</td>\n",
              "      <td>4694.944823979139</td>\n",
              "      <td>20160801</td>\n",
              "      <td>20170801</td>\n",
              "    </tr>\n",
              "    <tr>\n",
              "      <th>newVisits</th>\n",
              "      <td>7269</td>\n",
              "      <td>1.0</td>\n",
              "      <td>0.0</td>\n",
              "      <td>1</td>\n",
              "      <td>1</td>\n",
              "    </tr>\n",
              "    <tr>\n",
              "      <th>hitReferer</th>\n",
              "      <td>1333</td>\n",
              "      <td>None</td>\n",
              "      <td>None</td>\n",
              "      <td>http://images.google.co.in/imgres?imgurl=https...</td>\n",
              "      <td>https://www.youtube.com/yt/about/press/</td>\n",
              "    </tr>\n",
              "    <tr>\n",
              "      <th>hitType</th>\n",
              "      <td>9999</td>\n",
              "      <td>None</td>\n",
              "      <td>None</td>\n",
              "      <td>EVENT</td>\n",
              "      <td>PAGE</td>\n",
              "    </tr>\n",
              "    <tr>\n",
              "      <th>hitAction_type</th>\n",
              "      <td>9999</td>\n",
              "      <td>0.13831383138313832</td>\n",
              "      <td>0.6864877640641197</td>\n",
              "      <td>0</td>\n",
              "      <td>6</td>\n",
              "    </tr>\n",
              "    <tr>\n",
              "      <th>hitNumber</th>\n",
              "      <td>9999</td>\n",
              "      <td>8.662666266626662</td>\n",
              "      <td>9.871484517186275</td>\n",
              "      <td>1</td>\n",
              "      <td>56</td>\n",
              "    </tr>\n",
              "    <tr>\n",
              "      <th>hitHour</th>\n",
              "      <td>9999</td>\n",
              "      <td>12.168916891689168</td>\n",
              "      <td>5.910241630273632</td>\n",
              "      <td>0</td>\n",
              "      <td>23</td>\n",
              "    </tr>\n",
              "    <tr>\n",
              "      <th>hitMin</th>\n",
              "      <td>9999</td>\n",
              "      <td>31.84038403840384</td>\n",
              "      <td>16.330427485675383</td>\n",
              "      <td>0</td>\n",
              "      <td>59</td>\n",
              "    </tr>\n",
              "    <tr>\n",
              "      <th>timeMicroSec</th>\n",
              "      <td>9999</td>\n",
              "      <td>213867.12121212122</td>\n",
              "      <td>369723.31608154083</td>\n",
              "      <td>0</td>\n",
              "      <td>3513993</td>\n",
              "    </tr>\n",
              "    <tr>\n",
              "      <th>v2ProductName</th>\n",
              "      <td>9999</td>\n",
              "      <td>None</td>\n",
              "      <td>None</td>\n",
              "      <td>1 oz Hand Sanitizer</td>\n",
              "      <td>YouTube Youth Short Sleeve Tee Red</td>\n",
              "    </tr>\n",
              "    <tr>\n",
              "      <th>productListName</th>\n",
              "      <td>9999</td>\n",
              "      <td>None</td>\n",
              "      <td>None</td>\n",
              "      <td>(not set)</td>\n",
              "      <td>Search Results</td>\n",
              "    </tr>\n",
              "    <tr>\n",
              "      <th>sessionQualityDim</th>\n",
              "      <td>698</td>\n",
              "      <td>12.074498567335244</td>\n",
              "      <td>24.99957319792061</td>\n",
              "      <td>1</td>\n",
              "      <td>79</td>\n",
              "    </tr>\n",
              "    <tr>\n",
              "      <th>timeOnScreen</th>\n",
              "      <td>0</td>\n",
              "      <td>None</td>\n",
              "      <td>None</td>\n",
              "      <td>None</td>\n",
              "      <td>None</td>\n",
              "    </tr>\n",
              "    <tr>\n",
              "      <th>timeOnSite</th>\n",
              "      <td>8958</td>\n",
              "      <td>539.221478008484</td>\n",
              "      <td>689.0300130553856</td>\n",
              "      <td>3</td>\n",
              "      <td>3514</td>\n",
              "    </tr>\n",
              "    <tr>\n",
              "      <th>totalTransactionRevenue</th>\n",
              "      <td>707</td>\n",
              "      <td>4.211295615275814E7</td>\n",
              "      <td>2.4358685560020592E7</td>\n",
              "      <td>20580000</td>\n",
              "      <td>128970000</td>\n",
              "    </tr>\n",
              "  </tbody>\n",
              "</table>\n",
              "</div>\n",
              "      <button class=\"colab-df-convert\" onclick=\"convertToInteractive('df-dcbc7e3f-a4aa-43d2-8749-880338d99326')\"\n",
              "              title=\"Convert this dataframe to an interactive table.\"\n",
              "              style=\"display:none;\">\n",
              "        \n",
              "  <svg xmlns=\"http://www.w3.org/2000/svg\" height=\"24px\"viewBox=\"0 0 24 24\"\n",
              "       width=\"24px\">\n",
              "    <path d=\"M0 0h24v24H0V0z\" fill=\"none\"/>\n",
              "    <path d=\"M18.56 5.44l.94 2.06.94-2.06 2.06-.94-2.06-.94-.94-2.06-.94 2.06-2.06.94zm-11 1L8.5 8.5l.94-2.06 2.06-.94-2.06-.94L8.5 2.5l-.94 2.06-2.06.94zm10 10l.94 2.06.94-2.06 2.06-.94-2.06-.94-.94-2.06-.94 2.06-2.06.94z\"/><path d=\"M17.41 7.96l-1.37-1.37c-.4-.4-.92-.59-1.43-.59-.52 0-1.04.2-1.43.59L10.3 9.45l-7.72 7.72c-.78.78-.78 2.05 0 2.83L4 21.41c.39.39.9.59 1.41.59.51 0 1.02-.2 1.41-.59l7.78-7.78 2.81-2.81c.8-.78.8-2.07 0-2.86zM5.41 20L4 18.59l7.72-7.72 1.47 1.35L5.41 20z\"/>\n",
              "  </svg>\n",
              "      </button>\n",
              "      \n",
              "  <style>\n",
              "    .colab-df-container {\n",
              "      display:flex;\n",
              "      flex-wrap:wrap;\n",
              "      gap: 12px;\n",
              "    }\n",
              "\n",
              "    .colab-df-convert {\n",
              "      background-color: #E8F0FE;\n",
              "      border: none;\n",
              "      border-radius: 50%;\n",
              "      cursor: pointer;\n",
              "      display: none;\n",
              "      fill: #1967D2;\n",
              "      height: 32px;\n",
              "      padding: 0 0 0 0;\n",
              "      width: 32px;\n",
              "    }\n",
              "\n",
              "    .colab-df-convert:hover {\n",
              "      background-color: #E2EBFA;\n",
              "      box-shadow: 0px 1px 2px rgba(60, 64, 67, 0.3), 0px 1px 3px 1px rgba(60, 64, 67, 0.15);\n",
              "      fill: #174EA6;\n",
              "    }\n",
              "\n",
              "    [theme=dark] .colab-df-convert {\n",
              "      background-color: #3B4455;\n",
              "      fill: #D2E3FC;\n",
              "    }\n",
              "\n",
              "    [theme=dark] .colab-df-convert:hover {\n",
              "      background-color: #434B5C;\n",
              "      box-shadow: 0px 1px 3px 1px rgba(0, 0, 0, 0.15);\n",
              "      filter: drop-shadow(0px 1px 2px rgba(0, 0, 0, 0.3));\n",
              "      fill: #FFFFFF;\n",
              "    }\n",
              "  </style>\n",
              "\n",
              "      <script>\n",
              "        const buttonEl =\n",
              "          document.querySelector('#df-dcbc7e3f-a4aa-43d2-8749-880338d99326 button.colab-df-convert');\n",
              "        buttonEl.style.display =\n",
              "          google.colab.kernel.accessAllowed ? 'block' : 'none';\n",
              "\n",
              "        async function convertToInteractive(key) {\n",
              "          const element = document.querySelector('#df-dcbc7e3f-a4aa-43d2-8749-880338d99326');\n",
              "          const dataTable =\n",
              "            await google.colab.kernel.invokeFunction('convertToInteractive',\n",
              "                                                     [key], {});\n",
              "          if (!dataTable) return;\n",
              "\n",
              "          const docLinkHtml = 'Like what you see? Visit the ' +\n",
              "            '<a target=\"_blank\" href=https://colab.research.google.com/notebooks/data_table.ipynb>data table notebook</a>'\n",
              "            + ' to learn more about interactive tables.';\n",
              "          element.innerHTML = '';\n",
              "          dataTable['output_type'] = 'display_data';\n",
              "          await google.colab.output.renderOutput(dataTable, element);\n",
              "          const docLink = document.createElement('div');\n",
              "          docLink.innerHTML = docLinkHtml;\n",
              "          element.appendChild(docLink);\n",
              "        }\n",
              "      </script>\n",
              "    </div>\n",
              "  </div>\n",
              "  "
            ],
            "text/plain": [
              "                             0  ...                                        4\n",
              "summary                  count  ...                                      max\n",
              "source                    9999  ...                              youtube.com\n",
              "sourceKeyword             4042  ...                            youtube merch\n",
              "medium                    9999  ...                                 referral\n",
              "fullVisitorId             9999  ...                      4995924842281653133\n",
              "visitId                   9999  ...                               1501649190\n",
              "date                      9999  ...                                 20170801\n",
              "newVisits                 7269  ...                                        1\n",
              "hitReferer                1333  ...  https://www.youtube.com/yt/about/press/\n",
              "hitType                   9999  ...                                     PAGE\n",
              "hitAction_type            9999  ...                                        6\n",
              "hitNumber                 9999  ...                                       56\n",
              "hitHour                   9999  ...                                       23\n",
              "hitMin                    9999  ...                                       59\n",
              "timeMicroSec              9999  ...                                  3513993\n",
              "v2ProductName             9999  ...       YouTube Youth Short Sleeve Tee Red\n",
              "productListName           9999  ...                           Search Results\n",
              "sessionQualityDim          698  ...                                       79\n",
              "timeOnScreen                 0  ...                                     None\n",
              "timeOnSite                8958  ...                                     3514\n",
              "totalTransactionRevenue    707  ...                                128970000\n",
              "\n",
              "[21 rows x 5 columns]"
            ]
          },
          "metadata": {},
          "execution_count": 13
        }
      ]
    },
    {
      "cell_type": "code",
      "metadata": {
        "id": "0qwSVuWMcfau"
      },
      "source": [
        ""
      ],
      "execution_count": 13,
      "outputs": []
    },
    {
      "cell_type": "code",
      "metadata": {
        "colab": {
          "base_uri": "https://localhost:8080/"
        },
        "id": "eH8yD5VU4X2_",
        "outputId": "75dcfa51-2a7c-4f57-aaf6-b28f84b48236"
      },
      "source": [
        "raw_df.printSchema()"
      ],
      "execution_count": 14,
      "outputs": [
        {
          "output_type": "stream",
          "name": "stdout",
          "text": [
            "root\n",
            " |-- source: string (nullable = true)\n",
            " |-- isTrueDirect: boolean (nullable = true)\n",
            " |-- sourceKeyword: string (nullable = true)\n",
            " |-- medium: string (nullable = true)\n",
            " |-- isVideoAd: boolean (nullable = true)\n",
            " |-- fullVisitorId: long (nullable = true)\n",
            " |-- visitId: integer (nullable = true)\n",
            " |-- date: integer (nullable = true)\n",
            " |-- newVisits: integer (nullable = true)\n",
            " |-- hitReferer: string (nullable = true)\n",
            " |-- hitType: string (nullable = true)\n",
            " |-- hitAction_type: integer (nullable = true)\n",
            " |-- hitNumber: integer (nullable = true)\n",
            " |-- hitHour: integer (nullable = true)\n",
            " |-- hitMin: integer (nullable = true)\n",
            " |-- timeMicroSec: integer (nullable = true)\n",
            " |-- v2ProductName: string (nullable = true)\n",
            " |-- productListName: string (nullable = true)\n",
            " |-- isClick: boolean (nullable = true)\n",
            " |-- isImpression: boolean (nullable = true)\n",
            " |-- sessionQualityDim: integer (nullable = true)\n",
            " |-- timeOnScreen: string (nullable = true)\n",
            " |-- timeOnSite: integer (nullable = true)\n",
            " |-- totalTransactionRevenue: integer (nullable = true)\n",
            "\n"
          ]
        }
      ]
    },
    {
      "cell_type": "code",
      "metadata": {
        "colab": {
          "base_uri": "https://localhost:8080/"
        },
        "id": "yHos0yZcgyFa",
        "outputId": "03887271-5027-4815-f392-cb6e3d659bcc"
      },
      "source": [
        "raw_df.groupBy('isTrueDirect').count().show()"
      ],
      "execution_count": 15,
      "outputs": [
        {
          "output_type": "stream",
          "name": "stdout",
          "text": [
            "+------------+-----+\n",
            "|isTrueDirect|count|\n",
            "+------------+-----+\n",
            "|        null| 6648|\n",
            "|        true| 3351|\n",
            "+------------+-----+\n",
            "\n"
          ]
        }
      ]
    },
    {
      "cell_type": "code",
      "metadata": {
        "id": "Xl8YQNHX4iik"
      },
      "source": [
        "from pyspark.sql import functions as sparkf"
      ],
      "execution_count": 16,
      "outputs": []
    },
    {
      "cell_type": "code",
      "metadata": {
        "id": "gtAh89G04lKt"
      },
      "source": [
        "selectedCol_df = raw_df\\\n",
        ".drop('isVideoAd').drop('isClick').drop('isImpression')\\\n",
        ".drop('sourceKeyword').drop('hitReferer').drop('timeOnScreen').drop('sessionQualityDim')"
      ],
      "execution_count": 17,
      "outputs": []
    },
    {
      "cell_type": "code",
      "metadata": {
        "colab": {
          "base_uri": "https://localhost:8080/"
        },
        "id": "UXxEECCN4uq4",
        "outputId": "da1b4714-f801-4729-f0b2-adf0bf74dce1"
      },
      "source": [
        "selectedCol_df.count()"
      ],
      "execution_count": 18,
      "outputs": [
        {
          "output_type": "execute_result",
          "data": {
            "text/plain": [
              "9999"
            ]
          },
          "metadata": {},
          "execution_count": 18
        }
      ]
    },
    {
      "cell_type": "code",
      "metadata": {
        "colab": {
          "base_uri": "https://localhost:8080/"
        },
        "id": "mcq9vnmFiJyd",
        "outputId": "7bc37416-f7f9-4e35-87c2-cf08d361da11"
      },
      "source": [
        "len(selectedCol_df.columns)"
      ],
      "execution_count": 19,
      "outputs": [
        {
          "output_type": "execute_result",
          "data": {
            "text/plain": [
              "17"
            ]
          },
          "metadata": {},
          "execution_count": 19
        }
      ]
    },
    {
      "cell_type": "markdown",
      "metadata": {
        "id": "it5W-C975E_r"
      },
      "source": [
        "3. Data Preparation"
      ]
    },
    {
      "cell_type": "code",
      "metadata": {
        "id": "bYTBlTEV5IfO"
      },
      "source": [
        "from pyspark.sql.types import *"
      ],
      "execution_count": 20,
      "outputs": []
    },
    {
      "cell_type": "code",
      "metadata": {
        "id": "w40EEs595Ls7"
      },
      "source": [
        "sparkf_NulltoFalse = sparkf.udf(lambda x: 'false' if x is None else x)"
      ],
      "execution_count": 21,
      "outputs": []
    },
    {
      "cell_type": "code",
      "metadata": {
        "colab": {
          "base_uri": "https://localhost:8080/"
        },
        "id": "RC4ljDFi5rcg",
        "outputId": "107ea2ee-3650-4f68-b833-3873cc729f31"
      },
      "source": [
        "selectedCol_df.withColumn('isTrueDirect',\\\n",
        "                          sparkf.col('isTrueDirect').cast(StringType()))\\\n",
        ".withColumn('isTrueDirect',\\\n",
        "           sparkf_NulltoFalse(sparkf.col('isTrueDirect')))\\\n",
        ".groupBy('isTrueDirect').count().show()"
      ],
      "execution_count": 22,
      "outputs": [
        {
          "output_type": "stream",
          "name": "stdout",
          "text": [
            "+------------+-----+\n",
            "|isTrueDirect|count|\n",
            "+------------+-----+\n",
            "|       false| 6648|\n",
            "|        true| 3351|\n",
            "+------------+-----+\n",
            "\n"
          ]
        }
      ]
    },
    {
      "cell_type": "code",
      "metadata": {
        "id": "DovGN0Bv5wM9"
      },
      "source": [
        "sparkf_treatNewVisits = sparkf.udf(lambda x: 'true' if x == '1' else 'false')"
      ],
      "execution_count": 23,
      "outputs": []
    },
    {
      "cell_type": "code",
      "metadata": {
        "colab": {
          "base_uri": "https://localhost:8080/"
        },
        "id": "LWJXh_BK6tyt",
        "outputId": "a2b160db-ec01-44e1-c11f-659f290dc9eb"
      },
      "source": [
        "selectedCol_df.withColumn('newVisits',\\\n",
        "                          sparkf.col('newVisits').cast(StringType()))\\\n",
        ".withColumn('newVisits',sparkf_treatNewVisits(sparkf.col('newVisits')))\\\n",
        ".groupBy('newVisits').count().show()"
      ],
      "execution_count": 24,
      "outputs": [
        {
          "output_type": "stream",
          "name": "stdout",
          "text": [
            "+---------+-----+\n",
            "|newVisits|count|\n",
            "+---------+-----+\n",
            "|    false| 2730|\n",
            "|     true| 7269|\n",
            "+---------+-----+\n",
            "\n"
          ]
        }
      ]
    },
    {
      "cell_type": "code",
      "metadata": {
        "id": "TuBETqkg6vG3"
      },
      "source": [
        "sparkf_treatRevenue = sparkf.udf(lambda x: 0 if x == None else x)"
      ],
      "execution_count": 25,
      "outputs": []
    },
    {
      "cell_type": "code",
      "metadata": {
        "colab": {
          "base_uri": "https://localhost:8080/"
        },
        "id": "8Rst_Nld-dgX",
        "outputId": "b28069f1-2d82-4225-e96c-33e65d0a6de4"
      },
      "source": [
        "selectedCol_df.printSchema()"
      ],
      "execution_count": 26,
      "outputs": [
        {
          "output_type": "stream",
          "name": "stdout",
          "text": [
            "root\n",
            " |-- source: string (nullable = true)\n",
            " |-- isTrueDirect: boolean (nullable = true)\n",
            " |-- medium: string (nullable = true)\n",
            " |-- fullVisitorId: long (nullable = true)\n",
            " |-- visitId: integer (nullable = true)\n",
            " |-- date: integer (nullable = true)\n",
            " |-- newVisits: integer (nullable = true)\n",
            " |-- hitType: string (nullable = true)\n",
            " |-- hitAction_type: integer (nullable = true)\n",
            " |-- hitNumber: integer (nullable = true)\n",
            " |-- hitHour: integer (nullable = true)\n",
            " |-- hitMin: integer (nullable = true)\n",
            " |-- timeMicroSec: integer (nullable = true)\n",
            " |-- v2ProductName: string (nullable = true)\n",
            " |-- productListName: string (nullable = true)\n",
            " |-- timeOnSite: integer (nullable = true)\n",
            " |-- totalTransactionRevenue: integer (nullable = true)\n",
            "\n"
          ]
        }
      ]
    },
    {
      "cell_type": "code",
      "metadata": {
        "id": "JZUNkpMF-fJU"
      },
      "source": [
        "sparkf_createLabel = sparkf.udf(lambda x: 'buy' if x>0 else 'notBuy')"
      ],
      "execution_count": 27,
      "outputs": []
    },
    {
      "cell_type": "code",
      "metadata": {
        "id": "5oLj2Wno-kAE"
      },
      "source": [
        "crunched_df = selectedCol_df\\\n",
        ".withColumn('isTrueDirect',sparkf.col('isTrueDirect').cast(StringType()))\\\n",
        ".withColumn('isTrueDirect',sparkf_NulltoFalse(sparkf.col('isTrueDirect')))\\\n",
        ".withColumn('newVisits',sparkf.col('newVisits').cast(StringType()))\\\n",
        ".withColumn('newVisits',sparkf_treatNewVisits(sparkf.col('newVisits')))\\\n",
        ".withColumn('totalTransactionRevenue',sparkf_treatRevenue(sparkf.col('totalTransactionRevenue')))\\\n",
        ".withColumn('totalTransactionRevenue',sparkf.col('totalTransactionRevenue').cast(DoubleType()))\\\n",
        ".withColumn('label',sparkf_createLabel(sparkf.col('totalTransactionRevenue')))"
      ],
      "execution_count": 28,
      "outputs": []
    },
    {
      "cell_type": "code",
      "metadata": {
        "colab": {
          "base_uri": "https://localhost:8080/"
        },
        "id": "RyCViFWg-ujM",
        "outputId": "ac2c0fb2-7467-404b-b58d-f833e473b5f7"
      },
      "source": [
        "crunched_df.printSchema()"
      ],
      "execution_count": 29,
      "outputs": [
        {
          "output_type": "stream",
          "name": "stdout",
          "text": [
            "root\n",
            " |-- source: string (nullable = true)\n",
            " |-- isTrueDirect: string (nullable = true)\n",
            " |-- medium: string (nullable = true)\n",
            " |-- fullVisitorId: long (nullable = true)\n",
            " |-- visitId: integer (nullable = true)\n",
            " |-- date: integer (nullable = true)\n",
            " |-- newVisits: string (nullable = true)\n",
            " |-- hitType: string (nullable = true)\n",
            " |-- hitAction_type: integer (nullable = true)\n",
            " |-- hitNumber: integer (nullable = true)\n",
            " |-- hitHour: integer (nullable = true)\n",
            " |-- hitMin: integer (nullable = true)\n",
            " |-- timeMicroSec: integer (nullable = true)\n",
            " |-- v2ProductName: string (nullable = true)\n",
            " |-- productListName: string (nullable = true)\n",
            " |-- timeOnSite: integer (nullable = true)\n",
            " |-- totalTransactionRevenue: double (nullable = true)\n",
            " |-- label: string (nullable = true)\n",
            "\n"
          ]
        }
      ]
    },
    {
      "cell_type": "code",
      "metadata": {
        "colab": {
          "base_uri": "https://localhost:8080/",
          "height": 648
        },
        "id": "EaHQCS1X-wp5",
        "outputId": "0421637d-80be-4200-ceca-799fc6191b54"
      },
      "source": [
        "crunched_df.describe().toPandas().transpose()"
      ],
      "execution_count": 30,
      "outputs": [
        {
          "output_type": "execute_result",
          "data": {
            "text/html": [
              "\n",
              "  <div id=\"df-56cb489b-5a86-41d9-a414-a56dbcf540d2\">\n",
              "    <div class=\"colab-df-container\">\n",
              "      <div>\n",
              "<style scoped>\n",
              "    .dataframe tbody tr th:only-of-type {\n",
              "        vertical-align: middle;\n",
              "    }\n",
              "\n",
              "    .dataframe tbody tr th {\n",
              "        vertical-align: top;\n",
              "    }\n",
              "\n",
              "    .dataframe thead th {\n",
              "        text-align: right;\n",
              "    }\n",
              "</style>\n",
              "<table border=\"1\" class=\"dataframe\">\n",
              "  <thead>\n",
              "    <tr style=\"text-align: right;\">\n",
              "      <th></th>\n",
              "      <th>0</th>\n",
              "      <th>1</th>\n",
              "      <th>2</th>\n",
              "      <th>3</th>\n",
              "      <th>4</th>\n",
              "    </tr>\n",
              "  </thead>\n",
              "  <tbody>\n",
              "    <tr>\n",
              "      <th>summary</th>\n",
              "      <td>count</td>\n",
              "      <td>mean</td>\n",
              "      <td>stddev</td>\n",
              "      <td>min</td>\n",
              "      <td>max</td>\n",
              "    </tr>\n",
              "    <tr>\n",
              "      <th>source</th>\n",
              "      <td>9999</td>\n",
              "      <td>None</td>\n",
              "      <td>None</td>\n",
              "      <td>(direct)</td>\n",
              "      <td>youtube.com</td>\n",
              "    </tr>\n",
              "    <tr>\n",
              "      <th>isTrueDirect</th>\n",
              "      <td>9999</td>\n",
              "      <td>None</td>\n",
              "      <td>None</td>\n",
              "      <td>false</td>\n",
              "      <td>true</td>\n",
              "    </tr>\n",
              "    <tr>\n",
              "      <th>medium</th>\n",
              "      <td>9999</td>\n",
              "      <td>None</td>\n",
              "      <td>None</td>\n",
              "      <td>(none)</td>\n",
              "      <td>referral</td>\n",
              "    </tr>\n",
              "    <tr>\n",
              "      <th>fullVisitorId</th>\n",
              "      <td>9999</td>\n",
              "      <td>4.5067648825526333E18</td>\n",
              "      <td>1.39995873491150899E18</td>\n",
              "      <td>49898505875812980</td>\n",
              "      <td>4995924842281653133</td>\n",
              "    </tr>\n",
              "    <tr>\n",
              "      <th>visitId</th>\n",
              "      <td>9999</td>\n",
              "      <td>1.4850613864552455E9</td>\n",
              "      <td>9020666.664979974</td>\n",
              "      <td>1470106850</td>\n",
              "      <td>1501649190</td>\n",
              "    </tr>\n",
              "    <tr>\n",
              "      <th>date</th>\n",
              "      <td>9999</td>\n",
              "      <td>2.016601000310031E7</td>\n",
              "      <td>4694.944823979139</td>\n",
              "      <td>20160801</td>\n",
              "      <td>20170801</td>\n",
              "    </tr>\n",
              "    <tr>\n",
              "      <th>newVisits</th>\n",
              "      <td>9999</td>\n",
              "      <td>None</td>\n",
              "      <td>None</td>\n",
              "      <td>false</td>\n",
              "      <td>true</td>\n",
              "    </tr>\n",
              "    <tr>\n",
              "      <th>hitType</th>\n",
              "      <td>9999</td>\n",
              "      <td>None</td>\n",
              "      <td>None</td>\n",
              "      <td>EVENT</td>\n",
              "      <td>PAGE</td>\n",
              "    </tr>\n",
              "    <tr>\n",
              "      <th>hitAction_type</th>\n",
              "      <td>9999</td>\n",
              "      <td>0.13831383138313832</td>\n",
              "      <td>0.6864877640641197</td>\n",
              "      <td>0</td>\n",
              "      <td>6</td>\n",
              "    </tr>\n",
              "    <tr>\n",
              "      <th>hitNumber</th>\n",
              "      <td>9999</td>\n",
              "      <td>8.662666266626662</td>\n",
              "      <td>9.871484517186275</td>\n",
              "      <td>1</td>\n",
              "      <td>56</td>\n",
              "    </tr>\n",
              "    <tr>\n",
              "      <th>hitHour</th>\n",
              "      <td>9999</td>\n",
              "      <td>12.168916891689168</td>\n",
              "      <td>5.910241630273632</td>\n",
              "      <td>0</td>\n",
              "      <td>23</td>\n",
              "    </tr>\n",
              "    <tr>\n",
              "      <th>hitMin</th>\n",
              "      <td>9999</td>\n",
              "      <td>31.84038403840384</td>\n",
              "      <td>16.330427485675383</td>\n",
              "      <td>0</td>\n",
              "      <td>59</td>\n",
              "    </tr>\n",
              "    <tr>\n",
              "      <th>timeMicroSec</th>\n",
              "      <td>9999</td>\n",
              "      <td>213867.12121212122</td>\n",
              "      <td>369723.31608154083</td>\n",
              "      <td>0</td>\n",
              "      <td>3513993</td>\n",
              "    </tr>\n",
              "    <tr>\n",
              "      <th>v2ProductName</th>\n",
              "      <td>9999</td>\n",
              "      <td>None</td>\n",
              "      <td>None</td>\n",
              "      <td>1 oz Hand Sanitizer</td>\n",
              "      <td>YouTube Youth Short Sleeve Tee Red</td>\n",
              "    </tr>\n",
              "    <tr>\n",
              "      <th>productListName</th>\n",
              "      <td>9999</td>\n",
              "      <td>None</td>\n",
              "      <td>None</td>\n",
              "      <td>(not set)</td>\n",
              "      <td>Search Results</td>\n",
              "    </tr>\n",
              "    <tr>\n",
              "      <th>timeOnSite</th>\n",
              "      <td>8958</td>\n",
              "      <td>539.221478008484</td>\n",
              "      <td>689.0300130553856</td>\n",
              "      <td>3</td>\n",
              "      <td>3514</td>\n",
              "    </tr>\n",
              "    <tr>\n",
              "      <th>totalTransactionRevenue</th>\n",
              "      <td>9999</td>\n",
              "      <td>2977683.7683768375</td>\n",
              "      <td>1.2587402326734249E7</td>\n",
              "      <td>0.0</td>\n",
              "      <td>1.2897E8</td>\n",
              "    </tr>\n",
              "    <tr>\n",
              "      <th>label</th>\n",
              "      <td>9999</td>\n",
              "      <td>None</td>\n",
              "      <td>None</td>\n",
              "      <td>buy</td>\n",
              "      <td>notBuy</td>\n",
              "    </tr>\n",
              "  </tbody>\n",
              "</table>\n",
              "</div>\n",
              "      <button class=\"colab-df-convert\" onclick=\"convertToInteractive('df-56cb489b-5a86-41d9-a414-a56dbcf540d2')\"\n",
              "              title=\"Convert this dataframe to an interactive table.\"\n",
              "              style=\"display:none;\">\n",
              "        \n",
              "  <svg xmlns=\"http://www.w3.org/2000/svg\" height=\"24px\"viewBox=\"0 0 24 24\"\n",
              "       width=\"24px\">\n",
              "    <path d=\"M0 0h24v24H0V0z\" fill=\"none\"/>\n",
              "    <path d=\"M18.56 5.44l.94 2.06.94-2.06 2.06-.94-2.06-.94-.94-2.06-.94 2.06-2.06.94zm-11 1L8.5 8.5l.94-2.06 2.06-.94-2.06-.94L8.5 2.5l-.94 2.06-2.06.94zm10 10l.94 2.06.94-2.06 2.06-.94-2.06-.94-.94-2.06-.94 2.06-2.06.94z\"/><path d=\"M17.41 7.96l-1.37-1.37c-.4-.4-.92-.59-1.43-.59-.52 0-1.04.2-1.43.59L10.3 9.45l-7.72 7.72c-.78.78-.78 2.05 0 2.83L4 21.41c.39.39.9.59 1.41.59.51 0 1.02-.2 1.41-.59l7.78-7.78 2.81-2.81c.8-.78.8-2.07 0-2.86zM5.41 20L4 18.59l7.72-7.72 1.47 1.35L5.41 20z\"/>\n",
              "  </svg>\n",
              "      </button>\n",
              "      \n",
              "  <style>\n",
              "    .colab-df-container {\n",
              "      display:flex;\n",
              "      flex-wrap:wrap;\n",
              "      gap: 12px;\n",
              "    }\n",
              "\n",
              "    .colab-df-convert {\n",
              "      background-color: #E8F0FE;\n",
              "      border: none;\n",
              "      border-radius: 50%;\n",
              "      cursor: pointer;\n",
              "      display: none;\n",
              "      fill: #1967D2;\n",
              "      height: 32px;\n",
              "      padding: 0 0 0 0;\n",
              "      width: 32px;\n",
              "    }\n",
              "\n",
              "    .colab-df-convert:hover {\n",
              "      background-color: #E2EBFA;\n",
              "      box-shadow: 0px 1px 2px rgba(60, 64, 67, 0.3), 0px 1px 3px 1px rgba(60, 64, 67, 0.15);\n",
              "      fill: #174EA6;\n",
              "    }\n",
              "\n",
              "    [theme=dark] .colab-df-convert {\n",
              "      background-color: #3B4455;\n",
              "      fill: #D2E3FC;\n",
              "    }\n",
              "\n",
              "    [theme=dark] .colab-df-convert:hover {\n",
              "      background-color: #434B5C;\n",
              "      box-shadow: 0px 1px 3px 1px rgba(0, 0, 0, 0.15);\n",
              "      filter: drop-shadow(0px 1px 2px rgba(0, 0, 0, 0.3));\n",
              "      fill: #FFFFFF;\n",
              "    }\n",
              "  </style>\n",
              "\n",
              "      <script>\n",
              "        const buttonEl =\n",
              "          document.querySelector('#df-56cb489b-5a86-41d9-a414-a56dbcf540d2 button.colab-df-convert');\n",
              "        buttonEl.style.display =\n",
              "          google.colab.kernel.accessAllowed ? 'block' : 'none';\n",
              "\n",
              "        async function convertToInteractive(key) {\n",
              "          const element = document.querySelector('#df-56cb489b-5a86-41d9-a414-a56dbcf540d2');\n",
              "          const dataTable =\n",
              "            await google.colab.kernel.invokeFunction('convertToInteractive',\n",
              "                                                     [key], {});\n",
              "          if (!dataTable) return;\n",
              "\n",
              "          const docLinkHtml = 'Like what you see? Visit the ' +\n",
              "            '<a target=\"_blank\" href=https://colab.research.google.com/notebooks/data_table.ipynb>data table notebook</a>'\n",
              "            + ' to learn more about interactive tables.';\n",
              "          element.innerHTML = '';\n",
              "          dataTable['output_type'] = 'display_data';\n",
              "          await google.colab.output.renderOutput(dataTable, element);\n",
              "          const docLink = document.createElement('div');\n",
              "          docLink.innerHTML = docLinkHtml;\n",
              "          element.appendChild(docLink);\n",
              "        }\n",
              "      </script>\n",
              "    </div>\n",
              "  </div>\n",
              "  "
            ],
            "text/plain": [
              "                             0  ...                                   4\n",
              "summary                  count  ...                                 max\n",
              "source                    9999  ...                         youtube.com\n",
              "isTrueDirect              9999  ...                                true\n",
              "medium                    9999  ...                            referral\n",
              "fullVisitorId             9999  ...                 4995924842281653133\n",
              "visitId                   9999  ...                          1501649190\n",
              "date                      9999  ...                            20170801\n",
              "newVisits                 9999  ...                                true\n",
              "hitType                   9999  ...                                PAGE\n",
              "hitAction_type            9999  ...                                   6\n",
              "hitNumber                 9999  ...                                  56\n",
              "hitHour                   9999  ...                                  23\n",
              "hitMin                    9999  ...                                  59\n",
              "timeMicroSec              9999  ...                             3513993\n",
              "v2ProductName             9999  ...  YouTube Youth Short Sleeve Tee Red\n",
              "productListName           9999  ...                      Search Results\n",
              "timeOnSite                8958  ...                                3514\n",
              "totalTransactionRevenue   9999  ...                            1.2897E8\n",
              "label                     9999  ...                              notBuy\n",
              "\n",
              "[19 rows x 5 columns]"
            ]
          },
          "metadata": {},
          "execution_count": 30
        }
      ]
    },
    {
      "cell_type": "code",
      "metadata": {
        "colab": {
          "base_uri": "https://localhost:8080/"
        },
        "id": "RxuzgDYC-1bE",
        "outputId": "78b48e3d-10cf-41ca-d4de-6afc3cf5bd79"
      },
      "source": [
        "crunched_df.dropna().count()"
      ],
      "execution_count": 31,
      "outputs": [
        {
          "output_type": "execute_result",
          "data": {
            "text/plain": [
              "8958"
            ]
          },
          "metadata": {},
          "execution_count": 31
        }
      ]
    },
    {
      "cell_type": "code",
      "metadata": {
        "id": "6ucCpear--Rh"
      },
      "source": [
        "final_df = crunched_df.dropna()"
      ],
      "execution_count": 32,
      "outputs": []
    },
    {
      "cell_type": "code",
      "metadata": {
        "colab": {
          "base_uri": "https://localhost:8080/",
          "height": 648
        },
        "id": "4dSeV13Z-68i",
        "outputId": "2e99cbb6-6d06-4846-a749-3eb7be3fa183"
      },
      "source": [
        "final_df.describe().toPandas().transpose()"
      ],
      "execution_count": 33,
      "outputs": [
        {
          "output_type": "execute_result",
          "data": {
            "text/html": [
              "\n",
              "  <div id=\"df-13990867-cb08-46b4-ab16-7086c8f2c68a\">\n",
              "    <div class=\"colab-df-container\">\n",
              "      <div>\n",
              "<style scoped>\n",
              "    .dataframe tbody tr th:only-of-type {\n",
              "        vertical-align: middle;\n",
              "    }\n",
              "\n",
              "    .dataframe tbody tr th {\n",
              "        vertical-align: top;\n",
              "    }\n",
              "\n",
              "    .dataframe thead th {\n",
              "        text-align: right;\n",
              "    }\n",
              "</style>\n",
              "<table border=\"1\" class=\"dataframe\">\n",
              "  <thead>\n",
              "    <tr style=\"text-align: right;\">\n",
              "      <th></th>\n",
              "      <th>0</th>\n",
              "      <th>1</th>\n",
              "      <th>2</th>\n",
              "      <th>3</th>\n",
              "      <th>4</th>\n",
              "    </tr>\n",
              "  </thead>\n",
              "  <tbody>\n",
              "    <tr>\n",
              "      <th>summary</th>\n",
              "      <td>count</td>\n",
              "      <td>mean</td>\n",
              "      <td>stddev</td>\n",
              "      <td>min</td>\n",
              "      <td>max</td>\n",
              "    </tr>\n",
              "    <tr>\n",
              "      <th>source</th>\n",
              "      <td>8958</td>\n",
              "      <td>None</td>\n",
              "      <td>None</td>\n",
              "      <td>(direct)</td>\n",
              "      <td>youtube.com</td>\n",
              "    </tr>\n",
              "    <tr>\n",
              "      <th>isTrueDirect</th>\n",
              "      <td>8958</td>\n",
              "      <td>None</td>\n",
              "      <td>None</td>\n",
              "      <td>false</td>\n",
              "      <td>true</td>\n",
              "    </tr>\n",
              "    <tr>\n",
              "      <th>medium</th>\n",
              "      <td>8958</td>\n",
              "      <td>None</td>\n",
              "      <td>None</td>\n",
              "      <td>(none)</td>\n",
              "      <td>referral</td>\n",
              "    </tr>\n",
              "    <tr>\n",
              "      <th>fullVisitorId</th>\n",
              "      <td>8958</td>\n",
              "      <td>4.5213872161084938E18</td>\n",
              "      <td>1.37948897535059482E18</td>\n",
              "      <td>49898679051871719</td>\n",
              "      <td>4995924842281653133</td>\n",
              "    </tr>\n",
              "    <tr>\n",
              "      <th>visitId</th>\n",
              "      <td>8958</td>\n",
              "      <td>1.484833213452668E9</td>\n",
              "      <td>8954199.880686603</td>\n",
              "      <td>1470106850</td>\n",
              "      <td>1501649190</td>\n",
              "    </tr>\n",
              "    <tr>\n",
              "      <th>date</th>\n",
              "      <td>8958</td>\n",
              "      <td>2.01658726431123E7</td>\n",
              "      <td>4700.377098126274</td>\n",
              "      <td>20160801</td>\n",
              "      <td>20170801</td>\n",
              "    </tr>\n",
              "    <tr>\n",
              "      <th>newVisits</th>\n",
              "      <td>8958</td>\n",
              "      <td>None</td>\n",
              "      <td>None</td>\n",
              "      <td>false</td>\n",
              "      <td>true</td>\n",
              "    </tr>\n",
              "    <tr>\n",
              "      <th>hitType</th>\n",
              "      <td>8958</td>\n",
              "      <td>None</td>\n",
              "      <td>None</td>\n",
              "      <td>EVENT</td>\n",
              "      <td>PAGE</td>\n",
              "    </tr>\n",
              "    <tr>\n",
              "      <th>hitAction_type</th>\n",
              "      <td>8958</td>\n",
              "      <td>0.15438713998660417</td>\n",
              "      <td>0.7235710402472797</td>\n",
              "      <td>0</td>\n",
              "      <td>6</td>\n",
              "    </tr>\n",
              "    <tr>\n",
              "      <th>hitNumber</th>\n",
              "      <td>8958</td>\n",
              "      <td>9.553136860906452</td>\n",
              "      <td>10.057555740367775</td>\n",
              "      <td>1</td>\n",
              "      <td>56</td>\n",
              "    </tr>\n",
              "    <tr>\n",
              "      <th>hitHour</th>\n",
              "      <td>8958</td>\n",
              "      <td>12.350971198928333</td>\n",
              "      <td>5.717343314447397</td>\n",
              "      <td>0</td>\n",
              "      <td>23</td>\n",
              "    </tr>\n",
              "    <tr>\n",
              "      <th>hitMin</th>\n",
              "      <td>8958</td>\n",
              "      <td>32.17269479794597</td>\n",
              "      <td>16.24748532564029</td>\n",
              "      <td>0</td>\n",
              "      <td>59</td>\n",
              "    </tr>\n",
              "    <tr>\n",
              "      <th>timeMicroSec</th>\n",
              "      <td>8958</td>\n",
              "      <td>238720.4002009377</td>\n",
              "      <td>382947.3607821344</td>\n",
              "      <td>0</td>\n",
              "      <td>3513993</td>\n",
              "    </tr>\n",
              "    <tr>\n",
              "      <th>v2ProductName</th>\n",
              "      <td>8958</td>\n",
              "      <td>None</td>\n",
              "      <td>None</td>\n",
              "      <td>1 oz Hand Sanitizer</td>\n",
              "      <td>YouTube Youth Short Sleeve Tee Red</td>\n",
              "    </tr>\n",
              "    <tr>\n",
              "      <th>productListName</th>\n",
              "      <td>8958</td>\n",
              "      <td>None</td>\n",
              "      <td>None</td>\n",
              "      <td>(not set)</td>\n",
              "      <td>Search Results</td>\n",
              "    </tr>\n",
              "    <tr>\n",
              "      <th>timeOnSite</th>\n",
              "      <td>8958</td>\n",
              "      <td>539.221478008484</td>\n",
              "      <td>689.0300130553856</td>\n",
              "      <td>3</td>\n",
              "      <td>3514</td>\n",
              "    </tr>\n",
              "    <tr>\n",
              "      <th>totalTransactionRevenue</th>\n",
              "      <td>8958</td>\n",
              "      <td>3323717.347622237</td>\n",
              "      <td>1.325545058680674E7</td>\n",
              "      <td>0.0</td>\n",
              "      <td>1.2897E8</td>\n",
              "    </tr>\n",
              "    <tr>\n",
              "      <th>label</th>\n",
              "      <td>8958</td>\n",
              "      <td>None</td>\n",
              "      <td>None</td>\n",
              "      <td>buy</td>\n",
              "      <td>notBuy</td>\n",
              "    </tr>\n",
              "  </tbody>\n",
              "</table>\n",
              "</div>\n",
              "      <button class=\"colab-df-convert\" onclick=\"convertToInteractive('df-13990867-cb08-46b4-ab16-7086c8f2c68a')\"\n",
              "              title=\"Convert this dataframe to an interactive table.\"\n",
              "              style=\"display:none;\">\n",
              "        \n",
              "  <svg xmlns=\"http://www.w3.org/2000/svg\" height=\"24px\"viewBox=\"0 0 24 24\"\n",
              "       width=\"24px\">\n",
              "    <path d=\"M0 0h24v24H0V0z\" fill=\"none\"/>\n",
              "    <path d=\"M18.56 5.44l.94 2.06.94-2.06 2.06-.94-2.06-.94-.94-2.06-.94 2.06-2.06.94zm-11 1L8.5 8.5l.94-2.06 2.06-.94-2.06-.94L8.5 2.5l-.94 2.06-2.06.94zm10 10l.94 2.06.94-2.06 2.06-.94-2.06-.94-.94-2.06-.94 2.06-2.06.94z\"/><path d=\"M17.41 7.96l-1.37-1.37c-.4-.4-.92-.59-1.43-.59-.52 0-1.04.2-1.43.59L10.3 9.45l-7.72 7.72c-.78.78-.78 2.05 0 2.83L4 21.41c.39.39.9.59 1.41.59.51 0 1.02-.2 1.41-.59l7.78-7.78 2.81-2.81c.8-.78.8-2.07 0-2.86zM5.41 20L4 18.59l7.72-7.72 1.47 1.35L5.41 20z\"/>\n",
              "  </svg>\n",
              "      </button>\n",
              "      \n",
              "  <style>\n",
              "    .colab-df-container {\n",
              "      display:flex;\n",
              "      flex-wrap:wrap;\n",
              "      gap: 12px;\n",
              "    }\n",
              "\n",
              "    .colab-df-convert {\n",
              "      background-color: #E8F0FE;\n",
              "      border: none;\n",
              "      border-radius: 50%;\n",
              "      cursor: pointer;\n",
              "      display: none;\n",
              "      fill: #1967D2;\n",
              "      height: 32px;\n",
              "      padding: 0 0 0 0;\n",
              "      width: 32px;\n",
              "    }\n",
              "\n",
              "    .colab-df-convert:hover {\n",
              "      background-color: #E2EBFA;\n",
              "      box-shadow: 0px 1px 2px rgba(60, 64, 67, 0.3), 0px 1px 3px 1px rgba(60, 64, 67, 0.15);\n",
              "      fill: #174EA6;\n",
              "    }\n",
              "\n",
              "    [theme=dark] .colab-df-convert {\n",
              "      background-color: #3B4455;\n",
              "      fill: #D2E3FC;\n",
              "    }\n",
              "\n",
              "    [theme=dark] .colab-df-convert:hover {\n",
              "      background-color: #434B5C;\n",
              "      box-shadow: 0px 1px 3px 1px rgba(0, 0, 0, 0.15);\n",
              "      filter: drop-shadow(0px 1px 2px rgba(0, 0, 0, 0.3));\n",
              "      fill: #FFFFFF;\n",
              "    }\n",
              "  </style>\n",
              "\n",
              "      <script>\n",
              "        const buttonEl =\n",
              "          document.querySelector('#df-13990867-cb08-46b4-ab16-7086c8f2c68a button.colab-df-convert');\n",
              "        buttonEl.style.display =\n",
              "          google.colab.kernel.accessAllowed ? 'block' : 'none';\n",
              "\n",
              "        async function convertToInteractive(key) {\n",
              "          const element = document.querySelector('#df-13990867-cb08-46b4-ab16-7086c8f2c68a');\n",
              "          const dataTable =\n",
              "            await google.colab.kernel.invokeFunction('convertToInteractive',\n",
              "                                                     [key], {});\n",
              "          if (!dataTable) return;\n",
              "\n",
              "          const docLinkHtml = 'Like what you see? Visit the ' +\n",
              "            '<a target=\"_blank\" href=https://colab.research.google.com/notebooks/data_table.ipynb>data table notebook</a>'\n",
              "            + ' to learn more about interactive tables.';\n",
              "          element.innerHTML = '';\n",
              "          dataTable['output_type'] = 'display_data';\n",
              "          await google.colab.output.renderOutput(dataTable, element);\n",
              "          const docLink = document.createElement('div');\n",
              "          docLink.innerHTML = docLinkHtml;\n",
              "          element.appendChild(docLink);\n",
              "        }\n",
              "      </script>\n",
              "    </div>\n",
              "  </div>\n",
              "  "
            ],
            "text/plain": [
              "                             0  ...                                   4\n",
              "summary                  count  ...                                 max\n",
              "source                    8958  ...                         youtube.com\n",
              "isTrueDirect              8958  ...                                true\n",
              "medium                    8958  ...                            referral\n",
              "fullVisitorId             8958  ...                 4995924842281653133\n",
              "visitId                   8958  ...                          1501649190\n",
              "date                      8958  ...                            20170801\n",
              "newVisits                 8958  ...                                true\n",
              "hitType                   8958  ...                                PAGE\n",
              "hitAction_type            8958  ...                                   6\n",
              "hitNumber                 8958  ...                                  56\n",
              "hitHour                   8958  ...                                  23\n",
              "hitMin                    8958  ...                                  59\n",
              "timeMicroSec              8958  ...                             3513993\n",
              "v2ProductName             8958  ...  YouTube Youth Short Sleeve Tee Red\n",
              "productListName           8958  ...                      Search Results\n",
              "timeOnSite                8958  ...                                3514\n",
              "totalTransactionRevenue   8958  ...                            1.2897E8\n",
              "label                     8958  ...                              notBuy\n",
              "\n",
              "[19 rows x 5 columns]"
            ]
          },
          "metadata": {},
          "execution_count": 33
        }
      ]
    },
    {
      "cell_type": "code",
      "metadata": {
        "colab": {
          "base_uri": "https://localhost:8080/"
        },
        "id": "x96JKjf1-8f-",
        "outputId": "dd75126e-a8dc-4a86-94e4-5d6a17fe9dc7"
      },
      "source": [
        "final_df.groupBy('label').count().show()"
      ],
      "execution_count": 34,
      "outputs": [
        {
          "output_type": "stream",
          "name": "stdout",
          "text": [
            "+------+-----+\n",
            "| label|count|\n",
            "+------+-----+\n",
            "|   buy|  707|\n",
            "|notBuy| 8251|\n",
            "+------+-----+\n",
            "\n"
          ]
        }
      ]
    },
    {
      "cell_type": "code",
      "metadata": {
        "id": "M8mGCFqW_CTd"
      },
      "source": [
        ""
      ],
      "execution_count": 34,
      "outputs": []
    },
    {
      "cell_type": "markdown",
      "metadata": {
        "id": "lXhzlLlL_IJa"
      },
      "source": [
        "4. Modeling"
      ]
    },
    {
      "cell_type": "code",
      "metadata": {
        "id": "S_JO-4ht_KOM"
      },
      "source": [
        "from pyspark.ml.feature import StringIndexer, OneHotEncoder"
      ],
      "execution_count": 35,
      "outputs": []
    },
    {
      "cell_type": "code",
      "metadata": {
        "colab": {
          "base_uri": "https://localhost:8080/"
        },
        "id": "-KBcme6M_L_v",
        "outputId": "1b0dc819-b3e4-4c71-e436-22df5e5db59d"
      },
      "source": [
        "final_df.columns"
      ],
      "execution_count": 36,
      "outputs": [
        {
          "output_type": "execute_result",
          "data": {
            "text/plain": [
              "['source',\n",
              " 'isTrueDirect',\n",
              " 'medium',\n",
              " 'fullVisitorId',\n",
              " 'visitId',\n",
              " 'date',\n",
              " 'newVisits',\n",
              " 'hitType',\n",
              " 'hitAction_type',\n",
              " 'hitNumber',\n",
              " 'hitHour',\n",
              " 'hitMin',\n",
              " 'timeMicroSec',\n",
              " 'v2ProductName',\n",
              " 'productListName',\n",
              " 'timeOnSite',\n",
              " 'totalTransactionRevenue',\n",
              " 'label']"
            ]
          },
          "metadata": {},
          "execution_count": 36
        }
      ]
    },
    {
      "cell_type": "code",
      "metadata": {
        "colab": {
          "base_uri": "https://localhost:8080/"
        },
        "id": "9j7ES3kq_NqI",
        "outputId": "091af1af-263c-4bf0-c152-c003878c213c"
      },
      "source": [
        "final_df.filter(sparkf.col('visitId') == '1470106850')\\\n",
        ".orderBy('hitNumber')\\\n",
        ".select(['fullVisitorId','visitId','hitHour','hitMin','v2ProductName','hitAction_type','label'])\\\n",
        ".show(100)"
      ],
      "execution_count": 37,
      "outputs": [
        {
          "output_type": "stream",
          "name": "stdout",
          "text": [
            "+-------------------+----------+-------+------+--------------------+--------------+-----+\n",
            "|      fullVisitorId|   visitId|hitHour|hitMin|       v2ProductName|hitAction_type|label|\n",
            "+-------------------+----------+-------+------+--------------------+--------------+-----+\n",
            "|4993485206334150199|1470106850|     20|     1|Women's YouTube S...|             0|  buy|\n",
            "|4993485206334150199|1470106850|     20|     1| YouTube Trucker Hat|             0|  buy|\n",
            "|4993485206334150199|1470106850|     20|     1|YouTube Women's R...|             0|  buy|\n",
            "|4993485206334150199|1470106850|     20|     1|YouTube Women's S...|             0|  buy|\n",
            "|4993485206334150199|1470106850|     20|     1|22 oz YouTube Bot...|             0|  buy|\n",
            "|4993485206334150199|1470106850|     20|     1|YouTube Men's Sho...|             0|  buy|\n",
            "|4993485206334150199|1470106850|     20|     1|YouTube Men's Lon...|             0|  buy|\n",
            "|4993485206334150199|1470106850|     20|     1|YouTube Men's 3/4...|             0|  buy|\n",
            "|4993485206334150199|1470106850|     20|     1|YouTube Men's Sho...|             0|  buy|\n",
            "|4993485206334150199|1470106850|     20|     1|YouTube Men's Vin...|             0|  buy|\n",
            "|4993485206334150199|1470106850|     20|     1|YouTube Men's Sho...|             0|  buy|\n",
            "|4993485206334150199|1470106850|     20|     1|24 oz YouTube Ser...|             0|  buy|\n",
            "|4993485206334150199|1470106850|     20|     1|YouTube Men's Vin...|             0|  buy|\n",
            "|4993485206334150199|1470106850|     20|     1|YouTube Men's Sho...|             2|  buy|\n",
            "|4993485206334150199|1470106850|     20|     1|YouTube Men's Sho...|             1|  buy|\n",
            "|4993485206334150199|1470106850|     20|     2|YouTube Men's Sho...|             1|  buy|\n",
            "|4993485206334150199|1470106850|     20|     2|Android Rise 14 o...|             0|  buy|\n",
            "|4993485206334150199|1470106850|     20|     2|Google Women's 1/...|             0|  buy|\n",
            "|4993485206334150199|1470106850|     20|     8|YouTube Men's Sho...|             5|  buy|\n",
            "|4993485206334150199|1470106850|     20|    10|YouTube Men's Sho...|             6|  buy|\n",
            "|4993485206334150199|1470106850|     20|    10|YouTube Men's Sho...|             6|  buy|\n",
            "+-------------------+----------+-------+------+--------------------+--------------+-----+\n",
            "\n"
          ]
        }
      ]
    },
    {
      "cell_type": "code",
      "metadata": {
        "colab": {
          "base_uri": "https://localhost:8080/",
          "height": 695
        },
        "id": "vpJlSGHX_PlB",
        "outputId": "04c60877-776d-45fa-e8e5-4de3ebab63fd"
      },
      "source": [
        "final_df.filter(sparkf.col('label') == 'buy').orderBy(['visitId','timeMicroSec']).limit(10).toPandas().transpose()"
      ],
      "execution_count": 38,
      "outputs": [
        {
          "output_type": "execute_result",
          "data": {
            "text/html": [
              "\n",
              "  <div id=\"df-cf676e57-d76e-4423-8303-3c3186f896c5\">\n",
              "    <div class=\"colab-df-container\">\n",
              "      <div>\n",
              "<style scoped>\n",
              "    .dataframe tbody tr th:only-of-type {\n",
              "        vertical-align: middle;\n",
              "    }\n",
              "\n",
              "    .dataframe tbody tr th {\n",
              "        vertical-align: top;\n",
              "    }\n",
              "\n",
              "    .dataframe thead th {\n",
              "        text-align: right;\n",
              "    }\n",
              "</style>\n",
              "<table border=\"1\" class=\"dataframe\">\n",
              "  <thead>\n",
              "    <tr style=\"text-align: right;\">\n",
              "      <th></th>\n",
              "      <th>0</th>\n",
              "      <th>1</th>\n",
              "      <th>2</th>\n",
              "      <th>3</th>\n",
              "      <th>4</th>\n",
              "      <th>5</th>\n",
              "      <th>6</th>\n",
              "      <th>7</th>\n",
              "      <th>8</th>\n",
              "      <th>9</th>\n",
              "    </tr>\n",
              "  </thead>\n",
              "  <tbody>\n",
              "    <tr>\n",
              "      <th>source</th>\n",
              "      <td>youtube.com</td>\n",
              "      <td>youtube.com</td>\n",
              "      <td>youtube.com</td>\n",
              "      <td>youtube.com</td>\n",
              "      <td>youtube.com</td>\n",
              "      <td>youtube.com</td>\n",
              "      <td>youtube.com</td>\n",
              "      <td>youtube.com</td>\n",
              "      <td>youtube.com</td>\n",
              "      <td>youtube.com</td>\n",
              "    </tr>\n",
              "    <tr>\n",
              "      <th>isTrueDirect</th>\n",
              "      <td>false</td>\n",
              "      <td>false</td>\n",
              "      <td>false</td>\n",
              "      <td>false</td>\n",
              "      <td>false</td>\n",
              "      <td>false</td>\n",
              "      <td>false</td>\n",
              "      <td>false</td>\n",
              "      <td>false</td>\n",
              "      <td>false</td>\n",
              "    </tr>\n",
              "    <tr>\n",
              "      <th>medium</th>\n",
              "      <td>referral</td>\n",
              "      <td>referral</td>\n",
              "      <td>referral</td>\n",
              "      <td>referral</td>\n",
              "      <td>referral</td>\n",
              "      <td>referral</td>\n",
              "      <td>referral</td>\n",
              "      <td>referral</td>\n",
              "      <td>referral</td>\n",
              "      <td>referral</td>\n",
              "    </tr>\n",
              "    <tr>\n",
              "      <th>fullVisitorId</th>\n",
              "      <td>4993485206334150199</td>\n",
              "      <td>4993485206334150199</td>\n",
              "      <td>4993485206334150199</td>\n",
              "      <td>4993485206334150199</td>\n",
              "      <td>4993485206334150199</td>\n",
              "      <td>4993485206334150199</td>\n",
              "      <td>4993485206334150199</td>\n",
              "      <td>4993485206334150199</td>\n",
              "      <td>4993485206334150199</td>\n",
              "      <td>4993485206334150199</td>\n",
              "    </tr>\n",
              "    <tr>\n",
              "      <th>visitId</th>\n",
              "      <td>1470106850</td>\n",
              "      <td>1470106850</td>\n",
              "      <td>1470106850</td>\n",
              "      <td>1470106850</td>\n",
              "      <td>1470106850</td>\n",
              "      <td>1470106850</td>\n",
              "      <td>1470106850</td>\n",
              "      <td>1470106850</td>\n",
              "      <td>1470106850</td>\n",
              "      <td>1470106850</td>\n",
              "    </tr>\n",
              "    <tr>\n",
              "      <th>date</th>\n",
              "      <td>20160801</td>\n",
              "      <td>20160801</td>\n",
              "      <td>20160801</td>\n",
              "      <td>20160801</td>\n",
              "      <td>20160801</td>\n",
              "      <td>20160801</td>\n",
              "      <td>20160801</td>\n",
              "      <td>20160801</td>\n",
              "      <td>20160801</td>\n",
              "      <td>20160801</td>\n",
              "    </tr>\n",
              "    <tr>\n",
              "      <th>newVisits</th>\n",
              "      <td>true</td>\n",
              "      <td>true</td>\n",
              "      <td>true</td>\n",
              "      <td>true</td>\n",
              "      <td>true</td>\n",
              "      <td>true</td>\n",
              "      <td>true</td>\n",
              "      <td>true</td>\n",
              "      <td>true</td>\n",
              "      <td>true</td>\n",
              "    </tr>\n",
              "    <tr>\n",
              "      <th>hitType</th>\n",
              "      <td>PAGE</td>\n",
              "      <td>PAGE</td>\n",
              "      <td>PAGE</td>\n",
              "      <td>PAGE</td>\n",
              "      <td>PAGE</td>\n",
              "      <td>PAGE</td>\n",
              "      <td>PAGE</td>\n",
              "      <td>PAGE</td>\n",
              "      <td>PAGE</td>\n",
              "      <td>PAGE</td>\n",
              "    </tr>\n",
              "    <tr>\n",
              "      <th>hitAction_type</th>\n",
              "      <td>0</td>\n",
              "      <td>0</td>\n",
              "      <td>0</td>\n",
              "      <td>0</td>\n",
              "      <td>0</td>\n",
              "      <td>0</td>\n",
              "      <td>0</td>\n",
              "      <td>0</td>\n",
              "      <td>0</td>\n",
              "      <td>0</td>\n",
              "    </tr>\n",
              "    <tr>\n",
              "      <th>hitNumber</th>\n",
              "      <td>2</td>\n",
              "      <td>2</td>\n",
              "      <td>2</td>\n",
              "      <td>2</td>\n",
              "      <td>2</td>\n",
              "      <td>2</td>\n",
              "      <td>2</td>\n",
              "      <td>2</td>\n",
              "      <td>2</td>\n",
              "      <td>2</td>\n",
              "    </tr>\n",
              "    <tr>\n",
              "      <th>hitHour</th>\n",
              "      <td>20</td>\n",
              "      <td>20</td>\n",
              "      <td>20</td>\n",
              "      <td>20</td>\n",
              "      <td>20</td>\n",
              "      <td>20</td>\n",
              "      <td>20</td>\n",
              "      <td>20</td>\n",
              "      <td>20</td>\n",
              "      <td>20</td>\n",
              "    </tr>\n",
              "    <tr>\n",
              "      <th>hitMin</th>\n",
              "      <td>1</td>\n",
              "      <td>1</td>\n",
              "      <td>1</td>\n",
              "      <td>1</td>\n",
              "      <td>1</td>\n",
              "      <td>1</td>\n",
              "      <td>1</td>\n",
              "      <td>1</td>\n",
              "      <td>1</td>\n",
              "      <td>1</td>\n",
              "    </tr>\n",
              "    <tr>\n",
              "      <th>timeMicroSec</th>\n",
              "      <td>20332</td>\n",
              "      <td>20332</td>\n",
              "      <td>20332</td>\n",
              "      <td>20332</td>\n",
              "      <td>20332</td>\n",
              "      <td>20332</td>\n",
              "      <td>20332</td>\n",
              "      <td>20332</td>\n",
              "      <td>20332</td>\n",
              "      <td>20332</td>\n",
              "    </tr>\n",
              "    <tr>\n",
              "      <th>v2ProductName</th>\n",
              "      <td>YouTube Men's 3/4 Sleeve Henley</td>\n",
              "      <td>YouTube Trucker Hat</td>\n",
              "      <td>YouTube Women's Racer Back Tank Black</td>\n",
              "      <td>YouTube Men's Vintage Tee</td>\n",
              "      <td>YouTube Men's Vintage Tank</td>\n",
              "      <td>Women's YouTube Short Sleeve Hero Tee Black</td>\n",
              "      <td>YouTube Men's Long Sleeve Pullover Badge Tee H...</td>\n",
              "      <td>YouTube Men's Short Sleeve Hero Tee Black</td>\n",
              "      <td>YouTube Men's Short Sleeve Hero Tee White</td>\n",
              "      <td>24 oz YouTube Sergeant Stripe Bottle</td>\n",
              "    </tr>\n",
              "    <tr>\n",
              "      <th>productListName</th>\n",
              "      <td>Category</td>\n",
              "      <td>Category</td>\n",
              "      <td>Category</td>\n",
              "      <td>Category</td>\n",
              "      <td>Category</td>\n",
              "      <td>Category</td>\n",
              "      <td>Category</td>\n",
              "      <td>Category</td>\n",
              "      <td>Category</td>\n",
              "      <td>Category</td>\n",
              "    </tr>\n",
              "    <tr>\n",
              "      <th>timeOnSite</th>\n",
              "      <td>571</td>\n",
              "      <td>571</td>\n",
              "      <td>571</td>\n",
              "      <td>571</td>\n",
              "      <td>571</td>\n",
              "      <td>571</td>\n",
              "      <td>571</td>\n",
              "      <td>571</td>\n",
              "      <td>571</td>\n",
              "      <td>571</td>\n",
              "    </tr>\n",
              "    <tr>\n",
              "      <th>totalTransactionRevenue</th>\n",
              "      <td>2.399e+07</td>\n",
              "      <td>2.399e+07</td>\n",
              "      <td>2.399e+07</td>\n",
              "      <td>2.399e+07</td>\n",
              "      <td>2.399e+07</td>\n",
              "      <td>2.399e+07</td>\n",
              "      <td>2.399e+07</td>\n",
              "      <td>2.399e+07</td>\n",
              "      <td>2.399e+07</td>\n",
              "      <td>2.399e+07</td>\n",
              "    </tr>\n",
              "    <tr>\n",
              "      <th>label</th>\n",
              "      <td>buy</td>\n",
              "      <td>buy</td>\n",
              "      <td>buy</td>\n",
              "      <td>buy</td>\n",
              "      <td>buy</td>\n",
              "      <td>buy</td>\n",
              "      <td>buy</td>\n",
              "      <td>buy</td>\n",
              "      <td>buy</td>\n",
              "      <td>buy</td>\n",
              "    </tr>\n",
              "  </tbody>\n",
              "</table>\n",
              "</div>\n",
              "      <button class=\"colab-df-convert\" onclick=\"convertToInteractive('df-cf676e57-d76e-4423-8303-3c3186f896c5')\"\n",
              "              title=\"Convert this dataframe to an interactive table.\"\n",
              "              style=\"display:none;\">\n",
              "        \n",
              "  <svg xmlns=\"http://www.w3.org/2000/svg\" height=\"24px\"viewBox=\"0 0 24 24\"\n",
              "       width=\"24px\">\n",
              "    <path d=\"M0 0h24v24H0V0z\" fill=\"none\"/>\n",
              "    <path d=\"M18.56 5.44l.94 2.06.94-2.06 2.06-.94-2.06-.94-.94-2.06-.94 2.06-2.06.94zm-11 1L8.5 8.5l.94-2.06 2.06-.94-2.06-.94L8.5 2.5l-.94 2.06-2.06.94zm10 10l.94 2.06.94-2.06 2.06-.94-2.06-.94-.94-2.06-.94 2.06-2.06.94z\"/><path d=\"M17.41 7.96l-1.37-1.37c-.4-.4-.92-.59-1.43-.59-.52 0-1.04.2-1.43.59L10.3 9.45l-7.72 7.72c-.78.78-.78 2.05 0 2.83L4 21.41c.39.39.9.59 1.41.59.51 0 1.02-.2 1.41-.59l7.78-7.78 2.81-2.81c.8-.78.8-2.07 0-2.86zM5.41 20L4 18.59l7.72-7.72 1.47 1.35L5.41 20z\"/>\n",
              "  </svg>\n",
              "      </button>\n",
              "      \n",
              "  <style>\n",
              "    .colab-df-container {\n",
              "      display:flex;\n",
              "      flex-wrap:wrap;\n",
              "      gap: 12px;\n",
              "    }\n",
              "\n",
              "    .colab-df-convert {\n",
              "      background-color: #E8F0FE;\n",
              "      border: none;\n",
              "      border-radius: 50%;\n",
              "      cursor: pointer;\n",
              "      display: none;\n",
              "      fill: #1967D2;\n",
              "      height: 32px;\n",
              "      padding: 0 0 0 0;\n",
              "      width: 32px;\n",
              "    }\n",
              "\n",
              "    .colab-df-convert:hover {\n",
              "      background-color: #E2EBFA;\n",
              "      box-shadow: 0px 1px 2px rgba(60, 64, 67, 0.3), 0px 1px 3px 1px rgba(60, 64, 67, 0.15);\n",
              "      fill: #174EA6;\n",
              "    }\n",
              "\n",
              "    [theme=dark] .colab-df-convert {\n",
              "      background-color: #3B4455;\n",
              "      fill: #D2E3FC;\n",
              "    }\n",
              "\n",
              "    [theme=dark] .colab-df-convert:hover {\n",
              "      background-color: #434B5C;\n",
              "      box-shadow: 0px 1px 3px 1px rgba(0, 0, 0, 0.15);\n",
              "      filter: drop-shadow(0px 1px 2px rgba(0, 0, 0, 0.3));\n",
              "      fill: #FFFFFF;\n",
              "    }\n",
              "  </style>\n",
              "\n",
              "      <script>\n",
              "        const buttonEl =\n",
              "          document.querySelector('#df-cf676e57-d76e-4423-8303-3c3186f896c5 button.colab-df-convert');\n",
              "        buttonEl.style.display =\n",
              "          google.colab.kernel.accessAllowed ? 'block' : 'none';\n",
              "\n",
              "        async function convertToInteractive(key) {\n",
              "          const element = document.querySelector('#df-cf676e57-d76e-4423-8303-3c3186f896c5');\n",
              "          const dataTable =\n",
              "            await google.colab.kernel.invokeFunction('convertToInteractive',\n",
              "                                                     [key], {});\n",
              "          if (!dataTable) return;\n",
              "\n",
              "          const docLinkHtml = 'Like what you see? Visit the ' +\n",
              "            '<a target=\"_blank\" href=https://colab.research.google.com/notebooks/data_table.ipynb>data table notebook</a>'\n",
              "            + ' to learn more about interactive tables.';\n",
              "          element.innerHTML = '';\n",
              "          dataTable['output_type'] = 'display_data';\n",
              "          await google.colab.output.renderOutput(dataTable, element);\n",
              "          const docLink = document.createElement('div');\n",
              "          docLink.innerHTML = docLinkHtml;\n",
              "          element.appendChild(docLink);\n",
              "        }\n",
              "      </script>\n",
              "    </div>\n",
              "  </div>\n",
              "  "
            ],
            "text/plain": [
              "                                                       0  ...                                     9\n",
              "source                                       youtube.com  ...                           youtube.com\n",
              "isTrueDirect                                       false  ...                                 false\n",
              "medium                                          referral  ...                              referral\n",
              "fullVisitorId                        4993485206334150199  ...                   4993485206334150199\n",
              "visitId                                       1470106850  ...                            1470106850\n",
              "date                                            20160801  ...                              20160801\n",
              "newVisits                                           true  ...                                  true\n",
              "hitType                                             PAGE  ...                                  PAGE\n",
              "hitAction_type                                         0  ...                                     0\n",
              "hitNumber                                              2  ...                                     2\n",
              "hitHour                                               20  ...                                    20\n",
              "hitMin                                                 1  ...                                     1\n",
              "timeMicroSec                                       20332  ...                                 20332\n",
              "v2ProductName            YouTube Men's 3/4 Sleeve Henley  ...  24 oz YouTube Sergeant Stripe Bottle\n",
              "productListName                                 Category  ...                              Category\n",
              "timeOnSite                                           571  ...                                   571\n",
              "totalTransactionRevenue                        2.399e+07  ...                             2.399e+07\n",
              "label                                                buy  ...                                   buy\n",
              "\n",
              "[18 rows x 10 columns]"
            ]
          },
          "metadata": {},
          "execution_count": 38
        }
      ]
    },
    {
      "cell_type": "code",
      "metadata": {
        "colab": {
          "base_uri": "https://localhost:8080/",
          "height": 695
        },
        "id": "z98d2m7u_Rzj",
        "outputId": "960556b7-f270-4550-90ce-d85f83041e36"
      },
      "source": [
        "final_df.orderBy(['visitId','timeMicroSec']).limit(10).toPandas().transpose()"
      ],
      "execution_count": 39,
      "outputs": [
        {
          "output_type": "execute_result",
          "data": {
            "text/html": [
              "\n",
              "  <div id=\"df-7c6208a1-9355-494a-9fae-6206e5ff2870\">\n",
              "    <div class=\"colab-df-container\">\n",
              "      <div>\n",
              "<style scoped>\n",
              "    .dataframe tbody tr th:only-of-type {\n",
              "        vertical-align: middle;\n",
              "    }\n",
              "\n",
              "    .dataframe tbody tr th {\n",
              "        vertical-align: top;\n",
              "    }\n",
              "\n",
              "    .dataframe thead th {\n",
              "        text-align: right;\n",
              "    }\n",
              "</style>\n",
              "<table border=\"1\" class=\"dataframe\">\n",
              "  <thead>\n",
              "    <tr style=\"text-align: right;\">\n",
              "      <th></th>\n",
              "      <th>0</th>\n",
              "      <th>1</th>\n",
              "      <th>2</th>\n",
              "      <th>3</th>\n",
              "      <th>4</th>\n",
              "      <th>5</th>\n",
              "      <th>6</th>\n",
              "      <th>7</th>\n",
              "      <th>8</th>\n",
              "      <th>9</th>\n",
              "    </tr>\n",
              "  </thead>\n",
              "  <tbody>\n",
              "    <tr>\n",
              "      <th>source</th>\n",
              "      <td>youtube.com</td>\n",
              "      <td>youtube.com</td>\n",
              "      <td>youtube.com</td>\n",
              "      <td>youtube.com</td>\n",
              "      <td>youtube.com</td>\n",
              "      <td>youtube.com</td>\n",
              "      <td>youtube.com</td>\n",
              "      <td>youtube.com</td>\n",
              "      <td>youtube.com</td>\n",
              "      <td>youtube.com</td>\n",
              "    </tr>\n",
              "    <tr>\n",
              "      <th>isTrueDirect</th>\n",
              "      <td>false</td>\n",
              "      <td>false</td>\n",
              "      <td>false</td>\n",
              "      <td>false</td>\n",
              "      <td>false</td>\n",
              "      <td>false</td>\n",
              "      <td>false</td>\n",
              "      <td>false</td>\n",
              "      <td>false</td>\n",
              "      <td>false</td>\n",
              "    </tr>\n",
              "    <tr>\n",
              "      <th>medium</th>\n",
              "      <td>referral</td>\n",
              "      <td>referral</td>\n",
              "      <td>referral</td>\n",
              "      <td>referral</td>\n",
              "      <td>referral</td>\n",
              "      <td>referral</td>\n",
              "      <td>referral</td>\n",
              "      <td>referral</td>\n",
              "      <td>referral</td>\n",
              "      <td>referral</td>\n",
              "    </tr>\n",
              "    <tr>\n",
              "      <th>fullVisitorId</th>\n",
              "      <td>4993485206334150199</td>\n",
              "      <td>4993485206334150199</td>\n",
              "      <td>4993485206334150199</td>\n",
              "      <td>4993485206334150199</td>\n",
              "      <td>4993485206334150199</td>\n",
              "      <td>4993485206334150199</td>\n",
              "      <td>4993485206334150199</td>\n",
              "      <td>4993485206334150199</td>\n",
              "      <td>4993485206334150199</td>\n",
              "      <td>4993485206334150199</td>\n",
              "    </tr>\n",
              "    <tr>\n",
              "      <th>visitId</th>\n",
              "      <td>1470106850</td>\n",
              "      <td>1470106850</td>\n",
              "      <td>1470106850</td>\n",
              "      <td>1470106850</td>\n",
              "      <td>1470106850</td>\n",
              "      <td>1470106850</td>\n",
              "      <td>1470106850</td>\n",
              "      <td>1470106850</td>\n",
              "      <td>1470106850</td>\n",
              "      <td>1470106850</td>\n",
              "    </tr>\n",
              "    <tr>\n",
              "      <th>date</th>\n",
              "      <td>20160801</td>\n",
              "      <td>20160801</td>\n",
              "      <td>20160801</td>\n",
              "      <td>20160801</td>\n",
              "      <td>20160801</td>\n",
              "      <td>20160801</td>\n",
              "      <td>20160801</td>\n",
              "      <td>20160801</td>\n",
              "      <td>20160801</td>\n",
              "      <td>20160801</td>\n",
              "    </tr>\n",
              "    <tr>\n",
              "      <th>newVisits</th>\n",
              "      <td>true</td>\n",
              "      <td>true</td>\n",
              "      <td>true</td>\n",
              "      <td>true</td>\n",
              "      <td>true</td>\n",
              "      <td>true</td>\n",
              "      <td>true</td>\n",
              "      <td>true</td>\n",
              "      <td>true</td>\n",
              "      <td>true</td>\n",
              "    </tr>\n",
              "    <tr>\n",
              "      <th>hitType</th>\n",
              "      <td>PAGE</td>\n",
              "      <td>PAGE</td>\n",
              "      <td>PAGE</td>\n",
              "      <td>PAGE</td>\n",
              "      <td>PAGE</td>\n",
              "      <td>PAGE</td>\n",
              "      <td>PAGE</td>\n",
              "      <td>PAGE</td>\n",
              "      <td>PAGE</td>\n",
              "      <td>PAGE</td>\n",
              "    </tr>\n",
              "    <tr>\n",
              "      <th>hitAction_type</th>\n",
              "      <td>0</td>\n",
              "      <td>0</td>\n",
              "      <td>0</td>\n",
              "      <td>0</td>\n",
              "      <td>0</td>\n",
              "      <td>0</td>\n",
              "      <td>0</td>\n",
              "      <td>0</td>\n",
              "      <td>0</td>\n",
              "      <td>0</td>\n",
              "    </tr>\n",
              "    <tr>\n",
              "      <th>hitNumber</th>\n",
              "      <td>2</td>\n",
              "      <td>2</td>\n",
              "      <td>2</td>\n",
              "      <td>2</td>\n",
              "      <td>2</td>\n",
              "      <td>2</td>\n",
              "      <td>2</td>\n",
              "      <td>2</td>\n",
              "      <td>2</td>\n",
              "      <td>2</td>\n",
              "    </tr>\n",
              "    <tr>\n",
              "      <th>hitHour</th>\n",
              "      <td>20</td>\n",
              "      <td>20</td>\n",
              "      <td>20</td>\n",
              "      <td>20</td>\n",
              "      <td>20</td>\n",
              "      <td>20</td>\n",
              "      <td>20</td>\n",
              "      <td>20</td>\n",
              "      <td>20</td>\n",
              "      <td>20</td>\n",
              "    </tr>\n",
              "    <tr>\n",
              "      <th>hitMin</th>\n",
              "      <td>1</td>\n",
              "      <td>1</td>\n",
              "      <td>1</td>\n",
              "      <td>1</td>\n",
              "      <td>1</td>\n",
              "      <td>1</td>\n",
              "      <td>1</td>\n",
              "      <td>1</td>\n",
              "      <td>1</td>\n",
              "      <td>1</td>\n",
              "    </tr>\n",
              "    <tr>\n",
              "      <th>timeMicroSec</th>\n",
              "      <td>20332</td>\n",
              "      <td>20332</td>\n",
              "      <td>20332</td>\n",
              "      <td>20332</td>\n",
              "      <td>20332</td>\n",
              "      <td>20332</td>\n",
              "      <td>20332</td>\n",
              "      <td>20332</td>\n",
              "      <td>20332</td>\n",
              "      <td>20332</td>\n",
              "    </tr>\n",
              "    <tr>\n",
              "      <th>v2ProductName</th>\n",
              "      <td>22 oz YouTube Bottle Infuser</td>\n",
              "      <td>YouTube Men's Long Sleeve Pullover Badge Tee H...</td>\n",
              "      <td>YouTube Trucker Hat</td>\n",
              "      <td>YouTube Men's Short Sleeve Hero Tee Black</td>\n",
              "      <td>Women's YouTube Short Sleeve Hero Tee Black</td>\n",
              "      <td>24 oz YouTube Sergeant Stripe Bottle</td>\n",
              "      <td>YouTube Women's Racer Back Tank Black</td>\n",
              "      <td>YouTube Men's Vintage Tee</td>\n",
              "      <td>YouTube Men's Short Sleeve Hero Tee White</td>\n",
              "      <td>YouTube Women's Short Sleeve Tri-blend Badge T...</td>\n",
              "    </tr>\n",
              "    <tr>\n",
              "      <th>productListName</th>\n",
              "      <td>Category</td>\n",
              "      <td>Category</td>\n",
              "      <td>Category</td>\n",
              "      <td>Category</td>\n",
              "      <td>Category</td>\n",
              "      <td>Category</td>\n",
              "      <td>Category</td>\n",
              "      <td>Category</td>\n",
              "      <td>Category</td>\n",
              "      <td>Category</td>\n",
              "    </tr>\n",
              "    <tr>\n",
              "      <th>timeOnSite</th>\n",
              "      <td>571</td>\n",
              "      <td>571</td>\n",
              "      <td>571</td>\n",
              "      <td>571</td>\n",
              "      <td>571</td>\n",
              "      <td>571</td>\n",
              "      <td>571</td>\n",
              "      <td>571</td>\n",
              "      <td>571</td>\n",
              "      <td>571</td>\n",
              "    </tr>\n",
              "    <tr>\n",
              "      <th>totalTransactionRevenue</th>\n",
              "      <td>2.399e+07</td>\n",
              "      <td>2.399e+07</td>\n",
              "      <td>2.399e+07</td>\n",
              "      <td>2.399e+07</td>\n",
              "      <td>2.399e+07</td>\n",
              "      <td>2.399e+07</td>\n",
              "      <td>2.399e+07</td>\n",
              "      <td>2.399e+07</td>\n",
              "      <td>2.399e+07</td>\n",
              "      <td>2.399e+07</td>\n",
              "    </tr>\n",
              "    <tr>\n",
              "      <th>label</th>\n",
              "      <td>buy</td>\n",
              "      <td>buy</td>\n",
              "      <td>buy</td>\n",
              "      <td>buy</td>\n",
              "      <td>buy</td>\n",
              "      <td>buy</td>\n",
              "      <td>buy</td>\n",
              "      <td>buy</td>\n",
              "      <td>buy</td>\n",
              "      <td>buy</td>\n",
              "    </tr>\n",
              "  </tbody>\n",
              "</table>\n",
              "</div>\n",
              "      <button class=\"colab-df-convert\" onclick=\"convertToInteractive('df-7c6208a1-9355-494a-9fae-6206e5ff2870')\"\n",
              "              title=\"Convert this dataframe to an interactive table.\"\n",
              "              style=\"display:none;\">\n",
              "        \n",
              "  <svg xmlns=\"http://www.w3.org/2000/svg\" height=\"24px\"viewBox=\"0 0 24 24\"\n",
              "       width=\"24px\">\n",
              "    <path d=\"M0 0h24v24H0V0z\" fill=\"none\"/>\n",
              "    <path d=\"M18.56 5.44l.94 2.06.94-2.06 2.06-.94-2.06-.94-.94-2.06-.94 2.06-2.06.94zm-11 1L8.5 8.5l.94-2.06 2.06-.94-2.06-.94L8.5 2.5l-.94 2.06-2.06.94zm10 10l.94 2.06.94-2.06 2.06-.94-2.06-.94-.94-2.06-.94 2.06-2.06.94z\"/><path d=\"M17.41 7.96l-1.37-1.37c-.4-.4-.92-.59-1.43-.59-.52 0-1.04.2-1.43.59L10.3 9.45l-7.72 7.72c-.78.78-.78 2.05 0 2.83L4 21.41c.39.39.9.59 1.41.59.51 0 1.02-.2 1.41-.59l7.78-7.78 2.81-2.81c.8-.78.8-2.07 0-2.86zM5.41 20L4 18.59l7.72-7.72 1.47 1.35L5.41 20z\"/>\n",
              "  </svg>\n",
              "      </button>\n",
              "      \n",
              "  <style>\n",
              "    .colab-df-container {\n",
              "      display:flex;\n",
              "      flex-wrap:wrap;\n",
              "      gap: 12px;\n",
              "    }\n",
              "\n",
              "    .colab-df-convert {\n",
              "      background-color: #E8F0FE;\n",
              "      border: none;\n",
              "      border-radius: 50%;\n",
              "      cursor: pointer;\n",
              "      display: none;\n",
              "      fill: #1967D2;\n",
              "      height: 32px;\n",
              "      padding: 0 0 0 0;\n",
              "      width: 32px;\n",
              "    }\n",
              "\n",
              "    .colab-df-convert:hover {\n",
              "      background-color: #E2EBFA;\n",
              "      box-shadow: 0px 1px 2px rgba(60, 64, 67, 0.3), 0px 1px 3px 1px rgba(60, 64, 67, 0.15);\n",
              "      fill: #174EA6;\n",
              "    }\n",
              "\n",
              "    [theme=dark] .colab-df-convert {\n",
              "      background-color: #3B4455;\n",
              "      fill: #D2E3FC;\n",
              "    }\n",
              "\n",
              "    [theme=dark] .colab-df-convert:hover {\n",
              "      background-color: #434B5C;\n",
              "      box-shadow: 0px 1px 3px 1px rgba(0, 0, 0, 0.15);\n",
              "      filter: drop-shadow(0px 1px 2px rgba(0, 0, 0, 0.3));\n",
              "      fill: #FFFFFF;\n",
              "    }\n",
              "  </style>\n",
              "\n",
              "      <script>\n",
              "        const buttonEl =\n",
              "          document.querySelector('#df-7c6208a1-9355-494a-9fae-6206e5ff2870 button.colab-df-convert');\n",
              "        buttonEl.style.display =\n",
              "          google.colab.kernel.accessAllowed ? 'block' : 'none';\n",
              "\n",
              "        async function convertToInteractive(key) {\n",
              "          const element = document.querySelector('#df-7c6208a1-9355-494a-9fae-6206e5ff2870');\n",
              "          const dataTable =\n",
              "            await google.colab.kernel.invokeFunction('convertToInteractive',\n",
              "                                                     [key], {});\n",
              "          if (!dataTable) return;\n",
              "\n",
              "          const docLinkHtml = 'Like what you see? Visit the ' +\n",
              "            '<a target=\"_blank\" href=https://colab.research.google.com/notebooks/data_table.ipynb>data table notebook</a>'\n",
              "            + ' to learn more about interactive tables.';\n",
              "          element.innerHTML = '';\n",
              "          dataTable['output_type'] = 'display_data';\n",
              "          await google.colab.output.renderOutput(dataTable, element);\n",
              "          const docLink = document.createElement('div');\n",
              "          docLink.innerHTML = docLinkHtml;\n",
              "          element.appendChild(docLink);\n",
              "        }\n",
              "      </script>\n",
              "    </div>\n",
              "  </div>\n",
              "  "
            ],
            "text/plain": [
              "                                                    0  ...                                                  9\n",
              "source                                    youtube.com  ...                                        youtube.com\n",
              "isTrueDirect                                    false  ...                                              false\n",
              "medium                                       referral  ...                                           referral\n",
              "fullVisitorId                     4993485206334150199  ...                                4993485206334150199\n",
              "visitId                                    1470106850  ...                                         1470106850\n",
              "date                                         20160801  ...                                           20160801\n",
              "newVisits                                        true  ...                                               true\n",
              "hitType                                          PAGE  ...                                               PAGE\n",
              "hitAction_type                                      0  ...                                                  0\n",
              "hitNumber                                           2  ...                                                  2\n",
              "hitHour                                            20  ...                                                 20\n",
              "hitMin                                              1  ...                                                  1\n",
              "timeMicroSec                                    20332  ...                                              20332\n",
              "v2ProductName            22 oz YouTube Bottle Infuser  ...  YouTube Women's Short Sleeve Tri-blend Badge T...\n",
              "productListName                              Category  ...                                           Category\n",
              "timeOnSite                                        571  ...                                                571\n",
              "totalTransactionRevenue                     2.399e+07  ...                                          2.399e+07\n",
              "label                                             buy  ...                                                buy\n",
              "\n",
              "[18 rows x 10 columns]"
            ]
          },
          "metadata": {},
          "execution_count": 39
        }
      ]
    },
    {
      "cell_type": "code",
      "metadata": {
        "id": "rgobyk-q_WxY"
      },
      "source": [
        "sourceIndexer = StringIndexer(inputCol='source', outputCol='sourceIndexed',\n",
        "    handleInvalid='keep')\n",
        "sourceOneHotEncoder = OneHotEncoder(inputCol='sourceIndexed', outputCol='sourceVec')"
      ],
      "execution_count": 40,
      "outputs": []
    },
    {
      "cell_type": "code",
      "metadata": {
        "id": "Pzrir-x__gQd"
      },
      "source": [
        "isTrueDirectIndexer = StringIndexer(inputCol='isTrueDirect', outputCol='isTrueDirectIndexed',\n",
        "    handleInvalid='keep')\n",
        "isTrueDirectOneHotEncoder = OneHotEncoder(inputCol='isTrueDirectIndexed', outputCol='isTrueDirectVec')"
      ],
      "execution_count": 41,
      "outputs": []
    },
    {
      "cell_type": "code",
      "metadata": {
        "id": "3iiDEJ8y_jqz"
      },
      "source": [
        "mediumIndexer = StringIndexer(inputCol='medium', outputCol='mediumIndexed',\n",
        "    handleInvalid='keep')\n",
        "mediumOneHotEncoder = OneHotEncoder(inputCol='mediumIndexed', outputCol='mediumVec')"
      ],
      "execution_count": 42,
      "outputs": []
    },
    {
      "cell_type": "code",
      "metadata": {
        "id": "qCSsSG7U_lE2"
      },
      "source": [
        "newVisitsIndexer = StringIndexer(inputCol='newVisits', outputCol='newVisitsIndexed',\n",
        "    handleInvalid='keep')\n",
        "newVisitsOneHotEncoder = OneHotEncoder(inputCol='newVisitsIndexed', outputCol='newVisitsVec')"
      ],
      "execution_count": 43,
      "outputs": []
    },
    {
      "cell_type": "code",
      "metadata": {
        "id": "vNH8uG4Z_nZQ"
      },
      "source": [
        "hitTypeIndexer = StringIndexer(inputCol='hitType', outputCol='hitTypeIndexed',\n",
        "    handleInvalid='keep')\n",
        "hitTypeOneHotEncoder = OneHotEncoder(inputCol='hitTypeIndexed', outputCol='hitTypeVec')"
      ],
      "execution_count": 44,
      "outputs": []
    },
    {
      "cell_type": "code",
      "metadata": {
        "id": "2_2Xqkte_pTo"
      },
      "source": [
        "v2ProductNameIndexer = StringIndexer(inputCol='v2ProductName', outputCol='v2ProductNameIndexed',\n",
        "    handleInvalid='keep')\n",
        "v2ProductNameOneHotEncoder = OneHotEncoder(inputCol='v2ProductNameIndexed', outputCol='v2ProductNameVec')"
      ],
      "execution_count": 45,
      "outputs": []
    },
    {
      "cell_type": "code",
      "metadata": {
        "id": "Q9y7mEV8_rie"
      },
      "source": [
        "productListNameIndexer = StringIndexer(inputCol='productListName', outputCol='productListNameIndexed',\n",
        "    handleInvalid='keep')\n",
        "productListNameOneHotEncoder = OneHotEncoder(inputCol='productListNameIndexed', outputCol='productListNameVec')"
      ],
      "execution_count": 46,
      "outputs": []
    },
    {
      "cell_type": "code",
      "metadata": {
        "id": "9-X3qMKD_tJZ"
      },
      "source": [
        "labelIndexer = StringIndexer(inputCol='label', outputCol='labelIndexed',\n",
        "    handleInvalid='keep')\n",
        "#labelOneHotEncoder = OneHotEncoder(inputCol='labelIndexed', outputCol='labelVec')"
      ],
      "execution_count": 47,
      "outputs": []
    },
    {
      "cell_type": "code",
      "metadata": {
        "id": "bMQXVahC_umT"
      },
      "source": [
        "from pyspark.mllib.linalg import Vectors"
      ],
      "execution_count": 48,
      "outputs": []
    },
    {
      "cell_type": "code",
      "metadata": {
        "id": "i9lvm-9K_wE1"
      },
      "source": [
        "from pyspark.ml.feature import VectorAssembler"
      ],
      "execution_count": 49,
      "outputs": []
    },
    {
      "cell_type": "code",
      "metadata": {
        "id": "IedUhi4g_xlh"
      },
      "source": [
        "from pyspark.ml import Pipeline"
      ],
      "execution_count": 50,
      "outputs": []
    },
    {
      "cell_type": "code",
      "metadata": {
        "id": "SYdf_n8p_y2t"
      },
      "source": [
        "featureAssembler = VectorAssembler(inputCols=['sourceVec'\\\n",
        "                                             ,'isTrueDirectVec'\\\n",
        "                                             ,'mediumVec'\\\n",
        "                                             ,'newVisitsVec'\\\n",
        "                                             ,'hitTypeVec'\\\n",
        "                                             ,'v2ProductNameVec'\\\n",
        "                                             ,'productListNameVec'\\\n",
        "                                             ,'hitNumber'\\\n",
        "                                             ,'timeMicroSec'], outputCol='features')"
      ],
      "execution_count": 51,
      "outputs": []
    },
    {
      "cell_type": "code",
      "metadata": {
        "id": "W5lI3odn_0R-"
      },
      "source": [
        "from pyspark.ml.classification import DecisionTreeClassifier"
      ],
      "execution_count": 52,
      "outputs": []
    },
    {
      "cell_type": "code",
      "metadata": {
        "id": "veOkol7m_1nK"
      },
      "source": [
        "algo = DecisionTreeClassifier(labelCol='labelIndexed',featuresCol='features')"
      ],
      "execution_count": 53,
      "outputs": []
    },
    {
      "cell_type": "code",
      "metadata": {
        "id": "ZCTWLJjU_25l"
      },
      "source": [
        "pipeline_train = Pipeline().setStages([sourceIndexer,sourceOneHotEncoder,isTrueDirectIndexer,isTrueDirectOneHotEncoder\\\n",
        "                     ,mediumIndexer,mediumOneHotEncoder,newVisitsIndexer,newVisitsOneHotEncoder\\\n",
        "                     ,hitTypeIndexer,hitTypeOneHotEncoder,v2ProductNameIndexer,v2ProductNameOneHotEncoder\\\n",
        "                     ,productListNameIndexer,productListNameOneHotEncoder\\\n",
        "                                       ,labelIndexer\\\n",
        "                                       ,featureAssembler,algo])"
      ],
      "execution_count": 54,
      "outputs": []
    },
    {
      "cell_type": "code",
      "metadata": {
        "id": "bGpNavDK_4TW"
      },
      "source": [
        "training_df, testing_df = final_df.randomSplit(weights = [0.80, 0.20], seed = 13)"
      ],
      "execution_count": 55,
      "outputs": []
    },
    {
      "cell_type": "code",
      "metadata": {
        "id": "7pNWIcP1_6EI"
      },
      "source": [
        "model = pipeline_train.fit(training_df)"
      ],
      "execution_count": 56,
      "outputs": []
    },
    {
      "cell_type": "code",
      "metadata": {
        "colab": {
          "base_uri": "https://localhost:8080/"
        },
        "id": "QWhtuUER_7ju",
        "outputId": "f45829f7-3b30-4ee6-a8c6-ba519ef1543a"
      },
      "source": [
        "model"
      ],
      "execution_count": 57,
      "outputs": [
        {
          "output_type": "execute_result",
          "data": {
            "text/plain": [
              "PipelineModel_64aa5fafc7dc"
            ]
          },
          "metadata": {},
          "execution_count": 57
        }
      ]
    },
    {
      "cell_type": "code",
      "metadata": {
        "id": "U0-1YFA6AXJ0"
      },
      "source": [
        ""
      ],
      "execution_count": 57,
      "outputs": []
    },
    {
      "cell_type": "markdown",
      "metadata": {
        "id": "vY1EDXn-AaMH"
      },
      "source": [
        "5. Model Evaluation"
      ]
    },
    {
      "cell_type": "code",
      "metadata": {
        "id": "gZUN8HtsAB65"
      },
      "source": [
        "from pyspark.ml.tuning import ParamGridBuilder, CrossValidator\n",
        "from pyspark.ml.evaluation import MulticlassClassificationEvaluator, BinaryClassificationEvaluator"
      ],
      "execution_count": 58,
      "outputs": []
    },
    {
      "cell_type": "code",
      "metadata": {
        "colab": {
          "base_uri": "https://localhost:8080/"
        },
        "id": "_9w8FZklAEBD",
        "outputId": "b44fd8a4-677e-49e6-cdd4-b3a93bc85722"
      },
      "source": [
        "result_df = model.transform(testing_df)\n",
        "evaluator_RF = MulticlassClassificationEvaluator(predictionCol=\"prediction\",\\\n",
        "                                              labelCol=\"labelIndexed\", metricName='accuracy')\n",
        "print('evaluation','====>',evaluator_RF.evaluate(result_df)*100)"
      ],
      "execution_count": 59,
      "outputs": [
        {
          "output_type": "stream",
          "name": "stdout",
          "text": [
            "evaluation ====> 93.78042184964845\n"
          ]
        }
      ]
    },
    {
      "cell_type": "code",
      "metadata": {
        "colab": {
          "base_uri": "https://localhost:8080/"
        },
        "id": "rCgZDSuSAFIK",
        "outputId": "c6396d40-247a-4869-e39a-09e68467413c"
      },
      "source": [
        "result_df"
      ],
      "execution_count": 60,
      "outputs": [
        {
          "output_type": "execute_result",
          "data": {
            "text/plain": [
              "DataFrame[source: string, isTrueDirect: string, medium: string, fullVisitorId: bigint, visitId: int, date: int, newVisits: string, hitType: string, hitAction_type: int, hitNumber: int, hitHour: int, hitMin: int, timeMicroSec: int, v2ProductName: string, productListName: string, timeOnSite: int, totalTransactionRevenue: double, label: string, sourceIndexed: double, sourceVec: vector, isTrueDirectIndexed: double, isTrueDirectVec: vector, mediumIndexed: double, mediumVec: vector, newVisitsIndexed: double, newVisitsVec: vector, hitTypeIndexed: double, hitTypeVec: vector, v2ProductNameIndexed: double, v2ProductNameVec: vector, productListNameIndexed: double, productListNameVec: vector, labelIndexed: double, features: vector, rawPrediction: vector, probability: vector, prediction: double]"
            ]
          },
          "metadata": {},
          "execution_count": 60
        }
      ]
    },
    {
      "cell_type": "code",
      "metadata": {
        "colab": {
          "base_uri": "https://localhost:8080/"
        },
        "id": "s0e24aMNAGqW",
        "outputId": "97e0945c-aa14-4c8d-dc68-1c604a98e782"
      },
      "source": [
        "result_df.groupBy('labelIndexed').count().show()"
      ],
      "execution_count": 61,
      "outputs": [
        {
          "output_type": "stream",
          "name": "stdout",
          "text": [
            "+------------+-----+\n",
            "|labelIndexed|count|\n",
            "+------------+-----+\n",
            "|         0.0| 1701|\n",
            "|         1.0|  148|\n",
            "+------------+-----+\n",
            "\n"
          ]
        }
      ]
    },
    {
      "cell_type": "code",
      "metadata": {
        "colab": {
          "base_uri": "https://localhost:8080/"
        },
        "id": "aNs0taeHAIW0",
        "outputId": "3bfef37c-fc40-4f85-d62f-080b6919caa3"
      },
      "source": [
        "result_df.filter(sparkf.col('labelIndexed') == sparkf.col('prediction'))\\\n",
        ".select(['labelIndexed','prediction']).groupBy('labelIndexed').count().show()"
      ],
      "execution_count": 62,
      "outputs": [
        {
          "output_type": "stream",
          "name": "stdout",
          "text": [
            "+------------+-----+\n",
            "|labelIndexed|count|\n",
            "+------------+-----+\n",
            "|         0.0| 1693|\n",
            "|         1.0|   41|\n",
            "+------------+-----+\n",
            "\n"
          ]
        }
      ]
    },
    {
      "cell_type": "code",
      "metadata": {
        "colab": {
          "base_uri": "https://localhost:8080/"
        },
        "id": "Nr4OKySWAKff",
        "outputId": "d25f5e11-fb68-4395-8477-56d6dc1e187c"
      },
      "source": [
        "result_df.filter(sparkf.col('labelIndexed') != sparkf.col('prediction'))\\\n",
        ".select(['labelIndexed','prediction']).groupBy('labelIndexed').count().show()"
      ],
      "execution_count": 63,
      "outputs": [
        {
          "output_type": "stream",
          "name": "stdout",
          "text": [
            "+------------+-----+\n",
            "|labelIndexed|count|\n",
            "+------------+-----+\n",
            "|         0.0|    8|\n",
            "|         1.0|  107|\n",
            "+------------+-----+\n",
            "\n"
          ]
        }
      ]
    },
    {
      "cell_type": "code",
      "metadata": {
        "id": "M9wK1ktZAMH4"
      },
      "source": [
        "Recall = 2782/14015"
      ],
      "execution_count": 64,
      "outputs": []
    },
    {
      "cell_type": "code",
      "metadata": {
        "colab": {
          "base_uri": "https://localhost:8080/"
        },
        "id": "axTrftsaAN6L",
        "outputId": "5b1c5d1a-db03-4418-8203-567ff07b0395"
      },
      "source": [
        "Recall"
      ],
      "execution_count": 65,
      "outputs": [
        {
          "output_type": "execute_result",
          "data": {
            "text/plain": [
              "0.19850160542276132"
            ]
          },
          "metadata": {},
          "execution_count": 65
        }
      ]
    },
    {
      "cell_type": "code",
      "metadata": {
        "id": "I7c5vxPNAPVi"
      },
      "source": [
        ""
      ],
      "execution_count": 65,
      "outputs": []
    }
  ]
}