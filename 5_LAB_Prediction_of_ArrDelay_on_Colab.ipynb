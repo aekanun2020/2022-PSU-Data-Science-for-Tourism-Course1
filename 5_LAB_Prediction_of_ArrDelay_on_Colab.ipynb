{
  "cells": [
    {
      "cell_type": "code",
      "source": [
        "!apt-get install openjdk-8-jdk-headless -qq > /dev/null\n",
        "!wget -q https://archive.apache.org/dist/spark/spark-2.4.1/spark-2.4.1-bin-hadoop2.7.tgz\n",
        "!tar xf spark-2.4.1-bin-hadoop2.7.tgz\n",
        "!pip install -q findspark"
      ],
      "metadata": {
        "id": "UGEXnHPPxvGb"
      },
      "execution_count": 1,
      "outputs": []
    },
    {
      "cell_type": "code",
      "source": [
        "import os\n",
        "os.environ[\"JAVA_HOME\"] = \"/usr/lib/jvm/java-8-openjdk-amd64\"\n",
        "os.environ[\"SPARK_HOME\"] = \"/content/spark-2.4.1-bin-hadoop2.7\""
      ],
      "metadata": {
        "id": "53hU1AvIxzKx"
      },
      "execution_count": 2,
      "outputs": []
    },
    {
      "cell_type": "code",
      "source": [
        "import findspark\n",
        "findspark.init()\n",
        "from pyspark.sql import SparkSession\n",
        "spark = SparkSession.builder.master(\"local[*]\").getOrCreate()"
      ],
      "metadata": {
        "id": "kifcQQXhxz0X"
      },
      "execution_count": 3,
      "outputs": []
    },
    {
      "cell_type": "code",
      "source": [
        "from pyspark.sql import SparkSession"
      ],
      "metadata": {
        "id": "Gvp-gnERx3x9"
      },
      "execution_count": 4,
      "outputs": []
    },
    {
      "cell_type": "code",
      "source": [
        "spark = SparkSession.builder \\\n",
        "   .appName(\"Neural Network Model\") \\\n",
        "   .config(\"spark.executor.memory\", \"3gb\") \\\n",
        "   .getOrCreate()\n",
        "   \n",
        "sc = spark.sparkContext"
      ],
      "metadata": {
        "id": "Upx2L3zbx4ED"
      },
      "execution_count": 5,
      "outputs": []
    },
    {
      "cell_type": "code",
      "source": [
        "sc"
      ],
      "metadata": {
        "colab": {
          "base_uri": "https://localhost:8080/",
          "height": 210
        },
        "id": "bfZrGQvZxve0",
        "outputId": "22288b8d-1b4a-4077-83a0-e7d8cc63f521"
      },
      "execution_count": 6,
      "outputs": [
        {
          "output_type": "execute_result",
          "data": {
            "text/html": [
              "\n",
              "        <div>\n",
              "            <p><b>SparkContext</b></p>\n",
              "\n",
              "            <p><a href=\"http://8ef77b38b0bd:4040\">Spark UI</a></p>\n",
              "\n",
              "            <dl>\n",
              "              <dt>Version</dt>\n",
              "                <dd><code>v2.4.1</code></dd>\n",
              "              <dt>Master</dt>\n",
              "                <dd><code>local[*]</code></dd>\n",
              "              <dt>AppName</dt>\n",
              "                <dd><code>pyspark-shell</code></dd>\n",
              "            </dl>\n",
              "        </div>\n",
              "        "
            ],
            "text/plain": [
              "<SparkContext master=local[*] appName=pyspark-shell>"
            ]
          },
          "metadata": {},
          "execution_count": 6
        }
      ]
    },
    {
      "cell_type": "markdown",
      "metadata": {
        "id": "aGp5cQlSw9cw"
      },
      "source": [
        "### 1. Business Understanding"
      ]
    },
    {
      "cell_type": "markdown",
      "metadata": {
        "id": "z7djiMRlw9cx"
      },
      "source": [
        "### 2. Data Understanding"
      ]
    },
    {
      "cell_type": "markdown",
      "metadata": {
        "id": "-_jWgRFow9cx"
      },
      "source": [
        "#### Data collection - ดึงไฟล์ 2008.csv จาก s3.amazonaws.com มาไว้ใน Linux File System"
      ]
    },
    {
      "cell_type": "code",
      "execution_count": 7,
      "metadata": {
        "id": "UDJek_mtw9cx",
        "outputId": "5aca2dcc-7033-454f-d78f-f85d371d3a93",
        "colab": {
          "base_uri": "https://localhost:8080/"
        }
      },
      "outputs": [
        {
          "output_type": "stream",
          "name": "stdout",
          "text": [
            "--2022-01-05 15:08:50--  https://storage.googleapis.com/datascitourism/shared/2008-0.1Mrows.csv\n",
            "Resolving storage.googleapis.com (storage.googleapis.com)... 142.250.141.128, 2607:f8b0:4023:c0b::80\n",
            "Connecting to storage.googleapis.com (storage.googleapis.com)|142.250.141.128|:443... connected.\n",
            "HTTP request sent, awaiting response... 200 OK\n",
            "Length: 9719482 (9.3M) [text/csv]\n",
            "Saving to: ‘2008-0.1Mrows.csv’\n",
            "\n",
            "2008-0.1Mrows.csv   100%[===================>]   9.27M  20.9MB/s    in 0.4s    \n",
            "\n",
            "2022-01-05 15:08:51 (20.9 MB/s) - ‘2008-0.1Mrows.csv’ saved [9719482/9719482]\n",
            "\n"
          ]
        }
      ],
      "source": [
        "! wget https://storage.googleapis.com/datascitourism/shared/2008-0.1Mrows.csv"
      ]
    },
    {
      "cell_type": "markdown",
      "metadata": {
        "id": "R7GCuFL1w9cy"
      },
      "source": [
        "#### นับจำนวนบรรทัดในไฟล์ 2008.csv"
      ]
    },
    {
      "cell_type": "code",
      "execution_count": 8,
      "metadata": {
        "id": "KghmXKM7w9cy",
        "outputId": "68927639-c01c-4382-adf6-b5f39df5a86a",
        "colab": {
          "base_uri": "https://localhost:8080/"
        }
      },
      "outputs": [
        {
          "output_type": "stream",
          "name": "stdout",
          "text": [
            "100000 ./2008-0.1Mrows.csv\n"
          ]
        }
      ],
      "source": [
        "! wc -l ./2008-0.1Mrows.csv"
      ]
    },
    {
      "cell_type": "markdown",
      "metadata": {
        "id": "4967AsWIw9cy"
      },
      "source": [
        "#### ดู Content ในไฟล์ 2008.csv"
      ]
    },
    {
      "cell_type": "code",
      "execution_count": 9,
      "metadata": {
        "id": "2zbe9pIKw9cy",
        "outputId": "46d02219-04e0-4f7e-c551-9380fd7a2d2b",
        "colab": {
          "base_uri": "https://localhost:8080/"
        }
      },
      "outputs": [
        {
          "output_type": "stream",
          "name": "stdout",
          "text": [
            "Year,Month,DayofMonth,DayOfWeek,DepTime,CRSDepTime,ArrTime,CRSArrTime,UniqueCarrier,FlightNum,TailNum,ActualElapsedTime,CRSElapsedTime,AirTime,ArrDelay,DepDelay,Origin,Dest,Distance,TaxiIn,TaxiOut,Cancelled,CancellationCode,Diverted,CarrierDelay,WeatherDelay,NASDelay,SecurityDelay,LateAircraftDelay\n",
            "2008,1,3,4,2003,1955,2211,2225,WN,335,N712SW,128,150,116,-14,8,IAD,TPA,810,4,8,0,,0,NA,NA,NA,NA,NA\n",
            "2008,1,3,4,754,735,1002,1000,WN,3231,N772SW,128,145,113,2,19,IAD,TPA,810,5,10,0,,0,NA,NA,NA,NA,NA\n"
          ]
        }
      ],
      "source": [
        "! head -3 2008-0.1Mrows.csv"
      ]
    },
    {
      "cell_type": "markdown",
      "metadata": {
        "id": "nXtP5vV8w9c0"
      },
      "source": [
        "#### Spark อ่านไฟล์ 2008.csv จาก HDFS มาเป็น DataFrame"
      ]
    },
    {
      "cell_type": "code",
      "execution_count": 10,
      "metadata": {
        "id": "_lj_PIx3w9c0"
      },
      "outputs": [],
      "source": [
        "airline_df = spark.read.format('csv').\\\n",
        "option('header','true').option('mode','DROPMALFORMED')\\\n",
        ".load('./2008-0.1Mrows.csv')"
      ]
    },
    {
      "cell_type": "markdown",
      "metadata": {
        "id": "eNXv8zPKw9c0"
      },
      "source": [
        "#### Spark นับจำนวน tuple ใน DataFrame"
      ]
    },
    {
      "cell_type": "code",
      "execution_count": 11,
      "metadata": {
        "id": "lNA2xCTxw9c0",
        "outputId": "38e26cb7-fea3-47b7-e6a4-168c6185ab0d",
        "colab": {
          "base_uri": "https://localhost:8080/"
        }
      },
      "outputs": [
        {
          "output_type": "execute_result",
          "data": {
            "text/plain": [
              "99999"
            ]
          },
          "metadata": {},
          "execution_count": 11
        }
      ],
      "source": [
        "airline_df.count()"
      ]
    },
    {
      "cell_type": "markdown",
      "metadata": {
        "id": "WGgkEUEiw9c1"
      },
      "source": [
        "#### Spark: Assign ค่าของตัวแปรเก่า ให้กับตัวแปรใหม่"
      ]
    },
    {
      "cell_type": "code",
      "execution_count": 12,
      "metadata": {
        "id": "PMok0KVsw9c1"
      },
      "outputs": [],
      "source": [
        "airline_row_df = airline_df"
      ]
    },
    {
      "cell_type": "markdown",
      "metadata": {
        "id": "RG1gYmUjw9c1"
      },
      "source": [
        "#### Spark แสดง Schema ของข้อมูลใน DataFrame"
      ]
    },
    {
      "cell_type": "code",
      "execution_count": 13,
      "metadata": {
        "id": "laJ5BHxhw9c1",
        "outputId": "d6457e9b-1498-4b65-cd0d-c9ea0d1fe196",
        "colab": {
          "base_uri": "https://localhost:8080/"
        }
      },
      "outputs": [
        {
          "output_type": "stream",
          "name": "stdout",
          "text": [
            "root\n",
            " |-- Year: string (nullable = true)\n",
            " |-- Month: string (nullable = true)\n",
            " |-- DayofMonth: string (nullable = true)\n",
            " |-- DayOfWeek: string (nullable = true)\n",
            " |-- DepTime: string (nullable = true)\n",
            " |-- CRSDepTime: string (nullable = true)\n",
            " |-- ArrTime: string (nullable = true)\n",
            " |-- CRSArrTime: string (nullable = true)\n",
            " |-- UniqueCarrier: string (nullable = true)\n",
            " |-- FlightNum: string (nullable = true)\n",
            " |-- TailNum: string (nullable = true)\n",
            " |-- ActualElapsedTime: string (nullable = true)\n",
            " |-- CRSElapsedTime: string (nullable = true)\n",
            " |-- AirTime: string (nullable = true)\n",
            " |-- ArrDelay: string (nullable = true)\n",
            " |-- DepDelay: string (nullable = true)\n",
            " |-- Origin: string (nullable = true)\n",
            " |-- Dest: string (nullable = true)\n",
            " |-- Distance: string (nullable = true)\n",
            " |-- TaxiIn: string (nullable = true)\n",
            " |-- TaxiOut: string (nullable = true)\n",
            " |-- Cancelled: string (nullable = true)\n",
            " |-- CancellationCode: string (nullable = true)\n",
            " |-- Diverted: string (nullable = true)\n",
            " |-- CarrierDelay: string (nullable = true)\n",
            " |-- WeatherDelay: string (nullable = true)\n",
            " |-- NASDelay: string (nullable = true)\n",
            " |-- SecurityDelay: string (nullable = true)\n",
            " |-- LateAircraftDelay: string (nullable = true)\n",
            "\n"
          ]
        }
      ],
      "source": [
        "airline_row_df.printSchema()"
      ]
    },
    {
      "cell_type": "markdown",
      "metadata": {
        "id": "IA9h1GtJw9c1"
      },
      "source": [
        "### 3. Data Preparation"
      ]
    },
    {
      "cell_type": "markdown",
      "metadata": {
        "id": "NHCasAaOw9c1"
      },
      "source": [
        "#### Spark เรียกใช้ Data Types และ Functions ต่างๆ สำหรับจัดการข้อมูลใน DataFrame"
      ]
    },
    {
      "cell_type": "code",
      "execution_count": 14,
      "metadata": {
        "id": "pbbOGa_4w9c1"
      },
      "outputs": [],
      "source": [
        "from pyspark.sql.types import *\n",
        "from pyspark.sql.functions import col, udf"
      ]
    },
    {
      "cell_type": "code",
      "execution_count": 15,
      "metadata": {
        "id": "b5llbz79w9c1"
      },
      "outputs": [],
      "source": [
        "crunched_df = airline_row_df.\\\n",
        "withColumn('DepTime',airline_row_df['DepTime'].\\\n",
        "           cast(DoubleType())).\\\n",
        "withColumn('TaxiOut',airline_row_df['TaxiOut'].\\\n",
        "           cast(DoubleType())).\\\n",
        "withColumn('TaxiIn',airline_row_df['TaxiIn'].\\\n",
        "           cast(DoubleType())).\\\n",
        "withColumn('DepDelay',airline_row_df['DepDelay'].\\\n",
        "           cast(DoubleType())).\\\n",
        "withColumn('DayOfWeek',airline_row_df['DayOfWeek'].\\\n",
        "           cast(DoubleType())).\\\n",
        "withColumn('Distance',airline_row_df['Distance'].\\\n",
        "           cast(DoubleType())).\\\n",
        "withColumn('ArrDelay',airline_row_df['ArrDelay'].\\\n",
        "           cast(DoubleType()))"
      ]
    },
    {
      "cell_type": "markdown",
      "metadata": {
        "id": "zurf-QD7w9c2"
      },
      "source": [
        "#### Spark แสดง Schema ของข้อมูลใน DataFrame หลังจาก cast type แล้ว"
      ]
    },
    {
      "cell_type": "code",
      "execution_count": 16,
      "metadata": {
        "id": "eP02Ee-Vw9c2",
        "outputId": "d43f89a6-b315-4956-b5bf-a49c5a43ed81",
        "colab": {
          "base_uri": "https://localhost:8080/"
        }
      },
      "outputs": [
        {
          "output_type": "stream",
          "name": "stdout",
          "text": [
            "root\n",
            " |-- Year: string (nullable = true)\n",
            " |-- Month: string (nullable = true)\n",
            " |-- DayofMonth: string (nullable = true)\n",
            " |-- DayOfWeek: double (nullable = true)\n",
            " |-- DepTime: double (nullable = true)\n",
            " |-- CRSDepTime: string (nullable = true)\n",
            " |-- ArrTime: string (nullable = true)\n",
            " |-- CRSArrTime: string (nullable = true)\n",
            " |-- UniqueCarrier: string (nullable = true)\n",
            " |-- FlightNum: string (nullable = true)\n",
            " |-- TailNum: string (nullable = true)\n",
            " |-- ActualElapsedTime: string (nullable = true)\n",
            " |-- CRSElapsedTime: string (nullable = true)\n",
            " |-- AirTime: string (nullable = true)\n",
            " |-- ArrDelay: double (nullable = true)\n",
            " |-- DepDelay: double (nullable = true)\n",
            " |-- Origin: string (nullable = true)\n",
            " |-- Dest: string (nullable = true)\n",
            " |-- Distance: double (nullable = true)\n",
            " |-- TaxiIn: double (nullable = true)\n",
            " |-- TaxiOut: double (nullable = true)\n",
            " |-- Cancelled: string (nullable = true)\n",
            " |-- CancellationCode: string (nullable = true)\n",
            " |-- Diverted: string (nullable = true)\n",
            " |-- CarrierDelay: string (nullable = true)\n",
            " |-- WeatherDelay: string (nullable = true)\n",
            " |-- NASDelay: string (nullable = true)\n",
            " |-- SecurityDelay: string (nullable = true)\n",
            " |-- LateAircraftDelay: string (nullable = true)\n",
            "\n"
          ]
        }
      ],
      "source": [
        "crunched_df.printSchema()"
      ]
    },
    {
      "cell_type": "markdown",
      "metadata": {
        "id": "N5hqsku7w9c2"
      },
      "source": [
        "#### Python ติดตั้ง Module \"pandas\""
      ]
    },
    {
      "cell_type": "code",
      "execution_count": 17,
      "metadata": {
        "id": "QJoutGSjw9c2",
        "outputId": "4792b338-0aa9-4992-a955-b732a17d2106",
        "colab": {
          "base_uri": "https://localhost:8080/"
        }
      },
      "outputs": [
        {
          "output_type": "stream",
          "name": "stdout",
          "text": [
            "Requirement already satisfied: pandas in /usr/local/lib/python3.7/dist-packages (1.1.5)\n",
            "Requirement already satisfied: numpy>=1.15.4 in /usr/local/lib/python3.7/dist-packages (from pandas) (1.19.5)\n",
            "Requirement already satisfied: python-dateutil>=2.7.3 in /usr/local/lib/python3.7/dist-packages (from pandas) (2.8.2)\n",
            "Requirement already satisfied: pytz>=2017.2 in /usr/local/lib/python3.7/dist-packages (from pandas) (2018.9)\n",
            "Requirement already satisfied: six>=1.5 in /usr/local/lib/python3.7/dist-packages (from python-dateutil>=2.7.3->pandas) (1.15.0)\n"
          ]
        }
      ],
      "source": [
        "! pip install pandas"
      ]
    },
    {
      "cell_type": "markdown",
      "metadata": {
        "id": "3qCwIMaWw9c2"
      },
      "source": [
        "#### Spark ทำ Data Exploratory โดยใช้สถิติเบื้องต้นกับข้อมูลใน DataFrame"
      ]
    },
    {
      "cell_type": "code",
      "execution_count": 18,
      "metadata": {
        "id": "beviencxw9c2",
        "outputId": "424a3f47-c1a2-45c5-ef39-022e64e53cd6",
        "colab": {
          "base_uri": "https://localhost:8080/",
          "height": 282
        }
      },
      "outputs": [
        {
          "output_type": "execute_result",
          "data": {
            "text/html": [
              "\n",
              "  <div id=\"df-5b39bad0-18f1-42bd-936b-37e038cf9bc6\">\n",
              "    <div class=\"colab-df-container\">\n",
              "      <div>\n",
              "<style scoped>\n",
              "    .dataframe tbody tr th:only-of-type {\n",
              "        vertical-align: middle;\n",
              "    }\n",
              "\n",
              "    .dataframe tbody tr th {\n",
              "        vertical-align: top;\n",
              "    }\n",
              "\n",
              "    .dataframe thead th {\n",
              "        text-align: right;\n",
              "    }\n",
              "</style>\n",
              "<table border=\"1\" class=\"dataframe\">\n",
              "  <thead>\n",
              "    <tr style=\"text-align: right;\">\n",
              "      <th></th>\n",
              "      <th>0</th>\n",
              "      <th>1</th>\n",
              "      <th>2</th>\n",
              "      <th>3</th>\n",
              "      <th>4</th>\n",
              "    </tr>\n",
              "  </thead>\n",
              "  <tbody>\n",
              "    <tr>\n",
              "      <th>summary</th>\n",
              "      <td>count</td>\n",
              "      <td>mean</td>\n",
              "      <td>stddev</td>\n",
              "      <td>min</td>\n",
              "      <td>max</td>\n",
              "    </tr>\n",
              "    <tr>\n",
              "      <th>DepTime</th>\n",
              "      <td>98857</td>\n",
              "      <td>1355.1948268711371</td>\n",
              "      <td>464.08827736351554</td>\n",
              "      <td>1.0</td>\n",
              "      <td>2359.0</td>\n",
              "    </tr>\n",
              "    <tr>\n",
              "      <th>TaxiOut</th>\n",
              "      <td>98857</td>\n",
              "      <td>10.927460877833639</td>\n",
              "      <td>5.98884616975255</td>\n",
              "      <td>1.0</td>\n",
              "      <td>150.0</td>\n",
              "    </tr>\n",
              "    <tr>\n",
              "      <th>TaxiIn</th>\n",
              "      <td>98697</td>\n",
              "      <td>4.768959542843247</td>\n",
              "      <td>2.983650472696529</td>\n",
              "      <td>1.0</td>\n",
              "      <td>213.0</td>\n",
              "    </tr>\n",
              "    <tr>\n",
              "      <th>DayOfWeek</th>\n",
              "      <td>99999</td>\n",
              "      <td>3.890058900589006</td>\n",
              "      <td>1.953000092093688</td>\n",
              "      <td>1.0</td>\n",
              "      <td>7.0</td>\n",
              "    </tr>\n",
              "    <tr>\n",
              "      <th>Distance</th>\n",
              "      <td>99999</td>\n",
              "      <td>630.5839658396584</td>\n",
              "      <td>437.35862849463183</td>\n",
              "      <td>66.0</td>\n",
              "      <td>2363.0</td>\n",
              "    </tr>\n",
              "    <tr>\n",
              "      <th>ArrDelay</th>\n",
              "      <td>98697</td>\n",
              "      <td>5.729900604881608</td>\n",
              "      <td>30.967111608955822</td>\n",
              "      <td>-57.0</td>\n",
              "      <td>500.0</td>\n",
              "    </tr>\n",
              "  </tbody>\n",
              "</table>\n",
              "</div>\n",
              "      <button class=\"colab-df-convert\" onclick=\"convertToInteractive('df-5b39bad0-18f1-42bd-936b-37e038cf9bc6')\"\n",
              "              title=\"Convert this dataframe to an interactive table.\"\n",
              "              style=\"display:none;\">\n",
              "        \n",
              "  <svg xmlns=\"http://www.w3.org/2000/svg\" height=\"24px\"viewBox=\"0 0 24 24\"\n",
              "       width=\"24px\">\n",
              "    <path d=\"M0 0h24v24H0V0z\" fill=\"none\"/>\n",
              "    <path d=\"M18.56 5.44l.94 2.06.94-2.06 2.06-.94-2.06-.94-.94-2.06-.94 2.06-2.06.94zm-11 1L8.5 8.5l.94-2.06 2.06-.94-2.06-.94L8.5 2.5l-.94 2.06-2.06.94zm10 10l.94 2.06.94-2.06 2.06-.94-2.06-.94-.94-2.06-.94 2.06-2.06.94z\"/><path d=\"M17.41 7.96l-1.37-1.37c-.4-.4-.92-.59-1.43-.59-.52 0-1.04.2-1.43.59L10.3 9.45l-7.72 7.72c-.78.78-.78 2.05 0 2.83L4 21.41c.39.39.9.59 1.41.59.51 0 1.02-.2 1.41-.59l7.78-7.78 2.81-2.81c.8-.78.8-2.07 0-2.86zM5.41 20L4 18.59l7.72-7.72 1.47 1.35L5.41 20z\"/>\n",
              "  </svg>\n",
              "      </button>\n",
              "      \n",
              "  <style>\n",
              "    .colab-df-container {\n",
              "      display:flex;\n",
              "      flex-wrap:wrap;\n",
              "      gap: 12px;\n",
              "    }\n",
              "\n",
              "    .colab-df-convert {\n",
              "      background-color: #E8F0FE;\n",
              "      border: none;\n",
              "      border-radius: 50%;\n",
              "      cursor: pointer;\n",
              "      display: none;\n",
              "      fill: #1967D2;\n",
              "      height: 32px;\n",
              "      padding: 0 0 0 0;\n",
              "      width: 32px;\n",
              "    }\n",
              "\n",
              "    .colab-df-convert:hover {\n",
              "      background-color: #E2EBFA;\n",
              "      box-shadow: 0px 1px 2px rgba(60, 64, 67, 0.3), 0px 1px 3px 1px rgba(60, 64, 67, 0.15);\n",
              "      fill: #174EA6;\n",
              "    }\n",
              "\n",
              "    [theme=dark] .colab-df-convert {\n",
              "      background-color: #3B4455;\n",
              "      fill: #D2E3FC;\n",
              "    }\n",
              "\n",
              "    [theme=dark] .colab-df-convert:hover {\n",
              "      background-color: #434B5C;\n",
              "      box-shadow: 0px 1px 3px 1px rgba(0, 0, 0, 0.15);\n",
              "      filter: drop-shadow(0px 1px 2px rgba(0, 0, 0, 0.3));\n",
              "      fill: #FFFFFF;\n",
              "    }\n",
              "  </style>\n",
              "\n",
              "      <script>\n",
              "        const buttonEl =\n",
              "          document.querySelector('#df-5b39bad0-18f1-42bd-936b-37e038cf9bc6 button.colab-df-convert');\n",
              "        buttonEl.style.display =\n",
              "          google.colab.kernel.accessAllowed ? 'block' : 'none';\n",
              "\n",
              "        async function convertToInteractive(key) {\n",
              "          const element = document.querySelector('#df-5b39bad0-18f1-42bd-936b-37e038cf9bc6');\n",
              "          const dataTable =\n",
              "            await google.colab.kernel.invokeFunction('convertToInteractive',\n",
              "                                                     [key], {});\n",
              "          if (!dataTable) return;\n",
              "\n",
              "          const docLinkHtml = 'Like what you see? Visit the ' +\n",
              "            '<a target=\"_blank\" href=https://colab.research.google.com/notebooks/data_table.ipynb>data table notebook</a>'\n",
              "            + ' to learn more about interactive tables.';\n",
              "          element.innerHTML = '';\n",
              "          dataTable['output_type'] = 'display_data';\n",
              "          await google.colab.output.renderOutput(dataTable, element);\n",
              "          const docLink = document.createElement('div');\n",
              "          docLink.innerHTML = docLinkHtml;\n",
              "          element.appendChild(docLink);\n",
              "        }\n",
              "      </script>\n",
              "    </div>\n",
              "  </div>\n",
              "  "
            ],
            "text/plain": [
              "               0                   1                   2      3       4\n",
              "summary    count                mean              stddev    min     max\n",
              "DepTime    98857  1355.1948268711371  464.08827736351554    1.0  2359.0\n",
              "TaxiOut    98857  10.927460877833639    5.98884616975255    1.0   150.0\n",
              "TaxiIn     98697   4.768959542843247   2.983650472696529    1.0   213.0\n",
              "DayOfWeek  99999   3.890058900589006   1.953000092093688    1.0     7.0\n",
              "Distance   99999   630.5839658396584  437.35862849463183   66.0  2363.0\n",
              "ArrDelay   98697   5.729900604881608  30.967111608955822  -57.0   500.0"
            ]
          },
          "metadata": {},
          "execution_count": 18
        }
      ],
      "source": [
        "import pandas as pd\n",
        "pd.DataFrame(crunched_df.\\\n",
        "             select(['DepTime','TaxiOut','TaxiIn',\\\n",
        "                     'DayOfWeek','Distance','ArrDelay']).\\\n",
        "             describe().take(6),\\\n",
        "             columns=crunched_df.\\\n",
        "             select(['DepTime','TaxiOut','TaxiIn',\\\n",
        "                     'DayOfWeek','Distance','ArrDelay']).\\\n",
        "             describe().columns).transpose()"
      ]
    },
    {
      "cell_type": "markdown",
      "metadata": {
        "id": "IXlcGErCw9c2"
      },
      "source": [
        "#### Spark ทำ Data Transformation โดยใช้ Data Discretization กับ \"DepTime\" ใน DataFrame"
      ]
    },
    {
      "cell_type": "code",
      "execution_count": 19,
      "metadata": {
        "id": "vxTM_1oLw9c3"
      },
      "outputs": [],
      "source": [
        "def t_timeperiod(origin):\n",
        "    if origin is None:\n",
        "        period = None\n",
        "    elif origin > 0 and origin < 600:\n",
        "        period = '00.01-05.59'\n",
        "    elif origin >= 600 and origin <=1200:\n",
        "        period = '06.00-11.59'\n",
        "    elif origin >= 1200 and origin <= 1800:\n",
        "        period = '12.00-17.59'\n",
        "    elif origin >= 1800 and origin <= 2400:\n",
        "        period = '18.00-24.00'\n",
        "    else:\n",
        "        period = 'NA'\n",
        "    return period"
      ]
    },
    {
      "cell_type": "code",
      "execution_count": 20,
      "metadata": {
        "id": "CqQVsujnw9c3"
      },
      "outputs": [],
      "source": [
        "timeperiod = udf(lambda x: t_timeperiod(x),StringType())"
      ]
    },
    {
      "cell_type": "code",
      "execution_count": 21,
      "metadata": {
        "id": "LjJXn0j3w9c3"
      },
      "outputs": [],
      "source": [
        "discretized_df = crunched_df.\\\n",
        "withColumn('DepTime',timeperiod(crunched_df['DepTime']))"
      ]
    },
    {
      "cell_type": "markdown",
      "metadata": {
        "id": "S80rop7qw9c3"
      },
      "source": [
        "#### Spark ทำ Data Transformation โดยใช้ Data Normalization กับ \"Distance\" และ \"ArrDelay\" ใน DataFrame"
      ]
    },
    {
      "cell_type": "code",
      "execution_count": 22,
      "metadata": {
        "id": "lCRFsacxw9c3"
      },
      "outputs": [],
      "source": [
        "from pyspark.sql.functions import *\n",
        "max_distance = discretized_df.select(max('Distance')).collect()[0][0]\n",
        "min_distance = discretized_df.select(min('Distance')).collect()[0][0]"
      ]
    },
    {
      "cell_type": "code",
      "execution_count": 23,
      "metadata": {
        "id": "yDdKCQiFw9c3"
      },
      "outputs": [],
      "source": [
        "max_ArrDelay = discretized_df.select(max('ArrDelay')).collect()[0][0]\n",
        "min_ArrDelay = discretized_df.select(min('ArrDelay')).collect()[0][0]"
      ]
    },
    {
      "cell_type": "code",
      "execution_count": 24,
      "metadata": {
        "id": "ivtNt9wcw9c3"
      },
      "outputs": [],
      "source": [
        "def t_normalized_distance(origin):\n",
        "    if origin is None:\n",
        "        return None\n",
        "    else:\n",
        "        return ((origin-min_distance)/(max_distance-min_distance))"
      ]
    },
    {
      "cell_type": "code",
      "execution_count": 25,
      "metadata": {
        "id": "-jQEawktw9c3"
      },
      "outputs": [],
      "source": [
        "def t_normalized_ArrDelay(origin):\n",
        "    if origin is None:\n",
        "        return None\n",
        "    else:\n",
        "        return ((origin-min_ArrDelay)/(max_ArrDelay-min_ArrDelay))"
      ]
    },
    {
      "cell_type": "code",
      "execution_count": 26,
      "metadata": {
        "id": "e3jh5oDfw9c4"
      },
      "outputs": [],
      "source": [
        "normalized_distance = udf(lambda x: t_normalized_distance(x),DoubleType())"
      ]
    },
    {
      "cell_type": "code",
      "execution_count": 27,
      "metadata": {
        "id": "bxsFsjJww9c4"
      },
      "outputs": [],
      "source": [
        "normalized_ArrDelay = udf(lambda x: t_normalized_ArrDelay(x),DoubleType())"
      ]
    },
    {
      "cell_type": "code",
      "execution_count": 28,
      "metadata": {
        "id": "r7nJEfiWw9c4"
      },
      "outputs": [],
      "source": [
        "normalized_df = discretized_df.\\\n",
        "withColumn('Distance', normalized_distance(discretized_df['Distance'])).\\\n",
        "withColumn('ArrDelay', normalized_ArrDelay(discretized_df['ArrDelay']))"
      ]
    },
    {
      "cell_type": "markdown",
      "metadata": {
        "id": "A2Q00OpWw9c4"
      },
      "source": [
        "#### Spark ทำ Feature Selection ด้วยการเลือกเฉพาะบาง Attributes มาเป็น Features"
      ]
    },
    {
      "cell_type": "code",
      "execution_count": 29,
      "metadata": {
        "id": "s1NUkebqw9c4"
      },
      "outputs": [],
      "source": [
        "features_df = normalized_df.\\\n",
        "select(['UniqueCarrier','Origin','Dest',\\\n",
        "        'DepTime','TaxiOut','TaxiIn','DepDelay',\\\n",
        "        'DayOfWeek','Distance','ArrDelay'])"
      ]
    },
    {
      "cell_type": "markdown",
      "metadata": {
        "id": "GdvCWTj2w9c4"
      },
      "source": [
        "#### Spark กำจัดค่า Null ด้วยการลบทั้ง Tuple (Record) เมื่อพบว่ามี Attribute ใดมีค่า Null"
      ]
    },
    {
      "cell_type": "code",
      "execution_count": 30,
      "metadata": {
        "id": "HMuZP-7uw9c4"
      },
      "outputs": [],
      "source": [
        "final_df = features_df.dropna()"
      ]
    },
    {
      "cell_type": "code",
      "execution_count": 30,
      "metadata": {
        "id": "UcujlrhUw9c4"
      },
      "outputs": [],
      "source": [
        ""
      ]
    },
    {
      "cell_type": "code",
      "execution_count": 30,
      "metadata": {
        "id": "hl7xmzs2w9c4"
      },
      "outputs": [],
      "source": [
        ""
      ]
    },
    {
      "cell_type": "markdown",
      "metadata": {
        "id": "TvWHX6jHw9c4"
      },
      "source": [
        "#### Spark นับจำนวน tuple ใน DataFrame"
      ]
    },
    {
      "cell_type": "code",
      "execution_count": 31,
      "metadata": {
        "id": "W4WuoAJ7w9c5",
        "outputId": "2f6a9fdc-1fcd-4d09-8440-869a06a37714",
        "colab": {
          "base_uri": "https://localhost:8080/"
        }
      },
      "outputs": [
        {
          "output_type": "execute_result",
          "data": {
            "text/plain": [
              "98697"
            ]
          },
          "metadata": {},
          "execution_count": 31
        }
      ],
      "source": [
        "final_df.count()"
      ]
    },
    {
      "cell_type": "code",
      "execution_count": 32,
      "metadata": {
        "id": "YTgldv_qw9c5",
        "outputId": "7dd40f31-7d09-4222-b7c0-a1f06039aa79",
        "colab": {
          "base_uri": "https://localhost:8080/"
        }
      },
      "outputs": [
        {
          "output_type": "stream",
          "name": "stdout",
          "text": [
            "+-------------+------+----+-----------+-------+------+--------+---------+-------------------+-------------------+\n",
            "|UniqueCarrier|Origin|Dest|    DepTime|TaxiOut|TaxiIn|DepDelay|DayOfWeek|           Distance|           ArrDelay|\n",
            "+-------------+------+----+-----------+-------+------+--------+---------+-------------------+-------------------+\n",
            "|           WN|   IAD| TPA|18.00-24.00|    8.0|   4.0|     8.0|      4.0| 0.3239007400957771|0.07719928186714542|\n",
            "|           WN|   IAD| TPA|06.00-11.59|   10.0|   5.0|    19.0|      4.0| 0.3239007400957771| 0.1059245960502693|\n",
            "|           WN|   IND| BWI|06.00-11.59|   17.0|   3.0|     8.0|      4.0|  0.195472355245973|0.12746858168761221|\n",
            "|           WN|   IND| BWI|06.00-11.59|    7.0|   3.0|    -4.0|      4.0|  0.195472355245973|0.09156193895870736|\n",
            "|           WN|   IND| BWI|18.00-24.00|   10.0|   3.0|    34.0|      4.0|  0.195472355245973|0.16337522441651706|\n",
            "|           WN|   IND| JAX|18.00-24.00|   10.0|   4.0|    25.0|      4.0|0.27078798432738355|0.12208258527827648|\n",
            "|           WN|   IND| LAS|18.00-24.00|    7.0|   3.0|    67.0|      4.0| 0.6639094471049195|0.20466786355475763|\n",
            "|           WN|   IND| LAS|06.00-11.59|    7.0|   7.0|    -1.0|      4.0| 0.6639094471049195|0.07001795332136446|\n",
            "|           WN|   IND| MCI|06.00-11.59|   19.0|   6.0|     2.0|      4.0| 0.1676099259904223| 0.1059245960502693|\n",
            "|           WN|   IND| MCI|12.00-17.59|    6.0|   3.0|     0.0|      4.0| 0.1676099259904223|0.07360861759425494|\n",
            "|           WN|   IND| MCO|06.00-11.59|   19.0|   5.0|     6.0|      4.0| 0.3317370483239007|0.10412926391382406|\n",
            "|           WN|   IND| MCO|12.00-17.59|    8.0|   6.0|    94.0|      4.0| 0.3317370483239007| 0.2459605026929982|\n",
            "|           WN|   IND| MDW|12.00-17.59|   12.0|   9.0|    -4.0|      4.0|0.04179364388332608|0.10412926391382406|\n",
            "|           WN|   IND| MDW|06.00-11.59|   21.0|   7.0|     0.0|      4.0|0.04179364388332608|0.12028725314183124|\n",
            "|           WN|   IND| MDW|12.00-17.59|   10.0|   4.0|     2.0|      4.0|0.04179364388332608|0.09515260323159784|\n",
            "|           WN|   IND| MDW|06.00-11.59|    9.0|   6.0|     9.0|      4.0|0.04179364388332608|0.12208258527827648|\n",
            "|           WN|   IND| PHX|12.00-17.59|    8.0|   7.0|    27.0|      4.0| 0.6195037004788855|0.12926391382405744|\n",
            "|           WN|   IND| PHX|06.00-11.59|   16.0|   5.0|     9.0|      4.0| 0.6195037004788855|0.07540394973070018|\n",
            "|           WN|   IND| TPA|12.00-17.59|    9.0|   4.0|    28.0|      4.0|0.33609055289508055| 0.1310592459605027|\n",
            "|           WN|   ISP| BWI|12.00-17.59|    5.0|   2.0|    51.0|      4.0|0.06704397039616891| 0.1687612208258528|\n",
            "+-------------+------+----+-----------+-------+------+--------+---------+-------------------+-------------------+\n",
            "only showing top 20 rows\n",
            "\n"
          ]
        }
      ],
      "source": [
        "final_df.show()"
      ]
    },
    {
      "cell_type": "code",
      "execution_count": 32,
      "metadata": {
        "id": "PA2zRB1iw9c5"
      },
      "outputs": [],
      "source": [
        ""
      ]
    },
    {
      "cell_type": "code",
      "execution_count": 32,
      "metadata": {
        "id": "h4PSWAJew9c5"
      },
      "outputs": [],
      "source": [
        ""
      ]
    },
    {
      "cell_type": "markdown",
      "metadata": {
        "id": "xRU0gsgaw9c5"
      },
      "source": [
        "### 4. Modeling (and making some data transformation )"
      ]
    },
    {
      "cell_type": "markdown",
      "metadata": {
        "id": "BbNhMW1-w9c5"
      },
      "source": [
        "#### Spark แบ่งข้อมูลเป็น training set และ test set"
      ]
    },
    {
      "cell_type": "code",
      "execution_count": 33,
      "metadata": {
        "id": "Pq__32z3w9c5"
      },
      "outputs": [],
      "source": [
        "training_df,test_df = final_df.\\\n",
        "randomSplit([0.80,0.20], seed = 12)"
      ]
    },
    {
      "cell_type": "markdown",
      "metadata": {
        "id": "tF5ElzKIw9c5"
      },
      "source": [
        "#### Spark นับจำนวน tuple ใน DataFrame"
      ]
    },
    {
      "cell_type": "code",
      "execution_count": 34,
      "metadata": {
        "id": "MmPVlsp4w9c5",
        "outputId": "0e886de1-dda5-4b06-91c6-ec93d4120e71",
        "colab": {
          "base_uri": "https://localhost:8080/"
        }
      },
      "outputs": [
        {
          "output_type": "execute_result",
          "data": {
            "text/plain": [
              "78826"
            ]
          },
          "metadata": {},
          "execution_count": 34
        }
      ],
      "source": [
        "training_df.count()"
      ]
    },
    {
      "cell_type": "markdown",
      "metadata": {
        "id": "vtyYX4WYw9c5"
      },
      "source": [
        "#### Spark แสดง Schema ของ training set"
      ]
    },
    {
      "cell_type": "code",
      "execution_count": 35,
      "metadata": {
        "id": "J5IaT9gsw9c5",
        "outputId": "3dc2095f-87b1-4ac2-ccdb-4c987a949c9f",
        "colab": {
          "base_uri": "https://localhost:8080/"
        }
      },
      "outputs": [
        {
          "output_type": "stream",
          "name": "stdout",
          "text": [
            "root\n",
            " |-- UniqueCarrier: string (nullable = true)\n",
            " |-- Origin: string (nullable = true)\n",
            " |-- Dest: string (nullable = true)\n",
            " |-- DepTime: string (nullable = true)\n",
            " |-- TaxiOut: double (nullable = true)\n",
            " |-- TaxiIn: double (nullable = true)\n",
            " |-- DepDelay: double (nullable = true)\n",
            " |-- DayOfWeek: double (nullable = true)\n",
            " |-- Distance: double (nullable = true)\n",
            " |-- ArrDelay: double (nullable = true)\n",
            "\n"
          ]
        }
      ],
      "source": [
        "training_df.printSchema()"
      ]
    },
    {
      "cell_type": "markdown",
      "metadata": {
        "id": "01CHSfDBw9c6"
      },
      "source": [
        "#### Transformation categorical variable to numerical one."
      ]
    },
    {
      "cell_type": "code",
      "execution_count": 36,
      "metadata": {
        "id": "6egfemfVw9c6"
      },
      "outputs": [],
      "source": [
        "from pyspark.ml.feature import StringIndexer,OneHotEncoder"
      ]
    },
    {
      "cell_type": "code",
      "execution_count": 37,
      "metadata": {
        "id": "9vYdu5v5w9c6"
      },
      "outputs": [],
      "source": [
        "DepTimeIndexer = StringIndexer\\\n",
        "(inputCol='DepTime',outputCol='DepTimeIndexed',handleInvalid='keep')"
      ]
    },
    {
      "cell_type": "code",
      "execution_count": 38,
      "metadata": {
        "id": "-ElpTmkqw9c6"
      },
      "outputs": [],
      "source": [
        "UniqueCarrierIndexer = StringIndexer\\\n",
        "(inputCol='UniqueCarrier',\\\n",
        " outputCol='UniqueCarrierIndexed',handleInvalid='keep')"
      ]
    },
    {
      "cell_type": "code",
      "execution_count": 39,
      "metadata": {
        "id": "P99c0ygaw9c6"
      },
      "outputs": [],
      "source": [
        "UniqueCarrierOneHotEncoder = OneHotEncoder\\\n",
        "(dropLast=False,inputCol='UniqueCarrierIndexed',\\\n",
        " outputCol='UniqueCarrierVec')"
      ]
    },
    {
      "cell_type": "code",
      "execution_count": 40,
      "metadata": {
        "id": "5Pnyd-Wyw9c6"
      },
      "outputs": [],
      "source": [
        "OriginIndexer = StringIndexer(inputCol='Origin',\\\n",
        "                              outputCol='OriginIndexed',handleInvalid='keep')"
      ]
    },
    {
      "cell_type": "code",
      "execution_count": 41,
      "metadata": {
        "id": "HzuLBTQFw9c6"
      },
      "outputs": [],
      "source": [
        "OriginOneHotEncoder = OneHotEncoder\\\n",
        "(dropLast=False,inputCol='OriginIndexed',\\\n",
        " outputCol='OriginVec')"
      ]
    },
    {
      "cell_type": "code",
      "execution_count": 42,
      "metadata": {
        "id": "L6kg4chow9c6"
      },
      "outputs": [],
      "source": [
        "DestIndexer = StringIndexer(inputCol='Dest',\\\n",
        "                            outputCol='DestIndexed',handleInvalid='keep')"
      ]
    },
    {
      "cell_type": "code",
      "execution_count": 43,
      "metadata": {
        "id": "udpXngTAw9c6"
      },
      "outputs": [],
      "source": [
        "DestOneHotEncoder = OneHotEncoder\\\n",
        "(dropLast=False,inputCol='DestIndexed',\\\n",
        " outputCol='DestVec')"
      ]
    },
    {
      "cell_type": "code",
      "execution_count": 44,
      "metadata": {
        "id": "L_eArbGzw9c7"
      },
      "outputs": [],
      "source": [
        "#labelIndexer = StringIndexer(inputCol='ArrDelay',outputCol='labelIndexed')"
      ]
    },
    {
      "cell_type": "markdown",
      "metadata": {
        "id": "qBVdeP_-w9c7"
      },
      "source": [
        "#### Combines a selected columns into a single vector column."
      ]
    },
    {
      "cell_type": "code",
      "execution_count": 45,
      "metadata": {
        "id": "uBy42N_ew9c7"
      },
      "outputs": [],
      "source": [
        "from pyspark.mllib.linalg import Vectors"
      ]
    },
    {
      "cell_type": "code",
      "execution_count": 46,
      "metadata": {
        "id": "Tr_fCitEw9c7"
      },
      "outputs": [],
      "source": [
        "from pyspark.ml.feature import VectorAssembler"
      ]
    },
    {
      "cell_type": "code",
      "execution_count": 47,
      "metadata": {
        "id": "_3mx-g8Gw9c7"
      },
      "outputs": [],
      "source": [
        "from pyspark.ml import Pipeline"
      ]
    },
    {
      "cell_type": "code",
      "execution_count": 48,
      "metadata": {
        "id": "Q8OvmTizw9c7"
      },
      "outputs": [],
      "source": [
        "featureAssembler = VectorAssembler\\\n",
        "(inputCols=['UniqueCarrierIndexed',\\\n",
        "            'OriginVec',\\\n",
        "            'DepTimeIndexed',\\\n",
        "            'TaxiOut','TaxiIn',\\\n",
        "            'DepDelay',\\\n",
        "            'DayOfWeek',\\\n",
        "            'Distance'\n",
        "           ], outputCol='***features')"
      ]
    },
    {
      "cell_type": "markdown",
      "metadata": {
        "id": "InpevFv8w9c7"
      },
      "source": [
        "#### Define an algorithm."
      ]
    },
    {
      "cell_type": "code",
      "execution_count": 49,
      "metadata": {
        "id": "-ySepOhhw9c7"
      },
      "outputs": [],
      "source": [
        "from pyspark.ml.regression import RandomForestRegressor"
      ]
    },
    {
      "cell_type": "code",
      "execution_count": 50,
      "metadata": {
        "id": "DmChV9hHw9c7"
      },
      "outputs": [],
      "source": [
        "dt = RandomForestRegressor\\\n",
        "(labelCol='ArrDelay',featuresCol='***features')"
      ]
    },
    {
      "cell_type": "markdown",
      "metadata": {
        "id": "otKJGEHbw9c7"
      },
      "source": [
        "#### Pipeline."
      ]
    },
    {
      "cell_type": "code",
      "execution_count": 51,
      "metadata": {
        "id": "r6gTJCx_w9c8"
      },
      "outputs": [],
      "source": [
        "pipeline_dt = Pipeline().\\\n",
        "setStages([UniqueCarrierIndexer,\\\n",
        "           UniqueCarrierOneHotEncoder,\\\n",
        "           DepTimeIndexer,\\\n",
        "           OriginIndexer ,\\\n",
        "           OriginOneHotEncoder,\\\n",
        "           DestIndexer,\\\n",
        "           DestOneHotEncoder,\\\n",
        "           featureAssembler,dt])"
      ]
    },
    {
      "cell_type": "code",
      "execution_count": 52,
      "metadata": {
        "id": "let7idwvw9c8"
      },
      "outputs": [],
      "source": [
        "#training_df.count()"
      ]
    },
    {
      "cell_type": "markdown",
      "metadata": {
        "id": "ex13eJDjw9c8"
      },
      "source": [
        "#### Launch the pipeline and get a model."
      ]
    },
    {
      "cell_type": "code",
      "execution_count": 53,
      "metadata": {
        "id": "JGPUdgoKw9c8"
      },
      "outputs": [],
      "source": [
        "dtModel = pipeline_dt.fit(training_df)"
      ]
    },
    {
      "cell_type": "markdown",
      "metadata": {
        "id": "uPGo3UYOw9c8"
      },
      "source": [
        "#### print out model structure"
      ]
    },
    {
      "cell_type": "code",
      "execution_count": 54,
      "metadata": {
        "id": "Ld2so_3hw9c8"
      },
      "outputs": [],
      "source": [
        "tree = dtModel.stages[8]"
      ]
    },
    {
      "cell_type": "code",
      "execution_count": 55,
      "metadata": {
        "id": "076UY30Ow9c8",
        "outputId": "19a654a5-114d-4311-92e2-51aa600fab19",
        "colab": {
          "base_uri": "https://localhost:8080/",
          "height": 174
        }
      },
      "outputs": [
        {
          "output_type": "execute_result",
          "data": {
            "application/vnd.google.colaboratory.intrinsic+json": {
              "type": "string"
            },
            "text/plain": [
              "'RandomForestRegressionModel (uid=RandomForestRegressor_ac4b00f9d50c) with 20 trees\\n  Tree 0 (weight 1.0):\\n    If (feature 84 <= 14.5)\\n     If (feature 85 <= 48.5)\\n      If (feature 83 <= 20.5)\\n       If (feature 8 in {0.0})\\n        If (feature 87 <= 0.2261645624727906)\\n         Predict: 0.1035988021925752\\n        Else (feature 87 > 0.2261645624727906)\\n         Predict: 0.09361992509394058\\n       Else (feature 8 not in {0.0})\\n        If (feature 85 <= 17.5)\\n         Predict: 0.09843379480886404\\n        Else (feature 85 > 17.5)\\n         Predict: 0.14843958898353649\\n      Else (feature 83 > 20.5)\\n       If (feature 83 <= 36.5)\\n        If (feature 82 in {0.0})\\n         Predict: 0.11903117428666049\\n        Else (feature 82 not in {0.0})\\n         Predict: 0.1327009726168273\\n       Else (feature 83 > 36.5)\\n        If (feature 19 in {1.0})\\n         Predict: 0.13332981307424224\\n        Else (feature 19 not in {1.0})\\n         Predict: 0.18189407540394975\\n     Else (feature 85 > 48.5)\\n      If (feature 83 <= 32.5)\\n       If (feature 85 <= 75.5)\\n        If (feature 86 <= 5.5)\\n         Predict: 0.20304794350462782\\n        Else (feature 86 > 5.5)\\n         Predict: 0.19924623459920243\\n       Else (feature 85 > 75.5)\\n        If (feature 86 <= 6.5)\\n         Predict: 0.3078784387758105\\n        Else (feature 86 > 6.5)\\n         Predict: 0.3460880882995151\\n      Else (feature 83 > 32.5)\\n       If (feature 85 <= 75.5)\\n        If (feature 6 in {0.0})\\n         Predict: 0.2521444244963096\\n        Else (feature 6 not in {0.0})\\n         Predict: 0.33752244165170564\\n       Else (feature 85 > 75.5)\\n        If (feature 82 in {0.0,1.0,2.0})\\n         Predict: 0.4230798243893608\\n        Else (feature 82 not in {0.0,1.0,2.0})\\n         Predict: 0.6732495511669657\\n    Else (feature 84 > 14.5)\\n     If (feature 83 <= 33.5)\\n      If (feature 83 <= 14.5)\\n       If (feature 85 <= 75.5)\\n        If (feature 85 <= 27.5)\\n         Predict: 0.12112328171473274\\n        Else (feature 85 > 27.5)\\n         Predict: 0.21508750146814548\\n       Else (feature 85 > 75.5)\\n        If (feature 14 in {1.0})\\n         Predict: 0.25314183123877915\\n        Else (feature 14 not in {1.0})\\n         Predict: 0.38809456857952446\\n      Else (feature 83 > 14.5)\\n       If (feature 26 in {0.0})\\n        If (feature 83 <= 27.5)\\n         Predict: 0.1993925383045178\\n        Else (feature 83 > 27.5)\\n         Predict: 0.29857754453804747\\n       Else (feature 26 not in {0.0})\\n        If (feature 87 <= 0.27622986504135827)\\n         Predict: 0.1663674446439258\\n        Else (feature 87 > 0.27622986504135827)\\n         Predict: 0.35727109515260325\\n     Else (feature 83 > 33.5)\\n      If (feature 82 in {0.0,1.0})\\n       If (feature 87 <= 0.053330430996952546)\\n        Predict: 0.414721723518851\\n       Else (feature 87 > 0.053330430996952546)\\n        If (feature 0 in {1.0})\\n         Predict: 0.19389587073608616\\n        Else (feature 0 not in {1.0})\\n         Predict: 0.3016157989228007\\n      Else (feature 82 not in {0.0,1.0})\\n       If (feature 40 in {0.0})\\n        If (feature 85 <= 10.5)\\n         Predict: 0.19210053859964094\\n        Else (feature 85 > 10.5)\\n         Predict: 0.6306104129263913\\n       Else (feature 40 not in {0.0})\\n        Predict: 0.9299820466786355\\n  Tree 1 (weight 1.0):\\n    If (feature 85 <= 48.5)\\n     If (feature 83 <= 20.5)\\n      If (feature 85 <= 11.5)\\n       If (feature 85 <= 0.5)\\n        If (feature 87 <= 0.2261645624727906)\\n         Predict: 0.0912509851604154\\n        Else (feature 87 > 0.2261645624727906)\\n         Predict: 0.08180284874141072\\n       Else (feature 85 > 0.5)\\n        If (feature 19 in {1.0})\\n         Predict: 0.08206844023720146\\n        Else (feature 19 not in {1.0})\\n         Predict: 0.10064254131571147\\n      Else (feature 85 > 11.5)\\n       If (feature 84 <= 9.5)\\n        If (feature 82 in {0.0,1.0})\\n         Predict: 0.1337717003056629\\n        Else (feature 82 not in {0.0,1.0})\\n         Predict: 0.13904276252691394\\n       Else (feature 84 > 9.5)\\n        If (feature 27 in {0.0})\\n         Predict: 0.15828013830706827\\n        Else (feature 27 not in {0.0})\\n         Predict: 0.212567324955117\\n     Else (feature 83 > 20.5)\\n      If (feature 85 <= 18.5)\\n       If (feature 85 <= 6.5)\\n        If (feature 87 <= 0.053330430996952546)\\n         Predict: 0.1660954246232523\\n        Else (feature 87 > 0.053330430996952546)\\n         Predict: 0.11677211819735665\\n       Else (feature 85 > 6.5)\\n        If (feature 83 <= 34.5)\\n         Predict: 0.13574471081071565\\n        Else (feature 83 > 34.5)\\n         Predict: 0.17462844028207067\\n      Else (feature 85 > 18.5)\\n       If (feature 85 <= 27.5)\\n        If (feature 26 in {0.0})\\n         Predict: 0.16406573677668831\\n        Else (feature 26 not in {0.0})\\n         Predict: 0.269299820466788\\n       Else (feature 85 > 27.5)\\n        If (feature 84 <= 7.5)\\n         Predict: 0.18882725494190036\\n        Else (feature 84 > 7.5)\\n         Predict: 0.21320929220390616\\n    Else (feature 85 > 48.5)\\n     If (feature 82 in {0.0,1.0,2.0})\\n      If (feature 85 <= 75.5)\\n       If (feature 87 <= 0.2592511972137571)\\n        If (feature 83 <= 16.5)\\n         Predict: 0.2054183401832224\\n        Else (feature 83 > 16.5)\\n         Predict: 0.22866939400182487\\n       Else (feature 87 > 0.2592511972137571)\\n        If (feature 84 <= 9.5)\\n         Predict: 0.19504983929469444\\n        Else (feature 84 > 9.5)\\n         Predict: 0.22569889715311608\\n      Else (feature 85 > 75.5)\\n       If (feature 83 <= 18.5)\\n        If (feature 84 <= 8.5)\\n         Predict: 0.30729758519403255\\n        Else (feature 84 > 8.5)\\n         Predict: 0.3557708861070814\\n       Else (feature 83 > 18.5)\\n        If (feature 84 <= 16.5)\\n         Predict: 0.37545350837821667\\n        Else (feature 84 > 16.5)\\n         Predict: 0.5509557503432247\\n     Else (feature 82 not in {0.0,1.0,2.0})\\n      If (feature 83 <= 12.5)\\n       If (feature 83 <= 7.5)\\n        If (feature 2 in {0.0})\\n         Predict: 0.446588868940754\\n        Else (feature 2 not in {0.0})\\n         Predict: 0.5188509874326748\\n       Else (feature 83 > 7.5)\\n        If (feature 8 in {0.0})\\n         Predict: 0.5264631956912028\\n        Else (feature 8 not in {0.0})\\n         Predict: 0.7199281867145425\\n      Else (feature 83 > 12.5)\\n       If (feature 2 in {0.0})\\n        If (feature 18 in {0.0})\\n         Predict: 0.5359066427289049\\n        Else (feature 18 not in {0.0})\\n         Predict: 0.6894075403949733\\n       Else (feature 2 not in {0.0})\\n        Predict: 0.677737881508079\\n  Tree 2 (weight 1.0):\\n    If (feature 85 <= 48.5)\\n     If (feature 83 <= 22.5)\\n      If (feature 85 <= 11.5)\\n       If (feature 7 in {0.0})\\n        If (feature 85 <= 0.5)\\n         Predict: 0.08747302114052466\\n        Else (feature 85 > 0.5)\\n         Predict: 0.10046318004322848\\n       Else (feature 7 not in {0.0})\\n        If (feature 83 <= 11.5)\\n         Predict: 0.09695849050086022\\n        Else (feature 83 > 11.5)\\n         Predict: 0.1116064524371466\\n      Else (feature 85 > 11.5)\\n       If (feature 87 <= 0.20570309098824555)\\n        If (feature 85 <= 27.5)\\n         Predict: 0.1308404232645312\\n        Else (feature 85 > 27.5)\\n         Predict: 0.16363765782853262\\n       Else (feature 87 > 0.20570309098824555)\\n        If (feature 83 <= 13.5)\\n         Predict: 0.12813189701593392\\n        Else (feature 83 > 13.5)\\n         Predict: 0.13852433520870047\\n     Else (feature 83 > 22.5)\\n      If (feature 85 <= 13.5)\\n       If (feature 6 in {0.0})\\n        If (feature 85 <= 1.5)\\n         Predict: 0.11903296143019085\\n        Else (feature 85 > 1.5)\\n         Predict: 0.1359115614470869\\n       Else (feature 6 not in {0.0})\\n        If (feature 87 <= 0.3090988245537658)\\n         Predict: 0.26570915619389585\\n        Else (feature 87 > 0.3090988245537658)\\n         Predict: 0.22501496110113703\\n      Else (feature 85 > 13.5)\\n       If (feature 40 in {0.0})\\n        If (feature 87 <= 0.3369612538093165)\\n         Predict: 0.1827670188657033\\n        Else (feature 87 > 0.3369612538093165)\\n         Predict: 0.1642812798872464\\n       Else (feature 40 not in {0.0})\\n        Predict: 0.339317773788153\\n    Else (feature 85 > 48.5)\\n     If (feature 41 in {0.0})\\n      If (feature 85 <= 75.5)\\n       If (feature 83 <= 28.5)\\n        If (feature 84 <= 15.5)\\n         Predict: 0.20133667177584055\\n        Else (feature 84 > 15.5)\\n         Predict: 0.24275066644905205\\n       Else (feature 83 > 28.5)\\n        If (feature 83 <= 36.5)\\n         Predict: 0.24210187839974273\\n        Else (feature 83 > 36.5)\\n         Predict: 0.2730259815046916\\n      Else (feature 85 > 75.5)\\n       If (feature 84 <= 15.5)\\n        If (feature 83 <= 32.5)\\n         Predict: 0.3204303087590639\\n        Else (feature 83 > 32.5)\\n         Predict: 0.43800159320865184\\n       Else (feature 84 > 15.5)\\n        If (feature 16 in {0.0})\\n         Predict: 0.44240530177095105\\n        Else (feature 16 not in {0.0})\\n         Predict: 0.7077199281867138\\n     Else (feature 41 not in {0.0})\\n      If (feature 85 <= 75.5)\\n       If (feature 83 <= 16.5)\\n        Predict: 0.18957377485205135\\n       Else (feature 83 > 16.5)\\n        If (feature 86 <= 1.5)\\n         Predict: 0.23877917414721722\\n        Else (feature 86 > 1.5)\\n         Predict: 0.21343330869151966\\n      Else (feature 85 > 75.5)\\n       If (feature 84 <= 14.5)\\n        If (feature 86 <= 4.5)\\n         Predict: 0.3212885933193415\\n        Else (feature 86 > 4.5)\\n         Predict: 0.3730924596050269\\n       Else (feature 84 > 14.5)\\n        If (feature 84 <= 23.5)\\n         Predict: 0.5299820466786356\\n        Else (feature 84 > 23.5)\\n         Predict: 0.3052064631956912\\n  Tree 3 (weight 1.0):\\n    If (feature 86 <= 3.5)\\n     If (feature 87 <= 0.2592511972137571)\\n      If (feature 85 <= 36.5)\\n       If (feature 87 <= 0.16216804527644754)\\n        If (feature 84 <= 8.5)\\n         Predict: 0.10171159427582417\\n        Else (feature 84 > 8.5)\\n         Predict: 0.1146797332460461\\n       Else (feature 87 > 0.16216804527644754)\\n        If (feature 85 <= 8.5)\\n         Predict: 0.09192176436576201\\n        Else (feature 85 > 8.5)\\n         Predict: 0.127094554159186\\n      Else (feature 85 > 36.5)\\n       If (feature 87 <= 0.20570309098824555)\\n        If (feature 85 <= 75.5)\\n         Predict: 0.19262043180288752\\n        Else (feature 85 > 75.5)\\n         Predict: 0.31484361396155947\\n       Else (feature 87 > 0.20570309098824555)\\n        If (feature 85 <= 75.5)\\n         Predict: 0.1861389395206052\\n        Else (feature 85 > 75.5)\\n         Predict: 0.35471619941996957\\n     Else (feature 87 > 0.2592511972137571)\\n      If (feature 82 in {0.0,1.0})\\n       If (feature 85 <= 36.5)\\n        If (feature 83 <= 14.5)\\n         Predict: 0.08774306446797493\\n        Else (feature 83 > 14.5)\\n         Predict: 0.10587038307143024\\n       Else (feature 85 > 36.5)\\n        If (feature 0 in {0.0})\\n         Predict: 0.20446397725535068\\n        Else (feature 0 not in {0.0})\\n         Predict: 0.2626258683943485\\n      Else (feature 82 not in {0.0,1.0})\\n       If (feature 83 <= 35.5)\\n        If (feature 86 <= 1.5)\\n         Predict: 0.11849192100538601\\n        Else (feature 86 > 1.5)\\n         Predict: 0.10041290267497373\\n       Else (feature 83 > 35.5)\\n        If (feature 85 <= 75.5)\\n         Predict: 0.2101536006383403\\n        Else (feature 85 > 75.5)\\n         Predict: 0.3784560143626571\\n    Else (feature 86 > 3.5)\\n     If (feature 9 in {0.0})\\n      If (feature 85 <= 48.5)\\n       If (feature 85 <= 14.5)\\n        If (feature 6 in {0.0})\\n         Predict: 0.09496501303647226\\n        Else (feature 6 not in {0.0})\\n         Predict: 0.10050802220795269\\n       Else (feature 85 > 14.5)\\n        If (feature 85 <= 27.5)\\n         Predict: 0.13045495936506515\\n        Else (feature 85 > 27.5)\\n         Predict: 0.1618424416517057\\n      Else (feature 85 > 48.5)\\n       If (feature 83 <= 20.5)\\n        If (feature 82 in {0.0,1.0,2.0})\\n         Predict: 0.2620148744007631\\n        Else (feature 82 not in {0.0,1.0,2.0})\\n         Predict: 0.5366760707873801\\n       Else (feature 83 > 20.5)\\n        If (feature 2 in {0.0})\\n         Predict: 0.3224927881007832\\n        Else (feature 2 not in {0.0})\\n         Predict: 0.39996800398172655\\n     Else (feature 9 not in {0.0})\\n      If (feature 85 <= 48.5)\\n       If (feature 83 <= 21.5)\\n        If (feature 85 <= 14.5)\\n         Predict: 0.09615045976290279\\n        Else (feature 85 > 14.5)\\n         Predict: 0.14537172296129444\\n       Else (feature 83 > 21.5)\\n        If (feature 83 <= 33.5)\\n         Predict: 0.14083908154587546\\n        Else (feature 83 > 33.5)\\n         Predict: 0.21543985637342913\\n      Else (feature 85 > 48.5)\\n       If (feature 85 <= 75.5)\\n        If (feature 83 <= 35.5)\\n         Predict: 0.20384080043572103\\n        Else (feature 83 > 35.5)\\n         Predict: 0.27176840215439846\\n       Else (feature 85 > 75.5)\\n        If (feature 86 <= 6.5)\\n         Predict: 0.34322526137923753\\n        Else (feature 86 > 6.5)\\n         Predict: 0.2955433519907064\\n  Tree 4 (weight 1.0):\\n    If (feature 86 <= 3.5)\\n     If (feature 85 <= 36.5)\\n      If (feature 87 <= 0.23857205050065303)\\n       If (feature 83 <= 16.5)\\n        If (feature 84 <= 16.5)\\n         Predict: 0.09877690235342088\\n        Else (feature 84 > 16.5)\\n         Predict: 0.12930337167321151\\n       Else (feature 83 > 16.5)\\n        If (feature 0 in {1.0})\\n         Predict: 0.10561682482687869\\n        Else (feature 0 not in {1.0})\\n         Predict: 0.12285825399954191\\n      Else (feature 87 > 0.23857205050065303)\\n       If (feature 83 <= 22.5)\\n        If (feature 83 <= 10.5)\\n         Predict: 0.08627722676247163\\n        Else (feature 83 > 10.5)\\n         Predict: 0.09526778604632191\\n       Else (feature 83 > 22.5)\\n        If (feature 85 <= 12.5)\\n         Predict: 0.1142178372485315\\n        Else (feature 85 > 12.5)\\n         Predict: 0.15841854656154877\\n     Else (feature 85 > 36.5)\\n      If (feature 83 <= 27.5)\\n       If (feature 0 in {0.0})\\n        If (feature 84 <= 9.5)\\n         Predict: 0.2137100389180192\\n        Else (feature 84 > 9.5)\\n         Predict: 0.26803747755834806\\n       Else (feature 0 not in {0.0})\\n        If (feature 85 <= 75.5)\\n         Predict: 0.18504744806360604\\n        Else (feature 85 > 75.5)\\n         Predict: 0.3427089567125473\\n      Else (feature 83 > 27.5)\\n       If (feature 85 <= 75.5)\\n        If (feature 87 <= 0.8563343491510667)\\n         Predict: 0.22796229802513462\\n        Else (feature 87 > 0.8563343491510667)\\n         Predict: 0.1621783363255537\\n       Else (feature 85 > 75.5)\\n        If (feature 83 <= 36.5)\\n         Predict: 0.3528825054857371\\n        Else (feature 83 > 36.5)\\n         Predict: 0.42122980251346503\\n    Else (feature 86 > 3.5)\\n     If (feature 85 <= 48.5)\\n      If (feature 82 in {0.0,3.0})\\n       If (feature 86 <= 5.5)\\n        If (feature 83 <= 21.5)\\n         Predict: 0.0972137001448683\\n        Else (feature 83 > 21.5)\\n         Predict: 0.13140582312075544\\n       Else (feature 86 > 5.5)\\n        If (feature 85 <= 7.5)\\n         Predict: 0.09004437069197772\\n        Else (feature 85 > 7.5)\\n         Predict: 0.1259002673134152\\n      Else (feature 82 not in {0.0,3.0})\\n       If (feature 87 <= 0.23857205050065303)\\n        If (feature 83 <= 18.5)\\n         Predict: 0.11125149424463979\\n        Else (feature 83 > 18.5)\\n         Predict: 0.14584241400167025\\n       Else (feature 87 > 0.23857205050065303)\\n        If (feature 84 <= 14.5)\\n         Predict: 0.10106840770697216\\n        Else (feature 84 > 14.5)\\n         Predict: 0.13271571262783113\\n     Else (feature 85 > 48.5)\\n      If (feature 86 <= 6.5)\\n       If (feature 82 in {0.0,1.0,2.0})\\n        If (feature 85 <= 75.5)\\n         Predict: 0.20618107206976155\\n        Else (feature 85 > 75.5)\\n         Predict: 0.31942844127656167\\n       Else (feature 82 not in {0.0,1.0,2.0})\\n        If (feature 37 in {1.0})\\n         Predict: 0.3859964093357271\\n        Else (feature 37 not in {1.0})\\n         Predict: 0.5814763966627945\\n      Else (feature 86 > 6.5)\\n       If (feature 82 in {0.0,1.0,2.0})\\n        If (feature 87 <= 0.09164127122333479)\\n         Predict: 0.3319943685984785\\n        Else (feature 87 > 0.09164127122333479)\\n         Predict: 0.28137419632033633\\n       Else (feature 82 not in {0.0,1.0,2.0})\\n        If (feature 87 <= 0.11667392250761863)\\n         Predict: 0.47531418312387796\\n        Else (feature 87 > 0.11667392250761863)\\n         Predict: 0.5611695306488843\\n  Tree 5 (weight 1.0):\\n    If (feature 82 in {0.0,1.0})\\n     If (feature 87 <= 0.23857205050065303)\\n      If (feature 85 <= 36.5)\\n       If (feature 85 <= 9.5)\\n        If (feature 85 <= 0.5)\\n         Predict: 0.09244931165272383\\n        Else (feature 85 > 0.5)\\n         Predict: 0.10430870631653605\\n       Else (feature 85 > 9.5)\\n        If (feature 15 in {1.0})\\n         Predict: 0.12569276403091093\\n        Else (feature 15 not in {1.0})\\n         Predict: 0.1337412359971101\\n      Else (feature 85 > 36.5)\\n       If (feature 84 <= 16.5)\\n        If (feature 84 <= 2.5)\\n         Predict: 0.20582275557235402\\n        Else (feature 84 > 2.5)\\n         Predict: 0.23237217531937618\\n       Else (feature 84 > 16.5)\\n        If (feature 84 <= 31.5)\\n         Predict: 0.31951782508335475\\n        Else (feature 84 > 31.5)\\n         Predict: 0.39744165170556545\\n     Else (feature 87 > 0.23857205050065303)\\n      If (feature 85 <= 36.5)\\n       If (feature 83 <= 14.5)\\n        If (feature 83 <= 10.5)\\n         Predict: 0.08829221238010214\\n        Else (feature 83 > 10.5)\\n         Predict: 0.09359290645593317\\n       Else (feature 83 > 14.5)\\n        If (feature 83 <= 33.5)\\n         Predict: 0.10518396294959473\\n        Else (feature 83 > 33.5)\\n         Predict: 0.16072601480054308\\n      Else (feature 85 > 36.5)\\n       If (feature 41 in {0.0})\\n        If (feature 85 <= 75.5)\\n         Predict: 0.18208753050452056\\n        Else (feature 85 > 75.5)\\n         Predict: 0.31321989792830757\\n       Else (feature 41 not in {0.0})\\n        Predict: 0.31786827931588396\\n    Else (feature 82 not in {0.0,1.0})\\n     If (feature 87 <= 0.7246408358728778)\\n      If (feature 86 <= 3.5)\\n       If (feature 85 <= 48.5)\\n        If (feature 85 <= 11.5)\\n         Predict: 0.09193856908998367\\n        Else (feature 85 > 11.5)\\n         Predict: 0.14020497379459151\\n       Else (feature 85 > 48.5)\\n        If (feature 82 in {2.0})\\n         Predict: 0.2594176332428855\\n        Else (feature 82 not in {2.0})\\n         Predict: 0.5508078994614001\\n      Else (feature 86 > 3.5)\\n       If (feature 82 in {2.0})\\n        If (feature 85 <= 75.5)\\n         Predict: 0.12146490123669082\\n        Else (feature 85 > 75.5)\\n         Predict: 0.33261886992826756\\n       Else (feature 82 not in {2.0})\\n        If (feature 85 <= -0.5)\\n         Predict: 0.09281225955373172\\n        Else (feature 85 > -0.5)\\n         Predict: 0.53639891121793\\n     Else (feature 87 > 0.7246408358728778)\\n      If (feature 85 <= 75.5)\\n       If (feature 10 in {0.0})\\n        If (feature 83 <= 11.5)\\n         Predict: 0.09729086397837532\\n        Else (feature 83 > 11.5)\\n         Predict: 0.13694310758414674\\n       Else (feature 10 not in {0.0})\\n        Predict: 0.15260323159784406\\n      Else (feature 85 > 75.5)\\n       If (feature 43 in {0.0})\\n        If (feature 83 <= 20.5)\\n         Predict: 0.30993961155541044\\n        Else (feature 83 > 20.5)\\n         Predict: 0.45721125074805513\\n       Else (feature 43 not in {0.0})\\n        Predict: 0.48114901256732523\\n  Tree 6 (weight 1.0):\\n    If (feature 83 <= 21.5)\\n     If (feature 86 <= 3.5)\\n      If (feature 85 <= 36.5)\\n       If (feature 85 <= 7.5)\\n        If (feature 83 <= 11.5)\\n         Predict: 0.08846665791604862\\n        Else (feature 83 > 11.5)\\n         Predict: 0.09666399118207981\\n       Else (feature 85 > 7.5)\\n        If (feature 7 in {0.0})\\n         Predict: 0.12358148299060716\\n        Else (feature 7 not in {0.0})\\n         Predict: 0.13014307131355407\\n      Else (feature 85 > 36.5)\\n       If (feature 40 in {0.0})\\n        If (feature 84 <= 7.5)\\n         Predict: 0.21817770716056117\\n        Else (feature 84 > 7.5)\\n         Predict: 0.2539946140035905\\n       Else (feature 40 not in {0.0})\\n        If (feature 84 <= 8.5)\\n         Predict: 0.1741472172351885\\n        Else (feature 84 > 8.5)\\n         Predict: 0.49730700179533216\\n     Else (feature 86 > 3.5)\\n      If (feature 86 <= 4.5)\\n       If (feature 0 in {1.0})\\n        If (feature 23 in {1.0})\\n         Predict: 0.08445866833190227\\n        Else (feature 23 not in {1.0})\\n         Predict: 0.10694739132800178\\n       Else (feature 0 not in {1.0})\\n        If (feature 82 in {0.0,1.0})\\n         Predict: 0.11096553144977389\\n        Else (feature 82 not in {0.0,1.0})\\n         Predict: 0.1588123819246431\\n      Else (feature 86 > 4.5)\\n       If (feature 85 <= 48.5)\\n        If (feature 85 <= 12.5)\\n         Predict: 0.09223496271808004\\n        Else (feature 85 > 12.5)\\n         Predict: 0.13757719382590605\\n       Else (feature 85 > 48.5)\\n        If (feature 82 in {0.0,1.0,2.0})\\n         Predict: 0.2661794423533489\\n        Else (feature 82 not in {0.0,1.0,2.0})\\n         Predict: 0.5394973070017954\\n    Else (feature 83 > 21.5)\\n     If (feature 85 <= 75.5)\\n      If (feature 83 <= 35.5)\\n       If (feature 82 in {0.0})\\n        If (feature 83 <= 28.5)\\n         Predict: 0.11867681084041935\\n        Else (feature 83 > 28.5)\\n         Predict: 0.1367686251770242\\n       Else (feature 82 not in {0.0})\\n        If (feature 85 <= 17.5)\\n         Predict: 0.1204941917369978\\n        Else (feature 85 > 17.5)\\n         Predict: 0.18478662065456158\\n      Else (feature 83 > 35.5)\\n       If (feature 19 in {1.0})\\n        Predict: 0.14617343743476266\\n       Else (feature 19 not in {1.0})\\n        If (feature 85 <= 21.5)\\n         Predict: 0.1644456274884039\\n        Else (feature 85 > 21.5)\\n         Predict: 0.24144078542642272\\n     Else (feature 85 > 75.5)\\n      If (feature 83 <= 34.5)\\n       If (feature 84 <= 5.5)\\n        If (feature 82 in {0.0,1.0,2.0})\\n         Predict: 0.3451209952714492\\n        Else (feature 82 not in {0.0,1.0,2.0})\\n         Predict: 0.6074207061639735\\n       Else (feature 84 > 5.5)\\n        If (feature 82 in {0.0,1.0,2.0})\\n         Predict: 0.3803342079823229\\n        Else (feature 82 not in {0.0,1.0,2.0})\\n         Predict: 0.7095152603231597\\n      Else (feature 83 > 34.5)\\n       If (feature 84 <= 12.5)\\n        If (feature 51 in {0.0})\\n         Predict: 0.43177737881508066\\n        Else (feature 51 not in {0.0})\\n         Predict: 0.7881508078994628\\n       Else (feature 84 > 12.5)\\n        If (feature 87 <= 0.09904222899434044)\\n         Predict: 0.7330939557151406\\n        Else (feature 87 > 0.09904222899434044)\\n         Predict: 0.4856373429084382\\n  Tree 7 (weight 1.0):\\n    If (feature 85 <= 48.5)\\n     If (feature 85 <= 12.5)\\n      If (feature 84 <= 12.5)\\n       If (feature 77 in {0.0})\\n        If (feature 87 <= 0.2261645624727906)\\n         Predict: 0.09714743924980057\\n        Else (feature 87 > 0.2261645624727906)\\n         Predict: 0.08755946603966626\\n       Else (feature 77 not in {0.0})\\n        Predict: 0.21005385996401552\\n      Else (feature 84 > 12.5)\\n       If (feature 83 <= 30.5)\\n        If (feature 84 <= 26.5)\\n         Predict: 0.1101217413237978\\n        Else (feature 84 > 26.5)\\n         Predict: 0.14230571941523462\\n       Else (feature 83 > 30.5)\\n        If (feature 86 <= 4.5)\\n         Predict: 0.3213644524236984\\n        Else (feature 86 > 4.5)\\n         Predict: 0.21409335727109519\\n     Else (feature 85 > 12.5)\\n      If (feature 87 <= 0.20570309098824555)\\n       If (feature 85 <= 27.5)\\n        If (feature 84 <= 19.5)\\n         Predict: 0.1332703013173105\\n        Else (feature 84 > 19.5)\\n         Predict: 0.18286740189792486\\n       Else (feature 85 > 27.5)\\n        If (feature 85 <= 36.5)\\n         Predict: 0.15650930910623248\\n        Else (feature 85 > 36.5)\\n         Predict: 0.17499084085833447\\n      Else (feature 87 > 0.20570309098824555)\\n       If (feature 84 <= 11.5)\\n        If (feature 82 in {0.0,1.0})\\n         Predict: 0.1306173329921053\\n        Else (feature 82 not in {0.0,1.0})\\n         Predict: 0.1360196341497667\\n       Else (feature 84 > 11.5)\\n        If (feature 85 <= 27.5)\\n         Predict: 0.1483747519606917\\n        Else (feature 85 > 27.5)\\n         Predict: 0.1906418312387792\\n    Else (feature 85 > 48.5)\\n     If (feature 41 in {0.0})\\n      If (feature 0 in {0.0})\\n       If (feature 85 <= 75.5)\\n        If (feature 83 <= 26.5)\\n         Predict: 0.20145927041305514\\n        Else (feature 83 > 26.5)\\n         Predict: 0.24633393177737845\\n       Else (feature 85 > 75.5)\\n        If (feature 82 in {0.0,1.0,2.0})\\n         Predict: 0.3164538308077726\\n        Else (feature 82 not in {0.0,1.0,2.0})\\n         Predict: 0.5512295937539148\\n      Else (feature 0 not in {0.0})\\n       If (feature 85 <= 75.5)\\n        If (feature 84 <= 13.5)\\n         Predict: 0.20073020231431893\\n        Else (feature 84 > 13.5)\\n         Predict: 0.23937761819269868\\n       Else (feature 85 > 75.5)\\n        If (feature 83 <= 33.5)\\n         Predict: 0.362536057934763\\n        Else (feature 83 > 33.5)\\n         Predict: 0.7845601436265639\\n     Else (feature 41 not in {0.0})\\n      If (feature 85 <= 75.5)\\n       If (feature 83 <= 16.5)\\n        If (feature 87 <= 0.11993905093600349)\\n         Predict: 0.177737881508079\\n        Else (feature 87 > 0.11993905093600349)\\n         Predict: 0.19787124903821493\\n       Else (feature 83 > 16.5)\\n        If (feature 82 in {1.0,2.0})\\n         Predict: 0.2169087644850661\\n        Else (feature 82 not in {1.0,2.0})\\n         Predict: 0.26211849192100534\\n      Else (feature 85 > 75.5)\\n       If (feature 84 <= 15.5)\\n        If (feature 82 in {1.0})\\n         Predict: 0.32594727392988754\\n        Else (feature 82 not in {1.0})\\n         Predict: 0.3808722321962897\\n       Else (feature 84 > 15.5)\\n        If (feature 83 <= 15.5)\\n         Predict: 0.47496509076401355\\n        Else (feature 83 > 15.5)\\n         Predict: 0.3390185517654099\\n  Tree 8 (weight 1.0):\\n    If (feature 83 <= 30.5)\\n     If (feature 85 <= 48.5)\\n      If (feature 87 <= 0.2261645624727906)\\n       If (feature 86 <= 3.5)\\n        If (feature 83 <= 11.5)\\n         Predict: 0.09853275668200727\\n        Else (feature 83 > 11.5)\\n         Predict: 0.11169261618094645\\n       Else (feature 86 > 3.5)\\n        If (feature 85 <= 14.5)\\n         Predict: 0.09829012650643824\\n        Else (feature 85 > 14.5)\\n         Predict: 0.14790214075746\\n      Else (feature 87 > 0.2261645624727906)\\n       If (feature 85 <= 11.5)\\n        If (feature 84 <= 12.5)\\n         Predict: 0.08637700581432563\\n        Else (feature 84 > 12.5)\\n         Predict: 0.10934782002027689\\n       Else (feature 85 > 11.5)\\n        If (feature 84 <= 11.5)\\n         Predict: 0.12988259836713165\\n        Else (feature 84 > 11.5)\\n         Predict: 0.1537312721437538\\n     Else (feature 85 > 48.5)\\n      If (feature 82 in {0.0,1.0,2.0})\\n       If (feature 85 <= 75.5)\\n        If (feature 84 <= 14.5)\\n         Predict: 0.20196703231284527\\n        Else (feature 84 > 14.5)\\n         Predict: 0.2443305300954355\\n       Else (feature 85 > 75.5)\\n        If (feature 84 <= 15.5)\\n         Predict: 0.31305451812272905\\n        Else (feature 84 > 15.5)\\n         Predict: 0.39502639671507445\\n      Else (feature 82 not in {0.0,1.0,2.0})\\n       If (feature 3 in {1.0})\\n        If (feature 87 <= 0.3567696996081846)\\n         Predict: 0.3818927930238523\\n        Else (feature 87 > 0.3567696996081846)\\n         Predict: 0.4955116696588868\\n       Else (feature 3 not in {1.0})\\n        If (feature 87 <= 0.2592511972137571)\\n         Predict: 0.5167671197743011\\n        Else (feature 87 > 0.2592511972137571)\\n         Predict: 0.6145165427032568\\n    Else (feature 83 > 30.5)\\n     If (feature 85 <= 75.5)\\n      If (feature 83 <= 36.5)\\n       If (feature 85 <= 27.5)\\n        If (feature 87 <= 0.14192424902046147)\\n         Predict: 0.143277478555755\\n        Else (feature 87 > 0.14192424902046147)\\n         Predict: 0.12908157540394966\\n       Else (feature 85 > 27.5)\\n        If (feature 85 <= 48.5)\\n         Predict: 0.18929045351650922\\n        Else (feature 85 > 48.5)\\n         Predict: 0.24899875707775168\\n      Else (feature 83 > 36.5)\\n       If (feature 85 <= 27.5)\\n        If (feature 85 <= -2.5)\\n         Predict: 0.1382101451480388\\n        Else (feature 85 > -2.5)\\n         Predict: 0.18189978782438382\\n       Else (feature 85 > 27.5)\\n        If (feature 23 in {0.0})\\n         Predict: 0.2501923570146191\\n        Else (feature 23 not in {0.0})\\n         Predict: 0.2811938958707363\\n     Else (feature 85 > 75.5)\\n      If (feature 84 <= 15.5)\\n       If (feature 82 in {0.0,1.0,2.0})\\n        If (feature 86 <= 3.5)\\n         Predict: 0.353096947935368\\n        Else (feature 86 > 3.5)\\n         Predict: 0.41373937197249405\\n       Else (feature 82 not in {0.0,1.0,2.0})\\n        If (feature 84 <= 8.5)\\n         Predict: 0.6666666666666666\\n        Else (feature 84 > 8.5)\\n         Predict: 0.7522441651705565\\n      Else (feature 84 > 15.5)\\n       If (feature 87 <= 0.09904222899434044)\\n        Predict: 0.822262118491921\\n       Else (feature 87 > 0.09904222899434044)\\n        If (feature 82 in {1.0})\\n         Predict: 0.4524236983842011\\n        Else (feature 82 not in {1.0})\\n         Predict: 0.5780969479353679\\n  Tree 9 (weight 1.0):\\n    If (feature 84 <= 10.5)\\n     If (feature 85 <= 48.5)\\n      If (feature 83 <= 17.5)\\n       If (feature 85 <= 13.5)\\n        If (feature 85 <= 0.5)\\n         Predict: 0.08663783417869653\\n        Else (feature 85 > 0.5)\\n         Predict: 0.10039515346182727\\n       Else (feature 85 > 13.5)\\n        If (feature 82 in {0.0})\\n         Predict: 0.1337750587475498\\n        Else (feature 82 not in {0.0})\\n         Predict: 0.13930695697667098\\n      Else (feature 83 > 17.5)\\n       If (feature 83 <= 35.5)\\n        If (feature 87 <= 0.23857205050065303)\\n         Predict: 0.12690517131465864\\n        Else (feature 87 > 0.23857205050065303)\\n         Predict: 0.11179747535300952\\n       Else (feature 83 > 35.5)\\n        If (feature 6 in {0.0})\\n         Predict: 0.17144602116688384\\n        Else (feature 6 not in {0.0})\\n         Predict: 0.22634008720184692\\n     Else (feature 85 > 48.5)\\n      If (feature 85 <= 75.5)\\n       If (feature 5 in {0.0})\\n        If (feature 83 <= 31.5)\\n         Predict: 0.20045342574422778\\n        Else (feature 83 > 31.5)\\n         Predict: 0.2599699796921449\\n       Else (feature 5 not in {0.0})\\n        If (feature 83 <= 22.5)\\n         Predict: 0.2107377960160725\\n        Else (feature 83 > 22.5)\\n         Predict: 0.24383874653174492\\n      Else (feature 85 > 75.5)\\n       If (feature 83 <= 36.5)\\n        If (feature 83 <= 19.5)\\n         Predict: 0.31661205138484605\\n        Else (feature 83 > 19.5)\\n         Predict: 0.36016781898977496\\n       Else (feature 83 > 36.5)\\n        If (feature 82 in {0.0,1.0,2.0})\\n         Predict: 0.43660083782166376\\n        Else (feature 82 not in {0.0,1.0,2.0})\\n         Predict: 0.6912028725314187\\n    Else (feature 84 > 10.5)\\n     If (feature 84 <= 15.5)\\n      If (feature 83 <= 25.5)\\n       If (feature 85 <= 48.5)\\n        If (feature 48 in {0.0})\\n         Predict: 0.11018176461751844\\n        Else (feature 48 not in {0.0})\\n         Predict: 0.21184919210054431\\n       Else (feature 85 > 48.5)\\n        If (feature 10 in {0.0})\\n         Predict: 0.2943431823022853\\n        Else (feature 10 not in {0.0})\\n         Predict: 0.4793536804308829\\n      Else (feature 83 > 25.5)\\n       If (feature 82 in {0.0,1.0,2.0})\\n        If (feature 87 <= 0.16804527644754028)\\n         Predict: 0.28923419798179906\\n        Else (feature 87 > 0.16804527644754028)\\n         Predict: 0.18632982816106697\\n       Else (feature 82 not in {0.0,1.0,2.0})\\n        Predict: 0.7522441651705565\\n     Else (feature 84 > 15.5)\\n      If (feature 85 <= 75.5)\\n       If (feature 85 <= 27.5)\\n        If (feature 87 <= 0.1826295167609926)\\n         Predict: 0.1363247887760194\\n        Else (feature 87 > 0.1826295167609926)\\n         Predict: 0.11919032493538775\\n       Else (feature 85 > 27.5)\\n        If (feature 85 <= 48.5)\\n         Predict: 0.2029802513464991\\n        Else (feature 85 > 48.5)\\n         Predict: 0.24233080946061977\\n      Else (feature 85 > 75.5)\\n       If (feature 86 <= 4.5)\\n        If (feature 86 <= 2.5)\\n         Predict: 0.33193696389387595\\n        Else (feature 86 > 2.5)\\n         Predict: 0.4579938314229158\\n       Else (feature 86 > 4.5)\\n        If (feature 16 in {0.0})\\n         Predict: 0.3708584951852456\\n        Else (feature 16 not in {0.0})\\n         Predict: 0.5655296229802502\\n  Tree 10 (weight 1.0):\\n    If (feature 85 <= 48.5)\\n     If (feature 83 <= 22.5)\\n      If (feature 82 in {0.0,3.0})\\n       If (feature 19 in {1.0})\\n        If (feature 85 <= 10.5)\\n         Predict: 0.0722058507937671\\n        Else (feature 85 > 10.5)\\n         Predict: 0.11297768658630418\\n       Else (feature 19 not in {1.0})\\n        If (feature 83 <= 13.5)\\n         Predict: 0.09377127763441007\\n        Else (feature 83 > 13.5)\\n         Predict: 0.10594149921741912\\n      Else (feature 82 not in {0.0,3.0})\\n       If (feature 82 in {1.0})\\n        If (feature 83 <= 11.5)\\n         Predict: 0.09887485129779892\\n        Else (feature 83 > 11.5)\\n         Predict: 0.11046720641191621\\n       Else (feature 82 not in {1.0})\\n        If (feature 83 <= 9.5)\\n         Predict: 0.10244251052048284\\n        Else (feature 83 > 9.5)\\n         Predict: 0.1123983541889616\\n     Else (feature 83 > 22.5)\\n      If (feature 82 in {0.0})\\n       If (feature 83 <= 36.5)\\n        If (feature 85 <= 16.5)\\n         Predict: 0.11765869810282951\\n        Else (feature 85 > 16.5)\\n         Predict: 0.17527761154332105\\n       Else (feature 83 > 36.5)\\n        If (feature 84 <= 7.5)\\n         Predict: 0.15931542812807306\\n        Else (feature 84 > 7.5)\\n         Predict: 0.23838888455233787\\n      Else (feature 82 not in {0.0})\\n       If (feature 87 <= 0.23857205050065303)\\n        If (feature 83 <= 36.5)\\n         Predict: 0.14371509268505891\\n        Else (feature 83 > 36.5)\\n         Predict: 0.20356115196379812\\n       Else (feature 87 > 0.23857205050065303)\\n        If (feature 87 <= 0.7246408358728778)\\n         Predict: 0.1394260997356241\\n        Else (feature 87 > 0.7246408358728778)\\n         Predict: 0.12063407866819001\\n    Else (feature 85 > 48.5)\\n     If (feature 0 in {0.0})\\n      If (feature 85 <= 75.5)\\n       If (feature 83 <= 31.5)\\n        If (feature 83 <= 10.5)\\n         Predict: 0.19701227039406577\\n        Else (feature 83 > 10.5)\\n         Predict: 0.21046789282259754\\n       Else (feature 83 > 31.5)\\n        If (feature 33 in {0.0})\\n         Predict: 0.2632320523600663\\n        Else (feature 33 not in {0.0})\\n         Predict: 0.40035906642728847\\n      Else (feature 85 > 75.5)\\n       If (feature 82 in {0.0,1.0,2.0})\\n        If (feature 83 <= 20.5)\\n         Predict: 0.3104799767301053\\n        Else (feature 83 > 20.5)\\n         Predict: 0.3777494642960564\\n       Else (feature 82 not in {0.0,1.0,2.0})\\n        If (feature 83 <= 11.5)\\n         Predict: 0.49032968826505635\\n        Else (feature 83 > 11.5)\\n         Predict: 0.6766157989228008\\n     Else (feature 0 not in {0.0})\\n      If (feature 16 in {0.0})\\n       If (feature 83 <= 35.5)\\n        If (feature 86 <= 1.5)\\n         Predict: 0.3335328146818273\\n        Else (feature 86 > 1.5)\\n         Predict: 0.27940799299971336\\n       Else (feature 83 > 35.5)\\n        If (feature 87 <= 0.3567696996081846)\\n         Predict: 0.4236983842010772\\n        Else (feature 87 > 0.3567696996081846)\\n         Predict: 0.7369838420107719\\n      Else (feature 16 not in {0.0})\\n       If (feature 84 <= 5.5)\\n        If (feature 84 <= 4.5)\\n         Predict: 0.4495511669658887\\n        Else (feature 84 > 4.5)\\n         Predict: 0.3711208002051808\\n       Else (feature 84 > 5.5)\\n        If (feature 84 <= 8.5)\\n         Predict: 0.21903052064631956\\n        Else (feature 84 > 8.5)\\n         Predict: 0.23877917414721717\\n  Tree 11 (weight 1.0):\\n    If (feature 86 <= 3.5)\\n     If (feature 85 <= 36.5)\\n      If (feature 83 <= 22.5)\\n       If (feature 7 in {0.0})\\n        If (feature 87 <= 0.23857205050065303)\\n         Predict: 0.0995236158902289\\n        Else (feature 87 > 0.23857205050065303)\\n         Predict: 0.08966053016256097\\n       Else (feature 7 not in {0.0})\\n        If (feature 87 <= 0.08206356116673923)\\n         Predict: 0.10596878884132027\\n        Else (feature 87 > 0.08206356116673923)\\n         Predict: 0.09881736057678608\\n      Else (feature 83 > 22.5)\\n       If (feature 87 <= 0.14192424902046147)\\n        If (feature 86 <= 1.5)\\n         Predict: 0.15198692355100624\\n        Else (feature 86 > 1.5)\\n         Predict: 0.13350742614656438\\n       Else (feature 87 > 0.14192424902046147)\\n        If (feature 87 <= 0.8563343491510667)\\n         Predict: 0.12839050900092194\\n        Else (feature 87 > 0.8563343491510667)\\n         Predict: 0.09880517550919338\\n     Else (feature 85 > 36.5)\\n      If (feature 0 in {0.0})\\n       If (feature 85 <= 75.5)\\n        If (feature 85 <= 48.5)\\n         Predict: 0.1703309934069551\\n        Else (feature 85 > 48.5)\\n         Predict: 0.2036107988389068\\n       Else (feature 85 > 75.5)\\n        If (feature 40 in {0.0})\\n         Predict: 0.3010265819881524\\n        Else (feature 40 not in {0.0})\\n         Predict: 0.49730700179533\\n      Else (feature 0 not in {0.0})\\n       If (feature 82 in {0.0,1.0})\\n        If (feature 85 <= 75.5)\\n         Predict: 0.19135675814311362\\n        Else (feature 85 > 75.5)\\n         Predict: 0.35026577956137556\\n       Else (feature 82 not in {0.0,1.0})\\n        If (feature 29 in {0.0})\\n         Predict: 0.31319858689986674\\n        Else (feature 29 not in {0.0})\\n         Predict: 0.5122681029323756\\n    Else (feature 86 > 3.5)\\n     If (feature 85 <= 48.5)\\n      If (feature 85 <= 13.5)\\n       If (feature 85 <= 2.5)\\n        If (feature 87 <= 0.1826295167609926)\\n         Predict: 0.09512408997579953\\n        Else (feature 87 > 0.1826295167609926)\\n         Predict: 0.0852413817284116\\n       Else (feature 85 > 2.5)\\n        If (feature 83 <= 16.5)\\n         Predict: 0.1044742628702945\\n        Else (feature 83 > 16.5)\\n         Predict: 0.12612160762968685\\n      Else (feature 85 > 13.5)\\n       If (feature 85 <= 27.5)\\n        If (feature 87 <= 0.2592511972137571)\\n         Predict: 0.13379210403316344\\n        Else (feature 87 > 0.2592511972137571)\\n         Predict: 0.12142762151738813\\n       Else (feature 85 > 27.5)\\n        If (feature 85 <= 36.5)\\n         Predict: 0.15131198157942938\\n        Else (feature 85 > 36.5)\\n         Predict: 0.17221020947089966\\n     Else (feature 85 > 48.5)\\n      If (feature 0 in {0.0})\\n       If (feature 83 <= 34.5)\\n        If (feature 84 <= 10.5)\\n         Predict: 0.26451545980450825\\n        Else (feature 84 > 10.5)\\n         Predict: 0.33838490512901814\\n       Else (feature 83 > 34.5)\\n        If (feature 2 in {0.0})\\n         Predict: 0.3256823398404654\\n        Else (feature 2 not in {0.0})\\n         Predict: 0.5041827418923563\\n      Else (feature 0 not in {0.0})\\n       If (feature 85 <= 75.5)\\n        If (feature 64 in {0.0})\\n         Predict: 0.20575683550637192\\n        Else (feature 64 not in {0.0})\\n         Predict: 0.29263913824057486\\n       Else (feature 85 > 75.5)\\n        If (feature 86 <= 4.5)\\n         Predict: 0.44948588216092705\\n        Else (feature 86 > 4.5)\\n         Predict: 0.3577624492109987\\n  Tree 12 (weight 1.0):\\n    If (feature 82 in {0.0,1.0})\\n     If (feature 85 <= 36.5)\\n      If (feature 84 <= 11.5)\\n       If (feature 82 in {0.0})\\n        If (feature 85 <= 7.5)\\n         Predict: 0.09192780765058611\\n        Else (feature 85 > 7.5)\\n         Predict: 0.12346011284814971\\n       Else (feature 82 not in {0.0})\\n        If (feature 85 <= 9.5)\\n         Predict: 0.09228956255585702\\n        Else (feature 85 > 9.5)\\n         Predict: 0.12959972260858452\\n      Else (feature 84 > 11.5)\\n       If (feature 86 <= 3.5)\\n        If (feature 85 <= 6.5)\\n         Predict: 0.1041062468351517\\n        Else (feature 85 > 6.5)\\n         Predict: 0.15185517654099354\\n       Else (feature 86 > 3.5)\\n        If (feature 85 <= 11.5)\\n         Predict: 0.11454593058049073\\n        Else (feature 85 > 11.5)\\n         Predict: 0.154515143743151\\n     Else (feature 85 > 36.5)\\n      If (feature 84 <= 10.5)\\n       If (feature 83 <= 21.5)\\n        If (feature 83 <= 10.5)\\n         Predict: 0.2107026884738854\\n        Else (feature 83 > 10.5)\\n         Predict: 0.22888312966931132\\n       Else (feature 83 > 21.5)\\n        If (feature 23 in {0.0})\\n         Predict: 0.25953556176284986\\n        Else (feature 23 not in {0.0})\\n         Predict: 0.3456742200009705\\n      Else (feature 84 > 10.5)\\n       If (feature 23 in {0.0})\\n        If (feature 16 in {0.0})\\n         Predict: 0.2816344171819935\\n        Else (feature 16 not in {0.0})\\n         Predict: 0.48473967684021524\\n       Else (feature 23 not in {0.0})\\n        If (feature 85 <= 75.5)\\n         Predict: 0.22836624775583486\\n        Else (feature 85 > 75.5)\\n         Predict: 0.46140035906642723\\n    Else (feature 82 not in {0.0,1.0})\\n     If (feature 86 <= 3.5)\\n      If (feature 83 <= 35.5)\\n       If (feature 85 <= 48.5)\\n        If (feature 85 <= 11.5)\\n         Predict: 0.09116992683135347\\n        Else (feature 85 > 11.5)\\n         Predict: 0.13822033115590804\\n       Else (feature 85 > 48.5)\\n        If (feature 85 <= 75.5)\\n         Predict: 0.2023778990950061\\n        Else (feature 85 > 75.5)\\n         Predict: 0.30934213901000257\\n      Else (feature 83 > 35.5)\\n       If (feature 82 in {2.0})\\n        If (feature 84 <= 10.5)\\n         Predict: 0.23868591014012916\\n        Else (feature 84 > 10.5)\\n         Predict: 0.7594254937163379\\n       Else (feature 82 not in {2.0})\\n        If (feature 87 <= 0.23857205050065303)\\n         Predict: 0.5217235188509874\\n        Else (feature 87 > 0.23857205050065303)\\n         Predict: 0.7019748653500898\\n     Else (feature 86 > 3.5)\\n      If (feature 84 <= 15.5)\\n       If (feature 85 <= 75.5)\\n        If (feature 83 <= 13.5)\\n         Predict: 0.11802451270488876\\n        Else (feature 83 > 13.5)\\n         Predict: 0.1382742774922386\\n       Else (feature 85 > 75.5)\\n        If (feature 2 in {0.0})\\n         Predict: 0.3370659465981438\\n        Else (feature 2 not in {0.0})\\n         Predict: 0.43695936020891163\\n      Else (feature 84 > 15.5)\\n       If (feature 83 <= 25.5)\\n        If (feature 83 <= 9.5)\\n         Predict: 0.18732107331748266\\n        Else (feature 83 > 9.5)\\n         Predict: 0.23193355811475536\\n       Else (feature 83 > 25.5)\\n        If (feature 85 <= 36.5)\\n         Predict: 0.29084380610412924\\n        Else (feature 85 > 36.5)\\n         Predict: 0.5565529622980251\\n  Tree 13 (weight 1.0):\\n    If (feature 85 <= 48.5)\\n     If (feature 85 <= 13.5)\\n      If (feature 87 <= 0.2261645624727906)\\n       If (feature 85 <= 1.5)\\n        If (feature 19 in {1.0})\\n         Predict: 0.07752903674934963\\n        Else (feature 19 not in {1.0})\\n         Predict: 0.09353781862073446\\n       Else (feature 85 > 1.5)\\n        If (feature 84 <= 13.5)\\n         Predict: 0.10868989465261504\\n        Else (feature 84 > 13.5)\\n         Predict: 0.1412607594087153\\n      Else (feature 87 > 0.2261645624727906)\\n       If (feature 85 <= 1.5)\\n        If (feature 19 in {1.0})\\n         Predict: 0.0745454749045413\\n        Else (feature 19 not in {1.0})\\n         Predict: 0.08379976153857997\\n       Else (feature 85 > 1.5)\\n        If (feature 83 <= 18.5)\\n         Predict: 0.09704333081937258\\n        Else (feature 83 > 18.5)\\n         Predict: 0.11987338484328666\\n     Else (feature 85 > 13.5)\\n      If (feature 85 <= 27.5)\\n       If (feature 83 <= 22.5)\\n        If (feature 87 <= 0.20570309098824555)\\n         Predict: 0.13304221158558993\\n        Else (feature 87 > 0.20570309098824555)\\n         Predict: 0.12137566939756844\\n       Else (feature 83 > 22.5)\\n        If (feature 64 in {0.0})\\n         Predict: 0.16471163738325298\\n        Else (feature 64 not in {0.0})\\n         Predict: 0.39138240574506256\\n      Else (feature 85 > 27.5)\\n       If (feature 83 <= 19.5)\\n        If (feature 10 in {1.0})\\n         Predict: 0.14885200916641128\\n        Else (feature 10 not in {1.0})\\n         Predict: 0.15851508991291866\\n       Else (feature 83 > 19.5)\\n        If (feature 87 <= 0.3090988245537658)\\n         Predict: 0.19540483087530705\\n        Else (feature 87 > 0.3090988245537658)\\n         Predict: 0.1777378815080791\\n    Else (feature 85 > 48.5)\\n     If (feature 82 in {0.0,1.0,2.0})\\n      If (feature 84 <= 16.5)\\n       If (feature 85 <= 75.5)\\n        If (feature 83 <= 31.5)\\n         Predict: 0.20165730222262748\\n        Else (feature 83 > 31.5)\\n         Predict: 0.26747884072839107\\n       Else (feature 85 > 75.5)\\n        If (feature 86 <= 6.5)\\n         Predict: 0.3154676131531702\\n        Else (feature 86 > 6.5)\\n         Predict: 0.3402386671366776\\n      Else (feature 84 > 16.5)\\n       If (feature 84 <= 28.5)\\n        If (feature 43 in {0.0})\\n         Predict: 0.3502778490211165\\n        Else (feature 43 not in {0.0})\\n         Predict: 0.508078994614003\\n       Else (feature 84 > 28.5)\\n        If (feature 85 <= 75.5)\\n         Predict: 0.2501496110113704\\n        Else (feature 85 > 75.5)\\n         Predict: 0.5277460421086992\\n     Else (feature 82 not in {0.0,1.0,2.0})\\n      If (feature 47 in {0.0})\\n       If (feature 3 in {1.0})\\n        If (feature 87 <= 0.13256421419242492)\\n         Predict: 0.4299820466786356\\n        Else (feature 87 > 0.13256421419242492)\\n         Predict: 0.40523211079764054\\n       Else (feature 3 not in {1.0})\\n        If (feature 86 <= 4.5)\\n         Predict: 0.5503334188253398\\n        Else (feature 86 > 4.5)\\n         Predict: 0.505458780144597\\n      Else (feature 47 not in {0.0})\\n       If (feature 84 <= 3.5)\\n        Predict: 0.518850987432675\\n       Else (feature 84 > 3.5)\\n        Predict: 0.8096947935368044\\n  Tree 14 (weight 1.0):\\n    If (feature 83 <= 25.5)\\n     If (feature 82 in {0.0,1.0})\\n      If (feature 85 <= 36.5)\\n       If (feature 83 <= 13.5)\\n        If (feature 87 <= 0.2261645624727906)\\n         Predict: 0.09949513716322912\\n        Else (feature 87 > 0.2261645624727906)\\n         Predict: 0.08979055730678237\\n       Else (feature 83 > 13.5)\\n        If (feature 87 <= 0.2261645624727906)\\n         Predict: 0.11348950644745086\\n        Else (feature 87 > 0.2261645624727906)\\n         Predict: 0.1021255048733071\\n      Else (feature 85 > 36.5)\\n       If (feature 0 in {0.0})\\n        If (feature 84 <= 16.5)\\n         Predict: 0.21890009853421769\\n        Else (feature 84 > 16.5)\\n         Predict: 0.31876695060927257\\n       Else (feature 0 not in {0.0})\\n        If (feature 85 <= 75.5)\\n         Predict: 0.18801117095551564\\n        Else (feature 85 > 75.5)\\n         Predict: 0.37881508078994613\\n     Else (feature 82 not in {0.0,1.0})\\n      If (feature 41 in {0.0})\\n       If (feature 1 in {0.0})\\n        If (feature 84 <= 12.5)\\n         Predict: 0.12657948722947746\\n        Else (feature 84 > 12.5)\\n         Predict: 0.19222419668046792\\n       Else (feature 1 not in {0.0})\\n        If (feature 85 <= 75.5)\\n         Predict: 0.12039452141413458\\n        Else (feature 85 > 75.5)\\n         Predict: 0.35653258973477475\\n      Else (feature 41 not in {0.0})\\n       Predict: 0.19814575852782923\\n    Else (feature 83 > 25.5)\\n     If (feature 86 <= 3.5)\\n      If (feature 85 <= 48.5)\\n       If (feature 87 <= 0.2592511972137571)\\n        If (feature 83 <= 36.5)\\n         Predict: 0.13747728958599856\\n        Else (feature 83 > 36.5)\\n         Predict: 0.1793631295473873\\n       Else (feature 87 > 0.2592511972137571)\\n        If (feature 19 in {1.0})\\n         Predict: 0.10771992818671454\\n        Else (feature 19 not in {1.0})\\n         Predict: 0.1378571962896469\\n      Else (feature 85 > 48.5)\\n       If (feature 87 <= 0.20570309098824555)\\n        If (feature 82 in {0.0,1.0,2.0})\\n         Predict: 0.26896580518558727\\n        Else (feature 82 not in {0.0,1.0,2.0})\\n         Predict: 0.508078994614003\\n       Else (feature 87 > 0.20570309098824555)\\n        If (feature 84 <= 7.5)\\n         Predict: 0.28614832205496477\\n        Else (feature 84 > 7.5)\\n         Predict: 0.4886295631358468\\n     Else (feature 86 > 3.5)\\n      If (feature 85 <= 75.5)\\n       If (feature 6 in {0.0})\\n        If (feature 85 <= 17.5)\\n         Predict: 0.1335328673849576\\n        Else (feature 85 > 17.5)\\n         Predict: 0.20787894331879966\\n       Else (feature 6 not in {0.0})\\n        Predict: 0.22309364074459082\\n      Else (feature 85 > 75.5)\\n       If (feature 63 in {0.0})\\n        If (feature 83 <= 34.5)\\n         Predict: 0.3656014362657091\\n        Else (feature 83 > 34.5)\\n         Predict: 0.4786092744230853\\n       Else (feature 63 not in {0.0})\\n        Predict: 0.5780969479353679\\n  Tree 15 (weight 1.0):\\n    If (feature 83 <= 25.5)\\n     If (feature 87 <= 0.1826295167609926)\\n      If (feature 1 in {0.0})\\n       If (feature 4 in {1.0})\\n        If (feature 82 in {0.0,1.0,2.0})\\n         Predict: 0.1051416612665059\\n        Else (feature 82 not in {0.0,1.0,2.0})\\n         Predict: 0.5439856373429137\\n       Else (feature 4 not in {1.0})\\n        If (feature 83 <= 11.5)\\n         Predict: 0.11071729966684982\\n        Else (feature 83 > 11.5)\\n         Predict: 0.1291389884554754\\n      Else (feature 1 not in {0.0})\\n       If (feature 85 <= 75.5)\\n        If (feature 84 <= 22.5)\\n         Predict: 0.11460537255887483\\n        Else (feature 84 > 22.5)\\n         Predict: 0.1767119774301063\\n       Else (feature 85 > 75.5)\\n        If (feature 86 <= 6.5)\\n         Predict: 0.2993531885590615\\n        Else (feature 86 > 6.5)\\n         Predict: 0.39894456231978664\\n     Else (feature 87 > 0.1826295167609926)\\n      If (feature 82 in {0.0,1.0})\\n       If (feature 84 <= 13.5)\\n        If (feature 82 in {0.0})\\n         Predict: 0.09353771318433024\\n        Else (feature 82 not in {0.0})\\n         Predict: 0.10374754259222466\\n       Else (feature 84 > 13.5)\\n        If (feature 84 <= 32.5)\\n         Predict: 0.12118147987645915\\n        Else (feature 84 > 32.5)\\n         Predict: 0.17893476959904248\\n      Else (feature 82 not in {0.0,1.0})\\n       If (feature 86 <= 3.5)\\n        If (feature 83 <= 10.5)\\n         Predict: 0.10007797099478992\\n        Else (feature 83 > 10.5)\\n         Predict: 0.11660568597595615\\n       Else (feature 86 > 3.5)\\n        If (feature 85 <= 75.5)\\n         Predict: 0.11577189028152969\\n        Else (feature 85 > 75.5)\\n         Predict: 0.3255146561578521\\n    Else (feature 83 > 25.5)\\n     If (feature 82 in {0.0,1.0,2.0})\\n      If (feature 85 <= 75.5)\\n       If (feature 85 <= 21.5)\\n        If (feature 19 in {1.0})\\n         Predict: 0.11610651467024898\\n        Else (feature 19 not in {1.0})\\n         Predict: 0.13906405329614083\\n       Else (feature 85 > 21.5)\\n        If (feature 85 <= 48.5)\\n         Predict: 0.19796966425499682\\n        Else (feature 85 > 48.5)\\n         Predict: 0.24705698070921642\\n      Else (feature 85 > 75.5)\\n       If (feature 83 <= 36.5)\\n        If (feature 84 <= 5.5)\\n         Predict: 0.3345680976297071\\n        Else (feature 84 > 5.5)\\n         Predict: 0.41427289048473953\\n       Else (feature 83 > 36.5)\\n        If (feature 4 in {1.0})\\n         Predict: 0.3249551166965889\\n        Else (feature 4 not in {1.0})\\n         Predict: 0.44760695362788455\\n     Else (feature 82 not in {0.0,1.0,2.0})\\n      If (feature 87 <= 0.5994775794514584)\\n       If (feature 84 <= 5.5)\\n        Predict: 0.5651705565529623\\n       Else (feature 84 > 5.5)\\n        Predict: 0.7522441651705567\\n      Else (feature 87 > 0.5994775794514584)\\n       Predict: 0.7899461400359066\\n  Tree 16 (weight 1.0):\\n    If (feature 82 in {0.0,1.0})\\n     If (feature 83 <= 24.5)\\n      If (feature 85 <= 36.5)\\n       If (feature 83 <= 13.5)\\n        If (feature 85 <= 8.5)\\n         Predict: 0.08985558279379371\\n        Else (feature 85 > 8.5)\\n         Predict: 0.1235555266356895\\n       Else (feature 83 > 13.5)\\n        If (feature 83 <= 17.5)\\n         Predict: 0.10490090972018033\\n        Else (feature 83 > 17.5)\\n         Predict: 0.11375434198613847\\n      Else (feature 85 > 36.5)\\n       If (feature 85 <= 75.5)\\n        If (feature 87 <= 0.2592511972137571)\\n         Predict: 0.19016954828270186\\n        Else (feature 87 > 0.2592511972137571)\\n         Predict: 0.17695638398986174\\n       Else (feature 85 > 75.5)\\n        If (feature 0 in {0.0})\\n         Predict: 0.30467208786566685\\n        Else (feature 0 not in {0.0})\\n         Predict: 0.37708624243633243\\n     Else (feature 83 > 24.5)\\n      If (feature 84 <= 10.5)\\n       If (feature 85 <= 48.5)\\n        If (feature 85 <= 14.5)\\n         Predict: 0.13123274444427682\\n        Else (feature 85 > 14.5)\\n         Predict: 0.18112592299391655\\n       Else (feature 85 > 48.5)\\n        If (feature 85 <= 75.5)\\n         Predict: 0.24208882991179456\\n        Else (feature 85 > 75.5)\\n         Predict: 0.3718820428587799\\n      Else (feature 84 > 10.5)\\n       If (feature 85 <= 48.5)\\n        If (feature 85 <= 27.5)\\n         Predict: 0.16924457947797264\\n        Else (feature 85 > 27.5)\\n         Predict: 0.21256732495511663\\n       Else (feature 85 > 48.5)\\n        If (feature 23 in {0.0})\\n         Predict: 0.35283556869785615\\n        Else (feature 23 not in {0.0})\\n         Predict: 0.45332136445242366\\n    Else (feature 82 not in {0.0,1.0})\\n     If (feature 85 <= 75.5)\\n      If (feature 86 <= 3.5)\\n       If (feature 85 <= 16.5)\\n        If (feature 87 <= 0.20570309098824555)\\n         Predict: 0.09737911053272293\\n        Else (feature 87 > 0.20570309098824555)\\n         Predict: 0.0871173791118298\\n       Else (feature 85 > 16.5)\\n        If (feature 85 <= 36.5)\\n         Predict: 0.13942669921513418\\n        Else (feature 85 > 36.5)\\n         Predict: 0.1876261255619111\\n      Else (feature 86 > 3.5)\\n       If (feature 83 <= 17.5)\\n        If (feature 84 <= 12.5)\\n         Predict: 0.11884057149917324\\n        Else (feature 84 > 12.5)\\n         Predict: 0.1580106861602066\\n       Else (feature 83 > 17.5)\\n        If (feature 84 <= 13.5)\\n         Predict: 0.15007846166683264\\n        Else (feature 84 > 13.5)\\n         Predict: 0.19569120287253192\\n     Else (feature 85 > 75.5)\\n      If (feature 2 in {0.0})\\n       If (feature 52 in {0.0})\\n        If (feature 86 <= 6.5)\\n         Predict: 0.3202322783033919\\n        Else (feature 86 > 6.5)\\n         Predict: 0.3587376435724946\\n       Else (feature 52 not in {0.0})\\n        If (feature 83 <= 6.5)\\n         Predict: 0.644524236983842\\n        Else (feature 83 > 6.5)\\n         Predict: 0.4275882704967085\\n      Else (feature 2 not in {0.0})\\n       If (feature 82 in {2.0})\\n        If (feature 86 <= 3.5)\\n         Predict: 0.3191548128711504\\n        Else (feature 86 > 3.5)\\n         Predict: 0.3524596050269299\\n       Else (feature 82 not in {2.0})\\n        If (feature 83 <= 14.5)\\n         Predict: 0.5415170556552962\\n        Else (feature 83 > 14.5)\\n         Predict: 0.7230700179533214\\n  Tree 17 (weight 1.0):\\n    If (feature 87 <= 0.2592511972137571)\\n     If (feature 86 <= 3.5)\\n      If (feature 86 <= 1.5)\\n       If (feature 83 <= 18.5)\\n        If (feature 85 <= 36.5)\\n         Predict: 0.10019487841318273\\n        Else (feature 85 > 36.5)\\n         Predict: 0.2272503256239659\\n       Else (feature 83 > 18.5)\\n        If (feature 87 <= 0.11993905093600349)\\n         Predict: 0.14845248507726064\\n        Else (feature 87 > 0.11993905093600349)\\n         Predict: 0.17658859692073342\\n      Else (feature 86 > 1.5)\\n       If (feature 87 <= 0.16804527644754028)\\n        If (feature 85 <= 36.5)\\n         Predict: 0.10093182897904496\\n        Else (feature 85 > 36.5)\\n         Predict: 0.22828338627261394\\n       Else (feature 87 > 0.16804527644754028)\\n        If (feature 82 in {0.0,1.0,2.0})\\n         Predict: 0.10004266530563014\\n        Else (feature 82 not in {0.0,1.0,2.0})\\n         Predict: 0.22621184919210008\\n     Else (feature 86 > 3.5)\\n      If (feature 83 <= 19.5)\\n       If (feature 82 in {0.0,1.0})\\n        If (feature 85 <= 36.5)\\n         Predict: 0.10184530747497325\\n        Else (feature 85 > 36.5)\\n         Predict: 0.2241179469327462\\n       Else (feature 82 not in {0.0,1.0})\\n        If (feature 83 <= 11.5)\\n         Predict: 0.14133253540793936\\n        Else (feature 83 > 11.5)\\n         Predict: 0.17207451962969958\\n      Else (feature 83 > 19.5)\\n       If (feature 83 <= 33.5)\\n        If (feature 28 in {1.0})\\n         Predict: 0.13165769000598446\\n        Else (feature 28 not in {1.0})\\n         Predict: 0.16119044145396594\\n       Else (feature 83 > 33.5)\\n        If (feature 85 <= 75.5)\\n         Predict: 0.19068023139836424\\n        Else (feature 85 > 75.5)\\n         Predict: 0.46841847559980415\\n    Else (feature 87 > 0.2592511972137571)\\n     If (feature 82 in {0.0,1.0})\\n      If (feature 82 in {0.0})\\n       If (feature 0 in {0.0})\\n        If (feature 85 <= 21.5)\\n         Predict: 0.08866816513093342\\n        Else (feature 85 > 21.5)\\n         Predict: 0.16242164835096579\\n       Else (feature 0 not in {0.0})\\n        If (feature 85 <= 14.5)\\n         Predict: 0.09692872253899668\\n        Else (feature 85 > 14.5)\\n         Predict: 0.16459605026929988\\n      Else (feature 82 not in {0.0})\\n       If (feature 86 <= 3.5)\\n        If (feature 27 in {0.0})\\n         Predict: 0.0984333468122942\\n        Else (feature 27 not in {0.0})\\n         Predict: 0.36804308797127305\\n       Else (feature 86 > 3.5)\\n        If (feature 83 <= 22.5)\\n         Predict: 0.10829014885983547\\n        Else (feature 83 > 22.5)\\n         Predict: 0.18105508459462344\\n     Else (feature 82 not in {0.0,1.0})\\n      If (feature 86 <= 3.5)\\n       If (feature 34 in {0.0})\\n        If (feature 85 <= 48.5)\\n         Predict: 0.09429145527211086\\n        Else (feature 85 > 48.5)\\n         Predict: 0.2561287555011836\\n       Else (feature 34 not in {0.0})\\n        If (feature 84 <= 6.5)\\n         Predict: 0.19671710695050013\\n        Else (feature 84 > 6.5)\\n         Predict: 0.10570017953321359\\n      Else (feature 86 > 3.5)\\n       If (feature 83 <= 36.5)\\n        If (feature 85 <= 75.5)\\n         Predict: 0.1136707555949246\\n        Else (feature 85 > 75.5)\\n         Predict: 0.3248390006877643\\n       Else (feature 83 > 36.5)\\n        If (feature 86 <= 4.5)\\n         Predict: 0.46743920352537954\\n        Else (feature 86 > 4.5)\\n         Predict: 0.12896469180131684\\n  Tree 18 (weight 1.0):\\n    If (feature 83 <= 20.5)\\n     If (feature 83 <= 11.5)\\n      If (feature 85 <= 48.5)\\n       If (feature 85 <= 12.5)\\n        If (feature 19 in {1.0})\\n         Predict: 0.06957040634179215\\n        Else (feature 19 not in {1.0})\\n         Predict: 0.09034957937396801\\n       Else (feature 85 > 12.5)\\n        If (feature 19 in {1.0})\\n         Predict: 0.11290074378045653\\n        Else (feature 19 not in {1.0})\\n         Predict: 0.1358653663100757\\n      Else (feature 85 > 48.5)\\n       If (feature 85 <= 75.5)\\n        If (feature 82 in {1.0})\\n         Predict: 0.1958400840740903\\n        Else (feature 82 not in {1.0})\\n         Predict: 0.20008332318273375\\n       Else (feature 85 > 75.5)\\n        If (feature 86 <= 6.5)\\n         Predict: 0.3067645550141062\\n        Else (feature 86 > 6.5)\\n         Predict: 0.3325643253829968\\n     Else (feature 83 > 11.5)\\n      If (feature 82 in {0.0,1.0})\\n       If (feature 82 in {0.0})\\n        If (feature 87 <= 0.1826295167609926)\\n         Predict: 0.10982144099759232\\n        Else (feature 87 > 0.1826295167609926)\\n         Predict: 0.10021006079805143\\n       Else (feature 82 not in {0.0})\\n        If (feature 85 <= 48.5)\\n         Predict: 0.10943374344818624\\n        Else (feature 85 > 48.5)\\n         Predict: 0.27053332663745594\\n      Else (feature 82 not in {0.0,1.0})\\n       If (feature 85 <= 75.5)\\n        If (feature 85 <= 27.5)\\n         Predict: 0.10611327946285175\\n        Else (feature 85 > 27.5)\\n         Predict: 0.18410078174014793\\n       Else (feature 85 > 75.5)\\n        If (feature 82 in {2.0})\\n         Predict: 0.3382885731032477\\n        Else (feature 82 not in {2.0})\\n         Predict: 0.5734290843806107\\n    Else (feature 83 > 20.5)\\n     If (feature 63 in {0.0})\\n      If (feature 2 in {0.0})\\n       If (feature 85 <= 75.5)\\n        If (feature 83 <= 34.5)\\n         Predict: 0.1315407617295526\\n        Else (feature 83 > 34.5)\\n         Predict: 0.18038418032191447\\n       Else (feature 85 > 75.5)\\n        If (feature 18 in {0.0})\\n         Predict: 0.37873439170516215\\n        Else (feature 18 not in {0.0})\\n         Predict: 0.5047875523638533\\n      Else (feature 2 not in {0.0})\\n       If (feature 85 <= 75.5)\\n        If (feature 82 in {0.0})\\n         Predict: 0.1294780360054684\\n        Else (feature 82 not in {0.0})\\n         Predict: 0.16592050542008502\\n       Else (feature 85 > 75.5)\\n        If (feature 82 in {1.0,2.0})\\n         Predict: 0.3848850132512609\\n        Else (feature 82 not in {1.0,2.0})\\n         Predict: 0.6899599502831101\\n     Else (feature 63 not in {0.0})\\n      If (feature 84 <= 4.5)\\n       If (feature 84 <= 3.5)\\n        Predict: 0.21005385996409337\\n       Else (feature 84 > 3.5)\\n        Predict: 0.177737881508079\\n      Else (feature 84 > 4.5)\\n       Predict: 0.5780969479353681\\n  Tree 19 (weight 1.0):\\n    If (feature 85 <= 48.5)\\n     If (feature 85 <= 13.5)\\n      If (feature 85 <= 1.5)\\n       If (feature 10 in {1.0})\\n        If (feature 85 <= -1.5)\\n         Predict: 0.08212367756306252\\n        Else (feature 85 > -1.5)\\n         Predict: 0.08892975039091908\\n       Else (feature 10 not in {1.0})\\n        If (feature 24 in {1.0})\\n         Predict: 0.07970544190737891\\n        Else (feature 24 not in {1.0})\\n         Predict: 0.08964167945355814\\n      Else (feature 85 > 1.5)\\n       If (feature 83 <= 22.5)\\n        If (feature 87 <= 0.20570309098824555)\\n         Predict: 0.10775399849744156\\n        Else (feature 87 > 0.20570309098824555)\\n         Predict: 0.09844494675290029\\n       Else (feature 83 > 22.5)\\n        If (feature 12 in {0.0})\\n         Predict: 0.13690292563279136\\n        Else (feature 12 not in {0.0})\\n         Predict: 0.18132854578096946\\n     Else (feature 85 > 13.5)\\n      If (feature 83 <= 19.5)\\n       If (feature 85 <= 27.5)\\n        If (feature 84 <= 14.5)\\n         Predict: 0.1267940471204175\\n        Else (feature 84 > 14.5)\\n         Predict: 0.16301971310236912\\n       Else (feature 85 > 27.5)\\n        If (feature 87 <= 0.2261645624727906)\\n         Predict: 0.16297881724547075\\n        Else (feature 87 > 0.2261645624727906)\\n         Predict: 0.15009611374063805\\n      Else (feature 83 > 19.5)\\n       If (feature 83 <= 35.5)\\n        If (feature 85 <= 27.5)\\n         Predict: 0.15105009630207714\\n        Else (feature 85 > 27.5)\\n         Predict: 0.18150911079469242\\n       Else (feature 83 > 35.5)\\n        If (feature 1 in {1.0})\\n         Predict: 0.18031379283428303\\n        Else (feature 1 not in {1.0})\\n         Predict: 0.2132992680568982\\n    Else (feature 85 > 48.5)\\n     If (feature 82 in {0.0,1.0,2.0})\\n      If (feature 85 <= 75.5)\\n       If (feature 35 in {1.0})\\n        If (feature 0 in {1.0})\\n         Predict: 0.16472172351885098\\n        Else (feature 0 not in {1.0})\\n         Predict: 0.2151406343506882\\n       Else (feature 35 not in {1.0})\\n        If (feature 39 in {1.0})\\n         Predict: 0.17953321364452426\\n        Else (feature 39 not in {1.0})\\n         Predict: 0.2051783234313218\\n      Else (feature 85 > 75.5)\\n       If (feature 84 <= 15.5)\\n        If (feature 86 <= 5.5)\\n         Predict: 0.30967494621375447\\n        Else (feature 86 > 5.5)\\n         Predict: 0.3375513986216482\\n       Else (feature 84 > 15.5)\\n        If (feature 83 <= 17.5)\\n         Predict: 0.38683797127468583\\n        Else (feature 83 > 17.5)\\n         Predict: 0.5276895456428672\\n     Else (feature 82 not in {0.0,1.0,2.0})\\n      If (feature 83 <= 23.5)\\n       If (feature 47 in {0.0})\\n        If (feature 26 in {1.0})\\n         Predict: 0.4057450628366248\\n        Else (feature 26 not in {1.0})\\n         Predict: 0.4938684843136658\\n       Else (feature 47 not in {0.0})\\n        If (feature 83 <= 8.5)\\n         Predict: 0.518850987432675\\n        Else (feature 83 > 8.5)\\n         Predict: 0.8096947935368042\\n      Else (feature 83 > 23.5)\\n       Predict: 0.6441162069528317\\n'"
            ]
          },
          "metadata": {},
          "execution_count": 55
        }
      ],
      "source": [
        "tree.toDebugString"
      ]
    },
    {
      "cell_type": "markdown",
      "metadata": {
        "id": "1TK8kkrRw9c8"
      },
      "source": [
        "### 5. Evaluation"
      ]
    },
    {
      "cell_type": "markdown",
      "metadata": {
        "id": "b-nMrOtSw9c8"
      },
      "source": [
        "#### นำโมเดลมาทำ Prediction ด้วยข้อมูล testing set ที่ไม่มีค่า Null"
      ]
    },
    {
      "cell_type": "code",
      "execution_count": 56,
      "metadata": {
        "id": "nacvrpZRw9c8"
      },
      "outputs": [],
      "source": [
        "result_df = dtModel.transform(test_df.dropna())"
      ]
    },
    {
      "cell_type": "markdown",
      "metadata": {
        "id": "pmMqJEQFw9c8"
      },
      "source": [
        "#### แสดงผลลัพธ์เปรียบเทียบระหว่าง Arrival Delay จริง กับ Prediction of Arrival Delay"
      ]
    },
    {
      "cell_type": "code",
      "execution_count": 57,
      "metadata": {
        "id": "oM-yZDwpw9c8",
        "outputId": "d30b20e6-ec97-42f3-d797-7b6a8b385e32",
        "colab": {
          "base_uri": "https://localhost:8080/"
        }
      },
      "outputs": [
        {
          "output_type": "stream",
          "name": "stdout",
          "text": [
            "+-------------------+-------------------+\n",
            "|           ArrDelay|         Prediction|\n",
            "+-------------------+-------------------+\n",
            "|0.23518850987432674|0.27487156993479683|\n",
            "|0.13285457809694792| 0.1271070290892911|\n",
            "|0.14183123877917414|0.12816878849422794|\n",
            "|0.09874326750448834|0.09739037096688588|\n",
            "|0.07001795332136446|0.09214429620524672|\n",
            "|0.06642728904847396|0.08963797475417203|\n",
            "|0.05385996409335727|0.08876259583823322|\n",
            "|0.10951526032315978|0.09104195437623999|\n",
            "|0.09156193895870736|0.09362285270563515|\n",
            "|0.09156193895870736|0.09316475758028495|\n",
            "|0.08976660682226212|0.09749460621493046|\n",
            "|0.07719928186714542|0.09389691759812219|\n",
            "|0.19389587073608616| 0.1942488138351401|\n",
            "|0.08258527827648116|0.09389691759812219|\n",
            "|0.09156193895870736|0.09390452825349982|\n",
            "|0.09694793536804308|0.09712091266973777|\n",
            "|0.10771992818671454|0.09772409025418739|\n",
            "|0.09156193895870736|0.09316475758028495|\n",
            "|0.09874326750448834|0.09808255672683192|\n",
            "|0.10233393177737882|0.09808255672683192|\n",
            "+-------------------+-------------------+\n",
            "only showing top 20 rows\n",
            "\n"
          ]
        }
      ],
      "source": [
        "result_df.select(['ArrDelay','Prediction']).show()"
      ]
    },
    {
      "cell_type": "markdown",
      "metadata": {
        "id": "Crfrrufsw9c9"
      },
      "source": [
        "#### Plot a Graph"
      ]
    },
    {
      "cell_type": "code",
      "execution_count": 58,
      "metadata": {
        "id": "J095nkgWw9c9",
        "outputId": "671faaff-8ec5-4697-8a22-12c2a8cc4e38",
        "colab": {
          "base_uri": "https://localhost:8080/"
        }
      },
      "outputs": [
        {
          "output_type": "stream",
          "name": "stdout",
          "text": [
            "Requirement already satisfied: pandas in /usr/local/lib/python3.7/dist-packages (1.1.5)\n",
            "Requirement already satisfied: numpy>=1.15.4 in /usr/local/lib/python3.7/dist-packages (from pandas) (1.19.5)\n",
            "Requirement already satisfied: python-dateutil>=2.7.3 in /usr/local/lib/python3.7/dist-packages (from pandas) (2.8.2)\n",
            "Requirement already satisfied: pytz>=2017.2 in /usr/local/lib/python3.7/dist-packages (from pandas) (2018.9)\n",
            "Requirement already satisfied: six>=1.5 in /usr/local/lib/python3.7/dist-packages (from python-dateutil>=2.7.3->pandas) (1.15.0)\n"
          ]
        }
      ],
      "source": [
        "! pip install pandas"
      ]
    },
    {
      "cell_type": "code",
      "execution_count": 59,
      "metadata": {
        "id": "BS-l3__Iw9c9"
      },
      "outputs": [],
      "source": [
        "#sample for 7000 row from 1361937 millions\n",
        "lr_prediction_sample = result_df.select(\"prediction\",\"ArrDelay\")\n",
        "lr_prediction_sample1 = lr_prediction_sample.limit(3500)\n",
        "lr_prediction_sample2 = lr_prediction_sample1.sort(\"ArrDelay\", ascending=True)\n",
        "#convert to pandas\n",
        "lr_prediction_sample_pd = lr_prediction_sample1.toPandas()"
      ]
    },
    {
      "cell_type": "code",
      "execution_count": 60,
      "metadata": {
        "id": "pZFlz174w9c9",
        "outputId": "73d197ea-3ed8-4f76-d638-7b9297ac497e",
        "colab": {
          "base_uri": "https://localhost:8080/",
          "height": 386
        }
      },
      "outputs": [
        {
          "output_type": "stream",
          "name": "stdout",
          "text": [
            "<class 'pandas.core.frame.DataFrame'>\n",
            "RangeIndex: 3500 entries, 0 to 3499\n",
            "Data columns (total 2 columns):\n",
            " #   Column      Non-Null Count  Dtype  \n",
            "---  ------      --------------  -----  \n",
            " 0   prediction  3500 non-null   float64\n",
            " 1   ArrDelay    3500 non-null   float64\n",
            "dtypes: float64(2)\n",
            "memory usage: 54.8 KB\n",
            "None\n"
          ]
        },
        {
          "output_type": "execute_result",
          "data": {
            "text/html": [
              "\n",
              "  <div id=\"df-a33e425d-bc41-452d-a549-a9903effb515\">\n",
              "    <div class=\"colab-df-container\">\n",
              "      <div>\n",
              "<style scoped>\n",
              "    .dataframe tbody tr th:only-of-type {\n",
              "        vertical-align: middle;\n",
              "    }\n",
              "\n",
              "    .dataframe tbody tr th {\n",
              "        vertical-align: top;\n",
              "    }\n",
              "\n",
              "    .dataframe thead th {\n",
              "        text-align: right;\n",
              "    }\n",
              "</style>\n",
              "<table border=\"1\" class=\"dataframe\">\n",
              "  <thead>\n",
              "    <tr style=\"text-align: right;\">\n",
              "      <th></th>\n",
              "      <th>prediction</th>\n",
              "      <th>ArrDelay</th>\n",
              "    </tr>\n",
              "  </thead>\n",
              "  <tbody>\n",
              "    <tr>\n",
              "      <th>0</th>\n",
              "      <td>0.274872</td>\n",
              "      <td>0.235189</td>\n",
              "    </tr>\n",
              "    <tr>\n",
              "      <th>1</th>\n",
              "      <td>0.127107</td>\n",
              "      <td>0.132855</td>\n",
              "    </tr>\n",
              "    <tr>\n",
              "      <th>2</th>\n",
              "      <td>0.128169</td>\n",
              "      <td>0.141831</td>\n",
              "    </tr>\n",
              "    <tr>\n",
              "      <th>3</th>\n",
              "      <td>0.097390</td>\n",
              "      <td>0.098743</td>\n",
              "    </tr>\n",
              "    <tr>\n",
              "      <th>4</th>\n",
              "      <td>0.092144</td>\n",
              "      <td>0.070018</td>\n",
              "    </tr>\n",
              "  </tbody>\n",
              "</table>\n",
              "</div>\n",
              "      <button class=\"colab-df-convert\" onclick=\"convertToInteractive('df-a33e425d-bc41-452d-a549-a9903effb515')\"\n",
              "              title=\"Convert this dataframe to an interactive table.\"\n",
              "              style=\"display:none;\">\n",
              "        \n",
              "  <svg xmlns=\"http://www.w3.org/2000/svg\" height=\"24px\"viewBox=\"0 0 24 24\"\n",
              "       width=\"24px\">\n",
              "    <path d=\"M0 0h24v24H0V0z\" fill=\"none\"/>\n",
              "    <path d=\"M18.56 5.44l.94 2.06.94-2.06 2.06-.94-2.06-.94-.94-2.06-.94 2.06-2.06.94zm-11 1L8.5 8.5l.94-2.06 2.06-.94-2.06-.94L8.5 2.5l-.94 2.06-2.06.94zm10 10l.94 2.06.94-2.06 2.06-.94-2.06-.94-.94-2.06-.94 2.06-2.06.94z\"/><path d=\"M17.41 7.96l-1.37-1.37c-.4-.4-.92-.59-1.43-.59-.52 0-1.04.2-1.43.59L10.3 9.45l-7.72 7.72c-.78.78-.78 2.05 0 2.83L4 21.41c.39.39.9.59 1.41.59.51 0 1.02-.2 1.41-.59l7.78-7.78 2.81-2.81c.8-.78.8-2.07 0-2.86zM5.41 20L4 18.59l7.72-7.72 1.47 1.35L5.41 20z\"/>\n",
              "  </svg>\n",
              "      </button>\n",
              "      \n",
              "  <style>\n",
              "    .colab-df-container {\n",
              "      display:flex;\n",
              "      flex-wrap:wrap;\n",
              "      gap: 12px;\n",
              "    }\n",
              "\n",
              "    .colab-df-convert {\n",
              "      background-color: #E8F0FE;\n",
              "      border: none;\n",
              "      border-radius: 50%;\n",
              "      cursor: pointer;\n",
              "      display: none;\n",
              "      fill: #1967D2;\n",
              "      height: 32px;\n",
              "      padding: 0 0 0 0;\n",
              "      width: 32px;\n",
              "    }\n",
              "\n",
              "    .colab-df-convert:hover {\n",
              "      background-color: #E2EBFA;\n",
              "      box-shadow: 0px 1px 2px rgba(60, 64, 67, 0.3), 0px 1px 3px 1px rgba(60, 64, 67, 0.15);\n",
              "      fill: #174EA6;\n",
              "    }\n",
              "\n",
              "    [theme=dark] .colab-df-convert {\n",
              "      background-color: #3B4455;\n",
              "      fill: #D2E3FC;\n",
              "    }\n",
              "\n",
              "    [theme=dark] .colab-df-convert:hover {\n",
              "      background-color: #434B5C;\n",
              "      box-shadow: 0px 1px 3px 1px rgba(0, 0, 0, 0.15);\n",
              "      filter: drop-shadow(0px 1px 2px rgba(0, 0, 0, 0.3));\n",
              "      fill: #FFFFFF;\n",
              "    }\n",
              "  </style>\n",
              "\n",
              "      <script>\n",
              "        const buttonEl =\n",
              "          document.querySelector('#df-a33e425d-bc41-452d-a549-a9903effb515 button.colab-df-convert');\n",
              "        buttonEl.style.display =\n",
              "          google.colab.kernel.accessAllowed ? 'block' : 'none';\n",
              "\n",
              "        async function convertToInteractive(key) {\n",
              "          const element = document.querySelector('#df-a33e425d-bc41-452d-a549-a9903effb515');\n",
              "          const dataTable =\n",
              "            await google.colab.kernel.invokeFunction('convertToInteractive',\n",
              "                                                     [key], {});\n",
              "          if (!dataTable) return;\n",
              "\n",
              "          const docLinkHtml = 'Like what you see? Visit the ' +\n",
              "            '<a target=\"_blank\" href=https://colab.research.google.com/notebooks/data_table.ipynb>data table notebook</a>'\n",
              "            + ' to learn more about interactive tables.';\n",
              "          element.innerHTML = '';\n",
              "          dataTable['output_type'] = 'display_data';\n",
              "          await google.colab.output.renderOutput(dataTable, element);\n",
              "          const docLink = document.createElement('div');\n",
              "          docLink.innerHTML = docLinkHtml;\n",
              "          element.appendChild(docLink);\n",
              "        }\n",
              "      </script>\n",
              "    </div>\n",
              "  </div>\n",
              "  "
            ],
            "text/plain": [
              "   prediction  ArrDelay\n",
              "0    0.274872  0.235189\n",
              "1    0.127107  0.132855\n",
              "2    0.128169  0.141831\n",
              "3    0.097390  0.098743\n",
              "4    0.092144  0.070018"
            ]
          },
          "metadata": {},
          "execution_count": 60
        }
      ],
      "source": [
        "print(lr_prediction_sample_pd.info())\n",
        "lr_prediction_sample_pd.head(5)"
      ]
    },
    {
      "cell_type": "code",
      "execution_count": 61,
      "metadata": {
        "id": "lpttJ3QQw9c9"
      },
      "outputs": [],
      "source": [
        "lr_prediction_sample_pd['id'] = lr_prediction_sample_pd.index"
      ]
    },
    {
      "cell_type": "code",
      "execution_count": 62,
      "metadata": {
        "id": "wSaSyJHlw9c9",
        "outputId": "21291490-4fc1-4b5b-b627-4d4ca29b648b",
        "colab": {
          "base_uri": "https://localhost:8080/"
        }
      },
      "outputs": [
        {
          "output_type": "stream",
          "name": "stdout",
          "text": [
            "Requirement already satisfied: seaborn in /usr/local/lib/python3.7/dist-packages (0.11.2)\n",
            "Requirement already satisfied: scipy>=1.0 in /usr/local/lib/python3.7/dist-packages (from seaborn) (1.4.1)\n",
            "Requirement already satisfied: pandas>=0.23 in /usr/local/lib/python3.7/dist-packages (from seaborn) (1.1.5)\n",
            "Requirement already satisfied: numpy>=1.15 in /usr/local/lib/python3.7/dist-packages (from seaborn) (1.19.5)\n",
            "Requirement already satisfied: matplotlib>=2.2 in /usr/local/lib/python3.7/dist-packages (from seaborn) (3.2.2)\n",
            "Requirement already satisfied: cycler>=0.10 in /usr/local/lib/python3.7/dist-packages (from matplotlib>=2.2->seaborn) (0.11.0)\n",
            "Requirement already satisfied: kiwisolver>=1.0.1 in /usr/local/lib/python3.7/dist-packages (from matplotlib>=2.2->seaborn) (1.3.2)\n",
            "Requirement already satisfied: python-dateutil>=2.1 in /usr/local/lib/python3.7/dist-packages (from matplotlib>=2.2->seaborn) (2.8.2)\n",
            "Requirement already satisfied: pyparsing!=2.0.4,!=2.1.2,!=2.1.6,>=2.0.1 in /usr/local/lib/python3.7/dist-packages (from matplotlib>=2.2->seaborn) (3.0.6)\n",
            "Requirement already satisfied: pytz>=2017.2 in /usr/local/lib/python3.7/dist-packages (from pandas>=0.23->seaborn) (2018.9)\n",
            "Requirement already satisfied: six>=1.5 in /usr/local/lib/python3.7/dist-packages (from python-dateutil>=2.1->matplotlib>=2.2->seaborn) (1.15.0)\n"
          ]
        }
      ],
      "source": [
        "! pip install seaborn"
      ]
    },
    {
      "cell_type": "code",
      "execution_count": 63,
      "metadata": {
        "id": "ROO7KVCuw9c9"
      },
      "outputs": [],
      "source": [
        "import seaborn as sns\n",
        "import pandas as pd\n",
        "import numpy as np\n",
        "import matplotlib.pyplot as plt"
      ]
    },
    {
      "cell_type": "code",
      "execution_count": 64,
      "metadata": {
        "id": "0nfkwSAbw9c9",
        "outputId": "36ad8c24-7308-4084-be42-4b7641898b98",
        "colab": {
          "base_uri": "https://localhost:8080/",
          "height": 286
        }
      },
      "outputs": [
        {
          "output_type": "display_data",
          "data": {
            "image/png": "[encoded data removed]",
            "text/plain": [
              "<Figure size 432x288 with 1 Axes>"
            ]
          },
          "metadata": {
            "needs_background": "light"
          }
        }
      ],
      "source": [
        "plt.plot(lr_prediction_sample_pd['id'] , lr_prediction_sample_pd['ArrDelay'],label='Actual')\n",
        "#plt.plot(cv_prediction_sample_pd['id'] , cv_prediction_sample_pd['prediction'],label='CV_Prediction')\n",
        "plt.plot(lr_prediction_sample_pd['id'] , lr_prediction_sample_pd['prediction'],label='Prediction')\n",
        "plt.legend(bbox_to_anchor=(1.05, 1), loc=2, borderaxespad=0.001)\n",
        "plt.show()"
      ]
    },
    {
      "cell_type": "code",
      "execution_count": 65,
      "metadata": {
        "id": "Jj2bgGlzw9c9",
        "outputId": "1160814e-0f22-4f71-fa4d-d6d3434dee89",
        "colab": {
          "base_uri": "https://localhost:8080/"
        }
      },
      "outputs": [
        {
          "output_type": "execute_result",
          "data": {
            "text/plain": [
              "78826"
            ]
          },
          "metadata": {},
          "execution_count": 65
        }
      ],
      "source": [
        "training_df.count()"
      ]
    },
    {
      "cell_type": "markdown",
      "metadata": {
        "id": "a9nkD2mHw9c9"
      },
      "source": [
        "#### กรองบาง Tuples (Records) ทิ้งไปจาก testing set"
      ]
    },
    {
      "cell_type": "code",
      "execution_count": 66,
      "metadata": {
        "id": "RDqXC4faw9c-"
      },
      "outputs": [],
      "source": [
        "from pyspark.ml.evaluation import RegressionEvaluator"
      ]
    },
    {
      "cell_type": "markdown",
      "metadata": {
        "id": "NcVwvq68w9c-"
      },
      "source": [
        "#### นำโมเดลมาทำ Prediction ด้วยข้อมูล testing set ที่ไม่มีค่า Null และผ่านการกรองฯ แล้ว"
      ]
    },
    {
      "cell_type": "code",
      "execution_count": 67,
      "metadata": {
        "id": "98BXHLiAw9c-"
      },
      "outputs": [],
      "source": [
        "everesult_df = dtModel.transform(test_df.dropna())"
      ]
    },
    {
      "cell_type": "code",
      "execution_count": 68,
      "metadata": {
        "id": "rvE4S8rVw9c-",
        "outputId": "60107b94-ef8a-4772-f216-df6d6159949e",
        "colab": {
          "base_uri": "https://localhost:8080/"
        }
      },
      "outputs": [
        {
          "output_type": "stream",
          "name": "stdout",
          "text": [
            "R Squared (R2) on test data = 0.775154\n"
          ]
        }
      ],
      "source": [
        "lr_evaluator_r2 = RegressionEvaluator\\\n",
        "(predictionCol=\"prediction\",labelCol=\"ArrDelay\",metricName=\"r2\")\n",
        "print(\"R Squared (R2) on test data = %g\" \\\n",
        "      % lr_evaluator_r2.evaluate(everesult_df))"
      ]
    },
    {
      "cell_type": "code",
      "execution_count": 69,
      "metadata": {
        "id": "c9FqI0HAw9c-",
        "outputId": "cf043f1e-e06b-4305-d446-eda9aadd843f",
        "colab": {
          "base_uri": "https://localhost:8080/"
        }
      },
      "outputs": [
        {
          "output_type": "stream",
          "name": "stdout",
          "text": [
            "Root Mean Squared Error (RMSE) on test data = 0.0270928\n"
          ]
        }
      ],
      "source": [
        "lr_evaluator_rmse = RegressionEvaluator\\\n",
        "(predictionCol=\"prediction\",labelCol=\"ArrDelay\",metricName=\"rmse\")\n",
        "print(\"Root Mean Squared Error (RMSE) on test data = %g\" \\\n",
        "      % lr_evaluator_rmse.evaluate(everesult_df))"
      ]
    },
    {
      "cell_type": "code",
      "execution_count": 69,
      "metadata": {
        "id": "-N2Z4RlCw9c-"
      },
      "outputs": [],
      "source": [
        ""
      ]
    },
    {
      "cell_type": "code",
      "execution_count": 69,
      "metadata": {
        "id": "kfKFybyZw9c-"
      },
      "outputs": [],
      "source": [
        ""
      ]
    },
    {
      "cell_type": "code",
      "execution_count": 69,
      "metadata": {
        "id": "XvHfYO4Qw9c-"
      },
      "outputs": [],
      "source": [
        ""
      ]
    },
    {
      "cell_type": "code",
      "execution_count": 69,
      "metadata": {
        "id": "Id4Ayupvw9c-"
      },
      "outputs": [],
      "source": [
        ""
      ]
    },
    {
      "cell_type": "code",
      "execution_count": 69,
      "metadata": {
        "id": "fpXjzUHgw9c-"
      },
      "outputs": [],
      "source": [
        ""
      ]
    },
    {
      "cell_type": "code",
      "execution_count": 69,
      "metadata": {
        "id": "G-ssXQD2w9c-"
      },
      "outputs": [],
      "source": [
        ""
      ]
    },
    {
      "cell_type": "code",
      "execution_count": 69,
      "metadata": {
        "id": "OBp1WVo-w9c-"
      },
      "outputs": [],
      "source": [
        ""
      ]
    },
    {
      "cell_type": "code",
      "execution_count": 69,
      "metadata": {
        "id": "9EQaeFnUw9c-"
      },
      "outputs": [],
      "source": [
        ""
      ]
    },
    {
      "cell_type": "code",
      "execution_count": 69,
      "metadata": {
        "id": "K-0qD9-Lw9c-"
      },
      "outputs": [],
      "source": [
        ""
      ]
    }
  ],
  "metadata": {
    "kernelspec": {
      "display_name": "PySpark",
      "language": "python",
      "name": "pyspark"
    },
    "language_info": {
      "codemirror_mode": {
        "name": "ipython",
        "version": 3
      },
      "file_extension": ".py",
      "mimetype": "text/x-python",
      "name": "python",
      "nbconvert_exporter": "python",
      "pygments_lexer": "ipython3",
      "version": "3.7.4"
    },
    "colab": {
      "name": "5.LAB-Prediction_of_ArrDelay on Colab.ipynb",
      "provenance": [],
      "collapsed_sections": []
    }
  },
  "nbformat": 4,
  "nbformat_minor": 0
}