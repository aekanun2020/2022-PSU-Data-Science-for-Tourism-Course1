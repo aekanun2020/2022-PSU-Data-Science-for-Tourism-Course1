{
  "nbformat": 4,
  "nbformat_minor": 0,
  "metadata": {
    "kernelspec": {
      "display_name": "Python 3",
      "language": "python",
      "name": "python3"
    },
    "language_info": {
      "codemirror_mode": {
        "name": "ipython",
        "version": 3
      },
      "file_extension": ".py",
      "mimetype": "text/x-python",
      "name": "python",
      "nbconvert_exporter": "python",
      "pygments_lexer": "ipython3",
      "version": "3.6.1"
    },
    "colab": {
      "name": "4.LAB-Spark Data Frame for EDA and Data Prep.ipynb",
      "provenance": [],
      "collapsed_sections": []
    }
  },
  "cells": [
    {
      "cell_type": "code",
      "metadata": {
        "id": "0dTkA-bDa5bm"
      },
      "source": [
        "!apt-get install openjdk-8-jdk-headless -qq > /dev/null\n",
        "!wget -q https://archive.apache.org/dist/spark/spark-2.4.1/spark-2.4.1-bin-hadoop2.7.tgz\n",
        "!tar xf spark-2.4.1-bin-hadoop2.7.tgz\n",
        "!pip install -q findspark"
      ],
      "execution_count": 1,
      "outputs": []
    },
    {
      "cell_type": "code",
      "metadata": {
        "id": "cy4_WOqEa5GJ"
      },
      "source": [
        "import os\n",
        "os.environ[\"JAVA_HOME\"] = \"/usr/lib/jvm/java-8-openjdk-amd64\"\n",
        "os.environ[\"SPARK_HOME\"] = \"/content/spark-2.4.1-bin-hadoop2.7\""
      ],
      "execution_count": 2,
      "outputs": []
    },
    {
      "cell_type": "code",
      "metadata": {
        "id": "kI7zVpqja4du"
      },
      "source": [
        "import findspark\n",
        "findspark.init()\n",
        "from pyspark.sql import SparkSession\n",
        "spark = SparkSession.builder.master(\"local[*]\").getOrCreate()"
      ],
      "execution_count": 3,
      "outputs": []
    },
    {
      "cell_type": "code",
      "metadata": {
        "collapsed": true,
        "id": "gLOiqgf1a2Ku"
      },
      "source": [
        "from pyspark.sql import SparkSession"
      ],
      "execution_count": 4,
      "outputs": []
    },
    {
      "cell_type": "code",
      "metadata": {
        "collapsed": true,
        "id": "GBqMbCCxa2Kv"
      },
      "source": [
        "spark = SparkSession.builder \\\n",
        "   .appName(\"Neural Network Model\") \\\n",
        "   .config(\"spark.executor.memory\", \"3gb\") \\\n",
        "   .getOrCreate()\n",
        "   \n",
        "sc = spark.sparkContext"
      ],
      "execution_count": 5,
      "outputs": []
    },
    {
      "cell_type": "code",
      "metadata": {
        "id": "MjoDgjaja2Kv",
        "colab": {
          "base_uri": "https://localhost:8080/",
          "height": 210
        },
        "outputId": "ae188b2f-eb80-4117-e4f7-2f2aa03f7c1e"
      },
      "source": [
        "sc"
      ],
      "execution_count": 6,
      "outputs": [
        {
          "output_type": "execute_result",
          "data": {
            "text/html": [
              "\n",
              "        <div>\n",
              "            <p><b>SparkContext</b></p>\n",
              "\n",
              "            <p><a href=\"http://b48a84ba2573:4040\">Spark UI</a></p>\n",
              "\n",
              "            <dl>\n",
              "              <dt>Version</dt>\n",
              "                <dd><code>v2.4.1</code></dd>\n",
              "              <dt>Master</dt>\n",
              "                <dd><code>local[*]</code></dd>\n",
              "              <dt>AppName</dt>\n",
              "                <dd><code>pyspark-shell</code></dd>\n",
              "            </dl>\n",
              "        </div>\n",
              "        "
            ],
            "text/plain": [
              "<SparkContext master=local[*] appName=pyspark-shell>"
            ]
          },
          "metadata": {},
          "execution_count": 6
        }
      ]
    },
    {
      "cell_type": "code",
      "source": [
        "from pyspark.sql.functions import *\n",
        "\n",
        "# Define a dataset.\n",
        "\n",
        "df = sc.parallelize([\n",
        "    (10, '', 10000), (20, 'Female', 30000), (None, 'Male', 80000), (None, 'Male', 5000)\n",
        "]).toDF([\"age\", \"gender\", \"income\"])\n",
        "\n",
        "df.show()\n"
      ],
      "metadata": {
        "id": "M3f3enA8rGBe",
        "colab": {
          "base_uri": "https://localhost:8080/"
        },
        "outputId": "c997735b-4919-421b-d2a0-f37d8c562bfc"
      },
      "execution_count": 7,
      "outputs": [
        {
          "output_type": "stream",
          "name": "stdout",
          "text": [
            "+----+------+------+\n",
            "| age|gender|income|\n",
            "+----+------+------+\n",
            "|  10|      | 10000|\n",
            "|  20|Female| 30000|\n",
            "|null|  Male| 80000|\n",
            "|null|  Male|  5000|\n",
            "+----+------+------+\n",
            "\n"
          ]
        }
      ]
    },
    {
      "cell_type": "code",
      "source": [
        "df.describe().show()"
      ],
      "metadata": {
        "colab": {
          "base_uri": "https://localhost:8080/"
        },
        "id": "Lr4pOmRgsXVP",
        "outputId": "4ac9debb-ce57-497a-e6f1-6039abee9c0b"
      },
      "execution_count": 8,
      "outputs": [
        {
          "output_type": "stream",
          "name": "stdout",
          "text": [
            "+-------+------------------+------+-----------------+\n",
            "|summary|               age|gender|           income|\n",
            "+-------+------------------+------+-----------------+\n",
            "|  count|                 2|     4|                4|\n",
            "|   mean|              15.0|  null|          31250.0|\n",
            "| stddev|7.0710678118654755|  null|34247.87098005753|\n",
            "|    min|                10|      |             5000|\n",
            "|    max|                20|  Male|            80000|\n",
            "+-------+------------------+------+-----------------+\n",
            "\n"
          ]
        }
      ]
    },
    {
      "cell_type": "code",
      "source": [
        "# Treat Null Value (None) with Average one.\n",
        "\n",
        "avg_age = df.na.drop().agg(avg(\"age\")).collect()[0][0]\n",
        "\n",
        "sparkf_replaceNull = udf(lambda x: avg_age if x == None else x)\n",
        "\n",
        "no_null_df = df.withColumn('age', sparkf_replaceNull(col('age')))\n",
        "\n",
        "no_null_df.show()\n"
      ],
      "metadata": {
        "colab": {
          "base_uri": "https://localhost:8080/"
        },
        "id": "jSXHC9XGsd7M",
        "outputId": "061d8995-2155-45e0-8b43-2c05a2050b15"
      },
      "execution_count": 9,
      "outputs": [
        {
          "output_type": "stream",
          "name": "stdout",
          "text": [
            "+----+------+------+\n",
            "| age|gender|income|\n",
            "+----+------+------+\n",
            "|  10|      | 10000|\n",
            "|  20|Female| 30000|\n",
            "|15.0|  Male| 80000|\n",
            "|15.0|  Male|  5000|\n",
            "+----+------+------+\n",
            "\n"
          ]
        }
      ]
    },
    {
      "cell_type": "code",
      "source": [
        "# Treat Empty Value with Defined Values.\n",
        "\n",
        "from pyspark.sql.functions import *\n",
        "\n",
        "treat_missing = udf(lambda x: \"Male_Assume\" if x == \"\" else x)\n",
        "\n",
        "no_missing_df = no_null_df.withColumn('new_gender',treat_missing(no_null_df.gender))\n",
        "\n",
        "no_missing_df.show()\n"
      ],
      "metadata": {
        "colab": {
          "base_uri": "https://localhost:8080/"
        },
        "id": "zTj2tXnnsiue",
        "outputId": "ac7232e0-2416-468d-90d0-178a7798c37f"
      },
      "execution_count": 10,
      "outputs": [
        {
          "output_type": "stream",
          "name": "stdout",
          "text": [
            "+----+------+------+-----------+\n",
            "| age|gender|income| new_gender|\n",
            "+----+------+------+-----------+\n",
            "|  10|      | 10000|Male_Assume|\n",
            "|  20|Female| 30000|     Female|\n",
            "|15.0|  Male| 80000|       Male|\n",
            "|15.0|  Male|  5000|       Male|\n",
            "+----+------+------+-----------+\n",
            "\n"
          ]
        }
      ]
    },
    {
      "cell_type": "code",
      "source": [
        "# Treat Outliner with Remove one.\n",
        "\n",
        "no_outlier_df = no_missing_df.filter(col('income') >= 10000)\n",
        "\n",
        "no_outlier_df .show()\n"
      ],
      "metadata": {
        "colab": {
          "base_uri": "https://localhost:8080/"
        },
        "id": "gtYmhLYbstV9",
        "outputId": "4c28c891-5f19-4243-838b-7570df6b1614"
      },
      "execution_count": 11,
      "outputs": [
        {
          "output_type": "stream",
          "name": "stdout",
          "text": [
            "+----+------+------+-----------+\n",
            "| age|gender|income| new_gender|\n",
            "+----+------+------+-----------+\n",
            "|  10|      | 10000|Male_Assume|\n",
            "|  20|Female| 30000|     Female|\n",
            "|15.0|  Male| 80000|       Male|\n",
            "+----+------+------+-----------+\n",
            "\n"
          ]
        }
      ]
    },
    {
      "cell_type": "code",
      "source": [
        ""
      ],
      "metadata": {
        "id": "m9R9UdH6syer"
      },
      "execution_count": null,
      "outputs": []
    }
  ]
}